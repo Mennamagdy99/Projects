{
 "cells": [
  {
   "cell_type": "markdown",
   "id": "87b2ccdc",
   "metadata": {},
   "source": [
    "# Toxic Comments Classification\n",
    "\n",
    "\n",
    "- Detecting toxic comments on social media platforms is important for various reasons. Firstly, it ensures online safety by identifying which helps platforms take appropriate actions to maintain a safer online community. Secondly, it improves user experience by filtering out toxic comments, promoting healthy discussions, and fostering positive interactions. Moreover, it aids in identifying patterns and sources of toxicity, allowing targeted interventions and the development of policies to address underlying issues. Lastly, by promptly addressing toxic comments, businesses can protect their brand reputation and demonstrate a commitment to fostering a positive online environment. Overall, toxic comment classification plays a vital role in creating a healthier digital space for communication and information sharing.\n",
    "\n",
    "\n",
    "\n",
    "- An NLP pipeline was implemented in this notebook to check if comments include any toxic material, including:\n",
    "    - Toxic\n",
    "    - Severe Toxic \n",
    "    - Obscene\n",
    "    - Threat\n",
    "    - Insult \n",
    "    - Identity Hate"
   ]
  },
  {
   "cell_type": "markdown",
   "id": "a786d1be",
   "metadata": {},
   "source": [
    "# Import Libraries"
   ]
  },
  {
   "cell_type": "code",
   "execution_count": 1,
   "id": "b0cf4e70",
   "metadata": {},
   "outputs": [],
   "source": [
    "import pandas as pd\n",
    "import nltk\n",
    "import numpy as np\n",
    "import seaborn as sns\n",
    "from sklearn.model_selection import train_test_split\n",
    "from sklearn.feature_extraction.text import TfidfVectorizer\n",
    "from bs4 import BeautifulSoup\n",
    "from imblearn.over_sampling import SMOTE\n",
    "from imblearn.over_sampling import ADASYN\n",
    "from sklearn.ensemble import GradientBoostingClassifier\n",
    "from numpy import loadtxt\n",
    "from xgboost import XGBClassifier\n",
    "from sklearn.ensemble import RandomForestClassifier\n",
    "from sklearn.linear_model import LogisticRegression\n",
    "from sklearn.tree import DecisionTreeClassifier\n",
    "from sklearn.naive_bayes import GaussianNB\n",
    "from sklearn.discriminant_analysis import LinearDiscriminantAnalysis\n",
    "from sklearn.discriminant_analysis import QuadraticDiscriminantAnalysis\n",
    "from sklearn.neighbors import KNeighborsClassifier\n",
    "from imblearn.metrics import geometric_mean_score\n",
    "from sklearn.metrics import accuracy_score\n",
    "from sklearn.metrics import f1_score\n",
    "from sklearn.metrics import classification_report\n",
    "from collections import Counter\n",
    "import re\n",
    "from nltk.corpus import stopwords"
   ]
  },
  {
   "cell_type": "markdown",
   "id": "15591cb1",
   "metadata": {},
   "source": [
    "-----------------------------------------------------------------------------------"
   ]
  },
  {
   "cell_type": "markdown",
   "id": "adbbc157",
   "metadata": {},
   "source": [
    "# Load Data\n",
    "\n",
    "- Loaded the `Toxic_comments_classification` dataset using Pandas. The dataset can be found at https://www.kaggle.com/competitions/jigsaw-toxic-comment-classification-challenge/data"
   ]
  },
  {
   "cell_type": "code",
   "execution_count": 2,
   "id": "f14c732d",
   "metadata": {},
   "outputs": [
    {
     "data": {
      "text/html": [
       "<div>\n",
       "<style scoped>\n",
       "    .dataframe tbody tr th:only-of-type {\n",
       "        vertical-align: middle;\n",
       "    }\n",
       "\n",
       "    .dataframe tbody tr th {\n",
       "        vertical-align: top;\n",
       "    }\n",
       "\n",
       "    .dataframe thead th {\n",
       "        text-align: right;\n",
       "    }\n",
       "</style>\n",
       "<table border=\"1\" class=\"dataframe\">\n",
       "  <thead>\n",
       "    <tr style=\"text-align: right;\">\n",
       "      <th></th>\n",
       "      <th>id</th>\n",
       "      <th>comment_text</th>\n",
       "      <th>toxic</th>\n",
       "      <th>severe_toxic</th>\n",
       "      <th>obscene</th>\n",
       "      <th>threat</th>\n",
       "      <th>insult</th>\n",
       "      <th>identity_hate</th>\n",
       "    </tr>\n",
       "  </thead>\n",
       "  <tbody>\n",
       "    <tr>\n",
       "      <th>0</th>\n",
       "      <td>0000997932d777bf</td>\n",
       "      <td>Explanation\\nWhy the edits made under my usern...</td>\n",
       "      <td>0</td>\n",
       "      <td>0</td>\n",
       "      <td>0</td>\n",
       "      <td>0</td>\n",
       "      <td>0</td>\n",
       "      <td>0</td>\n",
       "    </tr>\n",
       "    <tr>\n",
       "      <th>1</th>\n",
       "      <td>000103f0d9cfb60f</td>\n",
       "      <td>D'aww! He matches this background colour I'm s...</td>\n",
       "      <td>0</td>\n",
       "      <td>0</td>\n",
       "      <td>0</td>\n",
       "      <td>0</td>\n",
       "      <td>0</td>\n",
       "      <td>0</td>\n",
       "    </tr>\n",
       "    <tr>\n",
       "      <th>2</th>\n",
       "      <td>000113f07ec002fd</td>\n",
       "      <td>Hey man, I'm really not trying to edit war. It...</td>\n",
       "      <td>0</td>\n",
       "      <td>0</td>\n",
       "      <td>0</td>\n",
       "      <td>0</td>\n",
       "      <td>0</td>\n",
       "      <td>0</td>\n",
       "    </tr>\n",
       "    <tr>\n",
       "      <th>3</th>\n",
       "      <td>0001b41b1c6bb37e</td>\n",
       "      <td>\"\\nMore\\nI can't make any real suggestions on ...</td>\n",
       "      <td>0</td>\n",
       "      <td>0</td>\n",
       "      <td>0</td>\n",
       "      <td>0</td>\n",
       "      <td>0</td>\n",
       "      <td>0</td>\n",
       "    </tr>\n",
       "    <tr>\n",
       "      <th>4</th>\n",
       "      <td>0001d958c54c6e35</td>\n",
       "      <td>You, sir, are my hero. Any chance you remember...</td>\n",
       "      <td>0</td>\n",
       "      <td>0</td>\n",
       "      <td>0</td>\n",
       "      <td>0</td>\n",
       "      <td>0</td>\n",
       "      <td>0</td>\n",
       "    </tr>\n",
       "    <tr>\n",
       "      <th>...</th>\n",
       "      <td>...</td>\n",
       "      <td>...</td>\n",
       "      <td>...</td>\n",
       "      <td>...</td>\n",
       "      <td>...</td>\n",
       "      <td>...</td>\n",
       "      <td>...</td>\n",
       "      <td>...</td>\n",
       "    </tr>\n",
       "    <tr>\n",
       "      <th>159566</th>\n",
       "      <td>ffe987279560d7ff</td>\n",
       "      <td>\":::::And for the second time of asking, when ...</td>\n",
       "      <td>0</td>\n",
       "      <td>0</td>\n",
       "      <td>0</td>\n",
       "      <td>0</td>\n",
       "      <td>0</td>\n",
       "      <td>0</td>\n",
       "    </tr>\n",
       "    <tr>\n",
       "      <th>159567</th>\n",
       "      <td>ffea4adeee384e90</td>\n",
       "      <td>You should be ashamed of yourself \\n\\nThat is ...</td>\n",
       "      <td>0</td>\n",
       "      <td>0</td>\n",
       "      <td>0</td>\n",
       "      <td>0</td>\n",
       "      <td>0</td>\n",
       "      <td>0</td>\n",
       "    </tr>\n",
       "    <tr>\n",
       "      <th>159568</th>\n",
       "      <td>ffee36eab5c267c9</td>\n",
       "      <td>Spitzer \\n\\nUmm, theres no actual article for ...</td>\n",
       "      <td>0</td>\n",
       "      <td>0</td>\n",
       "      <td>0</td>\n",
       "      <td>0</td>\n",
       "      <td>0</td>\n",
       "      <td>0</td>\n",
       "    </tr>\n",
       "    <tr>\n",
       "      <th>159569</th>\n",
       "      <td>fff125370e4aaaf3</td>\n",
       "      <td>And it looks like it was actually you who put ...</td>\n",
       "      <td>0</td>\n",
       "      <td>0</td>\n",
       "      <td>0</td>\n",
       "      <td>0</td>\n",
       "      <td>0</td>\n",
       "      <td>0</td>\n",
       "    </tr>\n",
       "    <tr>\n",
       "      <th>159570</th>\n",
       "      <td>fff46fc426af1f9a</td>\n",
       "      <td>\"\\nAnd ... I really don't think you understand...</td>\n",
       "      <td>0</td>\n",
       "      <td>0</td>\n",
       "      <td>0</td>\n",
       "      <td>0</td>\n",
       "      <td>0</td>\n",
       "      <td>0</td>\n",
       "    </tr>\n",
       "  </tbody>\n",
       "</table>\n",
       "<p>159571 rows × 8 columns</p>\n",
       "</div>"
      ],
      "text/plain": [
       "                      id                                       comment_text  \\\n",
       "0       0000997932d777bf  Explanation\\nWhy the edits made under my usern...   \n",
       "1       000103f0d9cfb60f  D'aww! He matches this background colour I'm s...   \n",
       "2       000113f07ec002fd  Hey man, I'm really not trying to edit war. It...   \n",
       "3       0001b41b1c6bb37e  \"\\nMore\\nI can't make any real suggestions on ...   \n",
       "4       0001d958c54c6e35  You, sir, are my hero. Any chance you remember...   \n",
       "...                  ...                                                ...   \n",
       "159566  ffe987279560d7ff  \":::::And for the second time of asking, when ...   \n",
       "159567  ffea4adeee384e90  You should be ashamed of yourself \\n\\nThat is ...   \n",
       "159568  ffee36eab5c267c9  Spitzer \\n\\nUmm, theres no actual article for ...   \n",
       "159569  fff125370e4aaaf3  And it looks like it was actually you who put ...   \n",
       "159570  fff46fc426af1f9a  \"\\nAnd ... I really don't think you understand...   \n",
       "\n",
       "        toxic  severe_toxic  obscene  threat  insult  identity_hate  \n",
       "0           0             0        0       0       0              0  \n",
       "1           0             0        0       0       0              0  \n",
       "2           0             0        0       0       0              0  \n",
       "3           0             0        0       0       0              0  \n",
       "4           0             0        0       0       0              0  \n",
       "...       ...           ...      ...     ...     ...            ...  \n",
       "159566      0             0        0       0       0              0  \n",
       "159567      0             0        0       0       0              0  \n",
       "159568      0             0        0       0       0              0  \n",
       "159569      0             0        0       0       0              0  \n",
       "159570      0             0        0       0       0              0  \n",
       "\n",
       "[159571 rows x 8 columns]"
      ]
     },
     "execution_count": 2,
     "metadata": {},
     "output_type": "execute_result"
    }
   ],
   "source": [
    "#Load dataset\n",
    "df = pd.read_csv(\"E:\\\\Documents\\\\Masters\\\\NLP\\\\Toxic Comments classification\\\\train.csv\")\n",
    "df"
   ]
  },
  {
   "cell_type": "markdown",
   "id": "12213fcc",
   "metadata": {},
   "source": [
    "-----------------------------------------------------------------------------------"
   ]
  },
  {
   "cell_type": "markdown",
   "id": "fd3f1b3b",
   "metadata": {},
   "source": [
    "# Data Exploration and Preprocessing\n",
    "\n",
    "- Checked the dimensions of the data\n",
    "- Reshaped the data to include a new column `is_toxic` which is flagged as 1 (Toxic) if the comment includes any of the toxic classification (Toxic, Severe Toxic, Obscene, Threat, Insult and Identity Hate).\n",
    "- Dropped all columns except for `comment_text` and `is_toxic` as comments wil be classified as Toxic or Not.\n",
    "- Checked class distribution of label (`is_toxic`)\n",
    "    - Data was found highly imbalanced\n",
    "- Took a sample of 1000 records as the dataset is too large which will be computationally challenging.\n",
    "- Rechecked class balance of Target class after sampling."
   ]
  },
  {
   "cell_type": "code",
   "execution_count": 28,
   "id": "30811b59",
   "metadata": {},
   "outputs": [
    {
     "name": "stdout",
     "output_type": "stream",
     "text": [
      "The dimensions of the whole dataset:  (159571, 2)\n"
     ]
    }
   ],
   "source": [
    "#Shape of the dataset\n",
    "print(\"The dimensions of the whole dataset: \", df.shape)"
   ]
  },
  {
   "cell_type": "code",
   "execution_count": 3,
   "id": "42e517ea",
   "metadata": {},
   "outputs": [
    {
     "data": {
      "text/html": [
       "<div>\n",
       "<style scoped>\n",
       "    .dataframe tbody tr th:only-of-type {\n",
       "        vertical-align: middle;\n",
       "    }\n",
       "\n",
       "    .dataframe tbody tr th {\n",
       "        vertical-align: top;\n",
       "    }\n",
       "\n",
       "    .dataframe thead th {\n",
       "        text-align: right;\n",
       "    }\n",
       "</style>\n",
       "<table border=\"1\" class=\"dataframe\">\n",
       "  <thead>\n",
       "    <tr style=\"text-align: right;\">\n",
       "      <th></th>\n",
       "      <th>id</th>\n",
       "      <th>comment_text</th>\n",
       "      <th>toxic</th>\n",
       "      <th>severe_toxic</th>\n",
       "      <th>obscene</th>\n",
       "      <th>threat</th>\n",
       "      <th>insult</th>\n",
       "      <th>identity_hate</th>\n",
       "      <th>isToxic</th>\n",
       "    </tr>\n",
       "  </thead>\n",
       "  <tbody>\n",
       "    <tr>\n",
       "      <th>0</th>\n",
       "      <td>0000997932d777bf</td>\n",
       "      <td>Explanation\\nWhy the edits made under my usern...</td>\n",
       "      <td>0</td>\n",
       "      <td>0</td>\n",
       "      <td>0</td>\n",
       "      <td>0</td>\n",
       "      <td>0</td>\n",
       "      <td>0</td>\n",
       "      <td>0</td>\n",
       "    </tr>\n",
       "    <tr>\n",
       "      <th>1</th>\n",
       "      <td>000103f0d9cfb60f</td>\n",
       "      <td>D'aww! He matches this background colour I'm s...</td>\n",
       "      <td>0</td>\n",
       "      <td>0</td>\n",
       "      <td>0</td>\n",
       "      <td>0</td>\n",
       "      <td>0</td>\n",
       "      <td>0</td>\n",
       "      <td>0</td>\n",
       "    </tr>\n",
       "    <tr>\n",
       "      <th>2</th>\n",
       "      <td>000113f07ec002fd</td>\n",
       "      <td>Hey man, I'm really not trying to edit war. It...</td>\n",
       "      <td>0</td>\n",
       "      <td>0</td>\n",
       "      <td>0</td>\n",
       "      <td>0</td>\n",
       "      <td>0</td>\n",
       "      <td>0</td>\n",
       "      <td>0</td>\n",
       "    </tr>\n",
       "    <tr>\n",
       "      <th>3</th>\n",
       "      <td>0001b41b1c6bb37e</td>\n",
       "      <td>\"\\nMore\\nI can't make any real suggestions on ...</td>\n",
       "      <td>0</td>\n",
       "      <td>0</td>\n",
       "      <td>0</td>\n",
       "      <td>0</td>\n",
       "      <td>0</td>\n",
       "      <td>0</td>\n",
       "      <td>0</td>\n",
       "    </tr>\n",
       "    <tr>\n",
       "      <th>4</th>\n",
       "      <td>0001d958c54c6e35</td>\n",
       "      <td>You, sir, are my hero. Any chance you remember...</td>\n",
       "      <td>0</td>\n",
       "      <td>0</td>\n",
       "      <td>0</td>\n",
       "      <td>0</td>\n",
       "      <td>0</td>\n",
       "      <td>0</td>\n",
       "      <td>0</td>\n",
       "    </tr>\n",
       "    <tr>\n",
       "      <th>5</th>\n",
       "      <td>00025465d4725e87</td>\n",
       "      <td>\"\\n\\nCongratulations from me as well, use the ...</td>\n",
       "      <td>0</td>\n",
       "      <td>0</td>\n",
       "      <td>0</td>\n",
       "      <td>0</td>\n",
       "      <td>0</td>\n",
       "      <td>0</td>\n",
       "      <td>0</td>\n",
       "    </tr>\n",
       "    <tr>\n",
       "      <th>6</th>\n",
       "      <td>0002bcb3da6cb337</td>\n",
       "      <td>COCKSUCKER BEFORE YOU PISS AROUND ON MY WORK</td>\n",
       "      <td>1</td>\n",
       "      <td>1</td>\n",
       "      <td>1</td>\n",
       "      <td>0</td>\n",
       "      <td>1</td>\n",
       "      <td>0</td>\n",
       "      <td>1</td>\n",
       "    </tr>\n",
       "    <tr>\n",
       "      <th>7</th>\n",
       "      <td>00031b1e95af7921</td>\n",
       "      <td>Your vandalism to the Matt Shirvington article...</td>\n",
       "      <td>0</td>\n",
       "      <td>0</td>\n",
       "      <td>0</td>\n",
       "      <td>0</td>\n",
       "      <td>0</td>\n",
       "      <td>0</td>\n",
       "      <td>0</td>\n",
       "    </tr>\n",
       "    <tr>\n",
       "      <th>8</th>\n",
       "      <td>00037261f536c51d</td>\n",
       "      <td>Sorry if the word 'nonsense' was offensive to ...</td>\n",
       "      <td>0</td>\n",
       "      <td>0</td>\n",
       "      <td>0</td>\n",
       "      <td>0</td>\n",
       "      <td>0</td>\n",
       "      <td>0</td>\n",
       "      <td>0</td>\n",
       "    </tr>\n",
       "    <tr>\n",
       "      <th>9</th>\n",
       "      <td>00040093b2687caa</td>\n",
       "      <td>alignment on this subject and which are contra...</td>\n",
       "      <td>0</td>\n",
       "      <td>0</td>\n",
       "      <td>0</td>\n",
       "      <td>0</td>\n",
       "      <td>0</td>\n",
       "      <td>0</td>\n",
       "      <td>0</td>\n",
       "    </tr>\n",
       "    <tr>\n",
       "      <th>10</th>\n",
       "      <td>0005300084f90edc</td>\n",
       "      <td>\"\\nFair use rationale for Image:Wonju.jpg\\n\\nT...</td>\n",
       "      <td>0</td>\n",
       "      <td>0</td>\n",
       "      <td>0</td>\n",
       "      <td>0</td>\n",
       "      <td>0</td>\n",
       "      <td>0</td>\n",
       "      <td>0</td>\n",
       "    </tr>\n",
       "    <tr>\n",
       "      <th>11</th>\n",
       "      <td>00054a5e18b50dd4</td>\n",
       "      <td>bbq \\n\\nbe a man and lets discuss it-maybe ove...</td>\n",
       "      <td>0</td>\n",
       "      <td>0</td>\n",
       "      <td>0</td>\n",
       "      <td>0</td>\n",
       "      <td>0</td>\n",
       "      <td>0</td>\n",
       "      <td>0</td>\n",
       "    </tr>\n",
       "    <tr>\n",
       "      <th>12</th>\n",
       "      <td>0005c987bdfc9d4b</td>\n",
       "      <td>Hey... what is it..\\n@ | talk .\\nWhat is it......</td>\n",
       "      <td>1</td>\n",
       "      <td>0</td>\n",
       "      <td>0</td>\n",
       "      <td>0</td>\n",
       "      <td>0</td>\n",
       "      <td>0</td>\n",
       "      <td>1</td>\n",
       "    </tr>\n",
       "    <tr>\n",
       "      <th>13</th>\n",
       "      <td>0006f16e4e9f292e</td>\n",
       "      <td>Before you start throwing accusations and warn...</td>\n",
       "      <td>0</td>\n",
       "      <td>0</td>\n",
       "      <td>0</td>\n",
       "      <td>0</td>\n",
       "      <td>0</td>\n",
       "      <td>0</td>\n",
       "      <td>0</td>\n",
       "    </tr>\n",
       "    <tr>\n",
       "      <th>14</th>\n",
       "      <td>00070ef96486d6f9</td>\n",
       "      <td>Oh, and the girl above started her arguments w...</td>\n",
       "      <td>0</td>\n",
       "      <td>0</td>\n",
       "      <td>0</td>\n",
       "      <td>0</td>\n",
       "      <td>0</td>\n",
       "      <td>0</td>\n",
       "      <td>0</td>\n",
       "    </tr>\n",
       "    <tr>\n",
       "      <th>15</th>\n",
       "      <td>00078f8ce7eb276d</td>\n",
       "      <td>\"\\n\\nJuelz Santanas Age\\n\\nIn 2002, Juelz Sant...</td>\n",
       "      <td>0</td>\n",
       "      <td>0</td>\n",
       "      <td>0</td>\n",
       "      <td>0</td>\n",
       "      <td>0</td>\n",
       "      <td>0</td>\n",
       "      <td>0</td>\n",
       "    </tr>\n",
       "    <tr>\n",
       "      <th>16</th>\n",
       "      <td>0007e25b2121310b</td>\n",
       "      <td>Bye! \\n\\nDon't look, come or think of comming ...</td>\n",
       "      <td>1</td>\n",
       "      <td>0</td>\n",
       "      <td>0</td>\n",
       "      <td>0</td>\n",
       "      <td>0</td>\n",
       "      <td>0</td>\n",
       "      <td>1</td>\n",
       "    </tr>\n",
       "    <tr>\n",
       "      <th>17</th>\n",
       "      <td>000897889268bc93</td>\n",
       "      <td>REDIRECT Talk:Voydan Pop Georgiev- Chernodrinski</td>\n",
       "      <td>0</td>\n",
       "      <td>0</td>\n",
       "      <td>0</td>\n",
       "      <td>0</td>\n",
       "      <td>0</td>\n",
       "      <td>0</td>\n",
       "      <td>0</td>\n",
       "    </tr>\n",
       "    <tr>\n",
       "      <th>18</th>\n",
       "      <td>0009801bd85e5806</td>\n",
       "      <td>The Mitsurugi point made no sense - why not ar...</td>\n",
       "      <td>0</td>\n",
       "      <td>0</td>\n",
       "      <td>0</td>\n",
       "      <td>0</td>\n",
       "      <td>0</td>\n",
       "      <td>0</td>\n",
       "      <td>0</td>\n",
       "    </tr>\n",
       "    <tr>\n",
       "      <th>19</th>\n",
       "      <td>0009eaea3325de8c</td>\n",
       "      <td>Don't mean to bother you \\n\\nI see that you're...</td>\n",
       "      <td>0</td>\n",
       "      <td>0</td>\n",
       "      <td>0</td>\n",
       "      <td>0</td>\n",
       "      <td>0</td>\n",
       "      <td>0</td>\n",
       "      <td>0</td>\n",
       "    </tr>\n",
       "  </tbody>\n",
       "</table>\n",
       "</div>"
      ],
      "text/plain": [
       "                  id                                       comment_text  \\\n",
       "0   0000997932d777bf  Explanation\\nWhy the edits made under my usern...   \n",
       "1   000103f0d9cfb60f  D'aww! He matches this background colour I'm s...   \n",
       "2   000113f07ec002fd  Hey man, I'm really not trying to edit war. It...   \n",
       "3   0001b41b1c6bb37e  \"\\nMore\\nI can't make any real suggestions on ...   \n",
       "4   0001d958c54c6e35  You, sir, are my hero. Any chance you remember...   \n",
       "5   00025465d4725e87  \"\\n\\nCongratulations from me as well, use the ...   \n",
       "6   0002bcb3da6cb337       COCKSUCKER BEFORE YOU PISS AROUND ON MY WORK   \n",
       "7   00031b1e95af7921  Your vandalism to the Matt Shirvington article...   \n",
       "8   00037261f536c51d  Sorry if the word 'nonsense' was offensive to ...   \n",
       "9   00040093b2687caa  alignment on this subject and which are contra...   \n",
       "10  0005300084f90edc  \"\\nFair use rationale for Image:Wonju.jpg\\n\\nT...   \n",
       "11  00054a5e18b50dd4  bbq \\n\\nbe a man and lets discuss it-maybe ove...   \n",
       "12  0005c987bdfc9d4b  Hey... what is it..\\n@ | talk .\\nWhat is it......   \n",
       "13  0006f16e4e9f292e  Before you start throwing accusations and warn...   \n",
       "14  00070ef96486d6f9  Oh, and the girl above started her arguments w...   \n",
       "15  00078f8ce7eb276d  \"\\n\\nJuelz Santanas Age\\n\\nIn 2002, Juelz Sant...   \n",
       "16  0007e25b2121310b  Bye! \\n\\nDon't look, come or think of comming ...   \n",
       "17  000897889268bc93   REDIRECT Talk:Voydan Pop Georgiev- Chernodrinski   \n",
       "18  0009801bd85e5806  The Mitsurugi point made no sense - why not ar...   \n",
       "19  0009eaea3325de8c  Don't mean to bother you \\n\\nI see that you're...   \n",
       "\n",
       "    toxic  severe_toxic  obscene  threat  insult  identity_hate  isToxic  \n",
       "0       0             0        0       0       0              0        0  \n",
       "1       0             0        0       0       0              0        0  \n",
       "2       0             0        0       0       0              0        0  \n",
       "3       0             0        0       0       0              0        0  \n",
       "4       0             0        0       0       0              0        0  \n",
       "5       0             0        0       0       0              0        0  \n",
       "6       1             1        1       0       1              0        1  \n",
       "7       0             0        0       0       0              0        0  \n",
       "8       0             0        0       0       0              0        0  \n",
       "9       0             0        0       0       0              0        0  \n",
       "10      0             0        0       0       0              0        0  \n",
       "11      0             0        0       0       0              0        0  \n",
       "12      1             0        0       0       0              0        1  \n",
       "13      0             0        0       0       0              0        0  \n",
       "14      0             0        0       0       0              0        0  \n",
       "15      0             0        0       0       0              0        0  \n",
       "16      1             0        0       0       0              0        1  \n",
       "17      0             0        0       0       0              0        0  \n",
       "18      0             0        0       0       0              0        0  \n",
       "19      0             0        0       0       0              0        0  "
      ]
     },
     "execution_count": 3,
     "metadata": {},
     "output_type": "execute_result"
    }
   ],
   "source": [
    "# Create a new column 'isToxic'\n",
    "df['isToxic'] = (df[['toxic', 'severe_toxic', 'obscene', 'threat', 'insult', 'identity_hate']] == 1).any(axis=1).astype(int)\n",
    "df.head(20)"
   ]
  },
  {
   "cell_type": "code",
   "execution_count": 4,
   "id": "51092890",
   "metadata": {
    "scrolled": false
   },
   "outputs": [
    {
     "data": {
      "text/html": [
       "<div>\n",
       "<style scoped>\n",
       "    .dataframe tbody tr th:only-of-type {\n",
       "        vertical-align: middle;\n",
       "    }\n",
       "\n",
       "    .dataframe tbody tr th {\n",
       "        vertical-align: top;\n",
       "    }\n",
       "\n",
       "    .dataframe thead th {\n",
       "        text-align: right;\n",
       "    }\n",
       "</style>\n",
       "<table border=\"1\" class=\"dataframe\">\n",
       "  <thead>\n",
       "    <tr style=\"text-align: right;\">\n",
       "      <th></th>\n",
       "      <th>comment_text</th>\n",
       "      <th>isToxic</th>\n",
       "    </tr>\n",
       "  </thead>\n",
       "  <tbody>\n",
       "    <tr>\n",
       "      <th>0</th>\n",
       "      <td>Explanation\\nWhy the edits made under my usern...</td>\n",
       "      <td>0</td>\n",
       "    </tr>\n",
       "    <tr>\n",
       "      <th>1</th>\n",
       "      <td>D'aww! He matches this background colour I'm s...</td>\n",
       "      <td>0</td>\n",
       "    </tr>\n",
       "    <tr>\n",
       "      <th>2</th>\n",
       "      <td>Hey man, I'm really not trying to edit war. It...</td>\n",
       "      <td>0</td>\n",
       "    </tr>\n",
       "    <tr>\n",
       "      <th>3</th>\n",
       "      <td>\"\\nMore\\nI can't make any real suggestions on ...</td>\n",
       "      <td>0</td>\n",
       "    </tr>\n",
       "    <tr>\n",
       "      <th>4</th>\n",
       "      <td>You, sir, are my hero. Any chance you remember...</td>\n",
       "      <td>0</td>\n",
       "    </tr>\n",
       "    <tr>\n",
       "      <th>...</th>\n",
       "      <td>...</td>\n",
       "      <td>...</td>\n",
       "    </tr>\n",
       "    <tr>\n",
       "      <th>159566</th>\n",
       "      <td>\":::::And for the second time of asking, when ...</td>\n",
       "      <td>0</td>\n",
       "    </tr>\n",
       "    <tr>\n",
       "      <th>159567</th>\n",
       "      <td>You should be ashamed of yourself \\n\\nThat is ...</td>\n",
       "      <td>0</td>\n",
       "    </tr>\n",
       "    <tr>\n",
       "      <th>159568</th>\n",
       "      <td>Spitzer \\n\\nUmm, theres no actual article for ...</td>\n",
       "      <td>0</td>\n",
       "    </tr>\n",
       "    <tr>\n",
       "      <th>159569</th>\n",
       "      <td>And it looks like it was actually you who put ...</td>\n",
       "      <td>0</td>\n",
       "    </tr>\n",
       "    <tr>\n",
       "      <th>159570</th>\n",
       "      <td>\"\\nAnd ... I really don't think you understand...</td>\n",
       "      <td>0</td>\n",
       "    </tr>\n",
       "  </tbody>\n",
       "</table>\n",
       "<p>159571 rows × 2 columns</p>\n",
       "</div>"
      ],
      "text/plain": [
       "                                             comment_text  isToxic\n",
       "0       Explanation\\nWhy the edits made under my usern...        0\n",
       "1       D'aww! He matches this background colour I'm s...        0\n",
       "2       Hey man, I'm really not trying to edit war. It...        0\n",
       "3       \"\\nMore\\nI can't make any real suggestions on ...        0\n",
       "4       You, sir, are my hero. Any chance you remember...        0\n",
       "...                                                   ...      ...\n",
       "159566  \":::::And for the second time of asking, when ...        0\n",
       "159567  You should be ashamed of yourself \\n\\nThat is ...        0\n",
       "159568  Spitzer \\n\\nUmm, theres no actual article for ...        0\n",
       "159569  And it looks like it was actually you who put ...        0\n",
       "159570  \"\\nAnd ... I really don't think you understand...        0\n",
       "\n",
       "[159571 rows x 2 columns]"
      ]
     },
     "execution_count": 4,
     "metadata": {},
     "output_type": "execute_result"
    }
   ],
   "source": [
    "#Dataframe to only include Comment Text and Label (is_toxic)\n",
    "df=df[[\"comment_text\",\"isToxic\"]].copy()\n",
    "df"
   ]
  },
  {
   "cell_type": "code",
   "execution_count": 5,
   "id": "5cb2875c",
   "metadata": {},
   "outputs": [
    {
     "name": "stdout",
     "output_type": "stream",
     "text": [
      "number of each class\n"
     ]
    },
    {
     "data": {
      "text/plain": [
       "0    143346\n",
       "1     16225\n",
       "Name: isToxic, dtype: int64"
      ]
     },
     "metadata": {},
     "output_type": "display_data"
    },
    {
     "data": {
      "text/plain": [
       "<Axes: >"
      ]
     },
     "execution_count": 5,
     "metadata": {},
     "output_type": "execute_result"
    },
    {
     "data": {
      "image/png": "[encoded data removed]",
      "text/plain": [
       "<Figure size 640x480 with 1 Axes>"
      ]
     },
     "metadata": {},
     "output_type": "display_data"
    }
   ],
   "source": [
    "#Class distribution of the label (is_Toxic)\n",
    "target_count = df[\"isToxic\"].value_counts()\n",
    "print(\"number of each class\")\n",
    "display(target_count)\n",
    "sns.barplot(x=target_count.index, y=target_count.values)"
   ]
  },
  {
   "cell_type": "code",
   "execution_count": 6,
   "id": "1f8346c5",
   "metadata": {},
   "outputs": [
    {
     "data": {
      "text/html": [
       "<div>\n",
       "<style scoped>\n",
       "    .dataframe tbody tr th:only-of-type {\n",
       "        vertical-align: middle;\n",
       "    }\n",
       "\n",
       "    .dataframe tbody tr th {\n",
       "        vertical-align: top;\n",
       "    }\n",
       "\n",
       "    .dataframe thead th {\n",
       "        text-align: right;\n",
       "    }\n",
       "</style>\n",
       "<table border=\"1\" class=\"dataframe\">\n",
       "  <thead>\n",
       "    <tr style=\"text-align: right;\">\n",
       "      <th></th>\n",
       "      <th>comment_text</th>\n",
       "      <th>isToxic</th>\n",
       "    </tr>\n",
       "  </thead>\n",
       "  <tbody>\n",
       "    <tr>\n",
       "      <th>0</th>\n",
       "      <td>Tagged Image:Aconitethrill.jpg as a promotiona...</td>\n",
       "      <td>0</td>\n",
       "    </tr>\n",
       "    <tr>\n",
       "      <th>1</th>\n",
       "      <td>\"\\n\\n take your own advice \\n\\nwow, you sure d...</td>\n",
       "      <td>0</td>\n",
       "    </tr>\n",
       "    <tr>\n",
       "      <th>2</th>\n",
       "      <td>\"\\n\\n Title \\n\\nIs \"\"FAST\"\" supposed to be an ...</td>\n",
       "      <td>0</td>\n",
       "    </tr>\n",
       "    <tr>\n",
       "      <th>3</th>\n",
       "      <td>\"\\n\\nGreat peace-keeping! That solved the prob...</td>\n",
       "      <td>0</td>\n",
       "    </tr>\n",
       "    <tr>\n",
       "      <th>4</th>\n",
       "      <td>I intended the comment about multiplicity to b...</td>\n",
       "      <td>0</td>\n",
       "    </tr>\n",
       "    <tr>\n",
       "      <th>...</th>\n",
       "      <td>...</td>\n",
       "      <td>...</td>\n",
       "    </tr>\n",
       "    <tr>\n",
       "      <th>995</th>\n",
       "      <td>I have a article that was just published, conf...</td>\n",
       "      <td>0</td>\n",
       "    </tr>\n",
       "    <tr>\n",
       "      <th>996</th>\n",
       "      <td>umm \\n\\nwhy didnt you say why you reverted my ...</td>\n",
       "      <td>0</td>\n",
       "    </tr>\n",
       "    <tr>\n",
       "      <th>997</th>\n",
       "      <td>OrphanBot\\nSo, what should we do? We're both w...</td>\n",
       "      <td>0</td>\n",
       "    </tr>\n",
       "    <tr>\n",
       "      <th>998</th>\n",
       "      <td>R u gay? \\n\\nHi, are you a faggot?</td>\n",
       "      <td>1</td>\n",
       "    </tr>\n",
       "    <tr>\n",
       "      <th>999</th>\n",
       "      <td>What?? Your told me I could argue that the boo...</td>\n",
       "      <td>0</td>\n",
       "    </tr>\n",
       "  </tbody>\n",
       "</table>\n",
       "<p>1000 rows × 2 columns</p>\n",
       "</div>"
      ],
      "text/plain": [
       "                                          comment_text  isToxic\n",
       "0    Tagged Image:Aconitethrill.jpg as a promotiona...        0\n",
       "1    \"\\n\\n take your own advice \\n\\nwow, you sure d...        0\n",
       "2    \"\\n\\n Title \\n\\nIs \"\"FAST\"\" supposed to be an ...        0\n",
       "3    \"\\n\\nGreat peace-keeping! That solved the prob...        0\n",
       "4    I intended the comment about multiplicity to b...        0\n",
       "..                                                 ...      ...\n",
       "995  I have a article that was just published, conf...        0\n",
       "996  umm \\n\\nwhy didnt you say why you reverted my ...        0\n",
       "997  OrphanBot\\nSo, what should we do? We're both w...        0\n",
       "998                 R u gay? \\n\\nHi, are you a faggot?        1\n",
       "999  What?? Your told me I could argue that the boo...        0\n",
       "\n",
       "[1000 rows x 2 columns]"
      ]
     },
     "execution_count": 6,
     "metadata": {},
     "output_type": "execute_result"
    }
   ],
   "source": [
    "#Taking a sample (1000 records) from the dataset\n",
    "sample_df=df.sample(1000)\n",
    "sample_df = sample_df.reset_index(drop=True)\n",
    "sample_df"
   ]
  },
  {
   "cell_type": "code",
   "execution_count": 7,
   "id": "b3cbf9b2",
   "metadata": {},
   "outputs": [
    {
     "name": "stdout",
     "output_type": "stream",
     "text": [
      "number of each class\n"
     ]
    },
    {
     "data": {
      "text/plain": [
       "0    887\n",
       "1    113\n",
       "Name: isToxic, dtype: int64"
      ]
     },
     "metadata": {},
     "output_type": "display_data"
    },
    {
     "data": {
      "text/plain": [
       "<Axes: >"
      ]
     },
     "execution_count": 7,
     "metadata": {},
     "output_type": "execute_result"
    },
    {
     "data": {
      "image/png": "[encoded data removed]",
      "text/plain": [
       "<Figure size 640x480 with 1 Axes>"
      ]
     },
     "metadata": {},
     "output_type": "display_data"
    }
   ],
   "source": [
    "#Class distribution of the label feature (is_Toxic) in the sample\n",
    "target_count = sample_df[\"isToxic\"].value_counts()\n",
    "print(\"number of each class\")\n",
    "display(target_count)\n",
    "sns.barplot(x=target_count.index, y=target_count.values)"
   ]
  },
  {
   "cell_type": "markdown",
   "id": "393dfdd5",
   "metadata": {},
   "source": [
    "As seen from the plot the data is highly imbalanced which will required applying class balancing techniques (Over-sampling or Under-sampling)"
   ]
  },
  {
   "cell_type": "markdown",
   "id": "918d2cb2",
   "metadata": {},
   "source": [
    "-----------------------------------------------------------------------------------"
   ]
  },
  {
   "cell_type": "markdown",
   "id": "0a59cfa1",
   "metadata": {},
   "source": [
    "# Feature Engineering\n",
    "\n",
    "- Cleaned data by removing URLs, Hashtags and Mentions from Text\n",
    "- Parsed the data using BeautifulSoup\n",
    "- Tokenized data to words using word_tokenize\n",
    "- Removed stop words using the predefined stop words library\n",
    "- Applied stemming using Porter Stemmer\n",
    "- Applied text representation using TFIDF Vectorizer"
   ]
  },
  {
   "cell_type": "code",
   "execution_count": 8,
   "id": "77fc9761",
   "metadata": {},
   "outputs": [],
   "source": [
    "#Initialize porter stemmer\n",
    "porter = nltk.SnowballStemmer('english')\n",
    "\n",
    "# Create a Stopword List\n",
    "stopwords_list = set(stopwords.words('english'))\n",
    "\n",
    "def preprocessor (input_text):\n",
    "    # Remove URLs, mentions, and hashtags from the text\n",
    "    text = re.sub(r'http\\S+', '', input_text)\n",
    "    text = re.sub(r'@\\S+', '', text)\n",
    "    text = re.sub(r'#\\S+', '', text)\n",
    "    #Retrieve Plain text\n",
    "    parsed_text = BeautifulSoup(text,'html.parser').text\n",
    "    #Tokenize text\n",
    "    tokenized_text = nltk.word_tokenize(parsed_text, language = 'english')\n",
    "    #Remove stopwords\n",
    "    filtered_tokens = [token for token in tokenized_text if token.lower() not in stopwords_list]\n",
    "    #Apply stemming using Porter Stemmer\n",
    "    stems = [porter.stem(t) for t in filtered_tokens]\n",
    "    return ' '.join(stems)\n",
    "\n",
    "sample_df['comment_text'] = \"<mycomment>\" + sample_df[\"comment_text\"] + \"</mycomment>\"\n",
    "sample_df['comment_text'] = sample_df[\"comment_text\"].apply(preprocessor)"
   ]
  },
  {
   "cell_type": "code",
   "execution_count": 9,
   "id": "6bd1fbfa",
   "metadata": {},
   "outputs": [
    {
     "data": {
      "text/html": [
       "<div>\n",
       "<style scoped>\n",
       "    .dataframe tbody tr th:only-of-type {\n",
       "        vertical-align: middle;\n",
       "    }\n",
       "\n",
       "    .dataframe tbody tr th {\n",
       "        vertical-align: top;\n",
       "    }\n",
       "\n",
       "    .dataframe thead th {\n",
       "        text-align: right;\n",
       "    }\n",
       "</style>\n",
       "<table border=\"1\" class=\"dataframe\">\n",
       "  <thead>\n",
       "    <tr style=\"text-align: right;\">\n",
       "      <th></th>\n",
       "      <th>comment_text</th>\n",
       "      <th>isToxic</th>\n",
       "    </tr>\n",
       "  </thead>\n",
       "  <tbody>\n",
       "    <tr>\n",
       "      <th>0</th>\n",
       "      <td>tag imag : aconitethrill.jpg promot photograph .</td>\n",
       "      <td>0</td>\n",
       "    </tr>\n",
       "    <tr>\n",
       "      <th>1</th>\n",
       "      <td>`` take advic wow , sure `` '' talk '' '' , ``...</td>\n",
       "      <td>0</td>\n",
       "    </tr>\n",
       "    <tr>\n",
       "      <th>2</th>\n",
       "      <td>`` titl `` '' fast '' '' suppos acronym ? ``</td>\n",
       "      <td>0</td>\n",
       "    </tr>\n",
       "    <tr>\n",
       "      <th>3</th>\n",
       "      <td>`` great peace-keep ! solv problem opinion . ™ ``</td>\n",
       "      <td>0</td>\n",
       "    </tr>\n",
       "    <tr>\n",
       "      <th>4</th>\n",
       "      <td>intend comment multipl except first line quadr...</td>\n",
       "      <td>0</td>\n",
       "    </tr>\n",
       "    <tr>\n",
       "      <th>...</th>\n",
       "      <td>...</td>\n",
       "      <td>...</td>\n",
       "    </tr>\n",
       "    <tr>\n",
       "      <th>995</th>\n",
       "      <td>articl publish , confirm caressa cameron miss ...</td>\n",
       "      <td>0</td>\n",
       "    </tr>\n",
       "    <tr>\n",
       "      <th>996</th>\n",
       "      <td>umm didnt say revert edit cole voic wwe ppl sa...</td>\n",
       "      <td>0</td>\n",
       "    </tr>\n",
       "    <tr>\n",
       "      <th>997</th>\n",
       "      <td>orphanbot , ? re want wikipedia . micoolio101</td>\n",
       "      <td>0</td>\n",
       "    </tr>\n",
       "    <tr>\n",
       "      <th>998</th>\n",
       "      <td>r u gay ? hi , faggot ?</td>\n",
       "      <td>1</td>\n",
       "    </tr>\n",
       "    <tr>\n",
       "      <th>999</th>\n",
       "      <td>? ? told could argu book reliabl sourc : self-...</td>\n",
       "      <td>0</td>\n",
       "    </tr>\n",
       "  </tbody>\n",
       "</table>\n",
       "<p>1000 rows × 2 columns</p>\n",
       "</div>"
      ],
      "text/plain": [
       "                                          comment_text  isToxic\n",
       "0     tag imag : aconitethrill.jpg promot photograph .        0\n",
       "1    `` take advic wow , sure `` '' talk '' '' , ``...        0\n",
       "2         `` titl `` '' fast '' '' suppos acronym ? ``        0\n",
       "3    `` great peace-keep ! solv problem opinion . ™ ``        0\n",
       "4    intend comment multipl except first line quadr...        0\n",
       "..                                                 ...      ...\n",
       "995  articl publish , confirm caressa cameron miss ...        0\n",
       "996  umm didnt say revert edit cole voic wwe ppl sa...        0\n",
       "997      orphanbot , ? re want wikipedia . micoolio101        0\n",
       "998                            r u gay ? hi , faggot ?        1\n",
       "999  ? ? told could argu book reliabl sourc : self-...        0\n",
       "\n",
       "[1000 rows x 2 columns]"
      ]
     },
     "execution_count": 9,
     "metadata": {},
     "output_type": "execute_result"
    }
   ],
   "source": [
    "#Display data after feature engineering\n",
    "sample_df"
   ]
  },
  {
   "cell_type": "code",
   "execution_count": 10,
   "id": "a2af4924",
   "metadata": {},
   "outputs": [
    {
     "data": {
      "text/html": [
       "<div>\n",
       "<style scoped>\n",
       "    .dataframe tbody tr th:only-of-type {\n",
       "        vertical-align: middle;\n",
       "    }\n",
       "\n",
       "    .dataframe tbody tr th {\n",
       "        vertical-align: top;\n",
       "    }\n",
       "\n",
       "    .dataframe thead th {\n",
       "        text-align: right;\n",
       "    }\n",
       "</style>\n",
       "<table border=\"1\" class=\"dataframe\">\n",
       "  <thead>\n",
       "    <tr style=\"text-align: right;\">\n",
       "      <th></th>\n",
       "      <th>comment_text</th>\n",
       "      <th>isToxic</th>\n",
       "      <th>0</th>\n",
       "      <th>1</th>\n",
       "      <th>2</th>\n",
       "      <th>3</th>\n",
       "      <th>4</th>\n",
       "      <th>5</th>\n",
       "      <th>6</th>\n",
       "      <th>7</th>\n",
       "      <th>...</th>\n",
       "      <th>2595</th>\n",
       "      <th>2596</th>\n",
       "      <th>2597</th>\n",
       "      <th>2598</th>\n",
       "      <th>2599</th>\n",
       "      <th>2600</th>\n",
       "      <th>2601</th>\n",
       "      <th>2602</th>\n",
       "      <th>2603</th>\n",
       "      <th>2604</th>\n",
       "    </tr>\n",
       "  </thead>\n",
       "  <tbody>\n",
       "    <tr>\n",
       "      <th>0</th>\n",
       "      <td>tag imag : aconitethrill.jpg promot photograph .</td>\n",
       "      <td>0</td>\n",
       "      <td>0.0</td>\n",
       "      <td>0.0</td>\n",
       "      <td>0.0</td>\n",
       "      <td>0.0</td>\n",
       "      <td>0.0</td>\n",
       "      <td>0.0</td>\n",
       "      <td>0.0</td>\n",
       "      <td>0.0</td>\n",
       "      <td>...</td>\n",
       "      <td>0.0</td>\n",
       "      <td>0.0</td>\n",
       "      <td>0.0</td>\n",
       "      <td>0.0</td>\n",
       "      <td>0.0</td>\n",
       "      <td>0.0</td>\n",
       "      <td>0.0</td>\n",
       "      <td>0.0</td>\n",
       "      <td>0.0</td>\n",
       "      <td>0.0</td>\n",
       "    </tr>\n",
       "    <tr>\n",
       "      <th>1</th>\n",
       "      <td>`` take advic wow , sure `` '' talk '' '' , ``...</td>\n",
       "      <td>0</td>\n",
       "      <td>0.0</td>\n",
       "      <td>0.0</td>\n",
       "      <td>0.0</td>\n",
       "      <td>0.0</td>\n",
       "      <td>0.0</td>\n",
       "      <td>0.0</td>\n",
       "      <td>0.0</td>\n",
       "      <td>0.0</td>\n",
       "      <td>...</td>\n",
       "      <td>0.0</td>\n",
       "      <td>0.0</td>\n",
       "      <td>0.0</td>\n",
       "      <td>0.0</td>\n",
       "      <td>0.0</td>\n",
       "      <td>0.0</td>\n",
       "      <td>0.0</td>\n",
       "      <td>0.0</td>\n",
       "      <td>0.0</td>\n",
       "      <td>0.0</td>\n",
       "    </tr>\n",
       "    <tr>\n",
       "      <th>2</th>\n",
       "      <td>`` titl `` '' fast '' '' suppos acronym ? ``</td>\n",
       "      <td>0</td>\n",
       "      <td>0.0</td>\n",
       "      <td>0.0</td>\n",
       "      <td>0.0</td>\n",
       "      <td>0.0</td>\n",
       "      <td>0.0</td>\n",
       "      <td>0.0</td>\n",
       "      <td>0.0</td>\n",
       "      <td>0.0</td>\n",
       "      <td>...</td>\n",
       "      <td>0.0</td>\n",
       "      <td>0.0</td>\n",
       "      <td>0.0</td>\n",
       "      <td>0.0</td>\n",
       "      <td>0.0</td>\n",
       "      <td>0.0</td>\n",
       "      <td>0.0</td>\n",
       "      <td>0.0</td>\n",
       "      <td>0.0</td>\n",
       "      <td>0.0</td>\n",
       "    </tr>\n",
       "    <tr>\n",
       "      <th>3</th>\n",
       "      <td>`` great peace-keep ! solv problem opinion . ™ ``</td>\n",
       "      <td>0</td>\n",
       "      <td>0.0</td>\n",
       "      <td>0.0</td>\n",
       "      <td>0.0</td>\n",
       "      <td>0.0</td>\n",
       "      <td>0.0</td>\n",
       "      <td>0.0</td>\n",
       "      <td>0.0</td>\n",
       "      <td>0.0</td>\n",
       "      <td>...</td>\n",
       "      <td>0.0</td>\n",
       "      <td>0.0</td>\n",
       "      <td>0.0</td>\n",
       "      <td>0.0</td>\n",
       "      <td>0.0</td>\n",
       "      <td>0.0</td>\n",
       "      <td>0.0</td>\n",
       "      <td>0.0</td>\n",
       "      <td>0.0</td>\n",
       "      <td>0.0</td>\n",
       "    </tr>\n",
       "    <tr>\n",
       "      <th>4</th>\n",
       "      <td>intend comment multipl except first line quadr...</td>\n",
       "      <td>0</td>\n",
       "      <td>0.0</td>\n",
       "      <td>0.0</td>\n",
       "      <td>0.0</td>\n",
       "      <td>0.0</td>\n",
       "      <td>0.0</td>\n",
       "      <td>0.0</td>\n",
       "      <td>0.0</td>\n",
       "      <td>0.0</td>\n",
       "      <td>...</td>\n",
       "      <td>0.0</td>\n",
       "      <td>0.0</td>\n",
       "      <td>0.0</td>\n",
       "      <td>0.0</td>\n",
       "      <td>0.0</td>\n",
       "      <td>0.0</td>\n",
       "      <td>0.0</td>\n",
       "      <td>0.0</td>\n",
       "      <td>0.0</td>\n",
       "      <td>0.0</td>\n",
       "    </tr>\n",
       "  </tbody>\n",
       "</table>\n",
       "<p>5 rows × 2607 columns</p>\n",
       "</div>"
      ],
      "text/plain": [
       "                                        comment_text  isToxic    0    1    2  \\\n",
       "0   tag imag : aconitethrill.jpg promot photograph .        0  0.0  0.0  0.0   \n",
       "1  `` take advic wow , sure `` '' talk '' '' , ``...        0  0.0  0.0  0.0   \n",
       "2       `` titl `` '' fast '' '' suppos acronym ? ``        0  0.0  0.0  0.0   \n",
       "3  `` great peace-keep ! solv problem opinion . ™ ``        0  0.0  0.0  0.0   \n",
       "4  intend comment multipl except first line quadr...        0  0.0  0.0  0.0   \n",
       "\n",
       "     3    4    5    6    7  ...  2595  2596  2597  2598  2599  2600  2601  \\\n",
       "0  0.0  0.0  0.0  0.0  0.0  ...   0.0   0.0   0.0   0.0   0.0   0.0   0.0   \n",
       "1  0.0  0.0  0.0  0.0  0.0  ...   0.0   0.0   0.0   0.0   0.0   0.0   0.0   \n",
       "2  0.0  0.0  0.0  0.0  0.0  ...   0.0   0.0   0.0   0.0   0.0   0.0   0.0   \n",
       "3  0.0  0.0  0.0  0.0  0.0  ...   0.0   0.0   0.0   0.0   0.0   0.0   0.0   \n",
       "4  0.0  0.0  0.0  0.0  0.0  ...   0.0   0.0   0.0   0.0   0.0   0.0   0.0   \n",
       "\n",
       "   2602  2603  2604  \n",
       "0   0.0   0.0   0.0  \n",
       "1   0.0   0.0   0.0  \n",
       "2   0.0   0.0   0.0  \n",
       "3   0.0   0.0   0.0  \n",
       "4   0.0   0.0   0.0  \n",
       "\n",
       "[5 rows x 2607 columns]"
      ]
     },
     "execution_count": 10,
     "metadata": {},
     "output_type": "execute_result"
    }
   ],
   "source": [
    "#Initialize TFIDF Vectoizer\n",
    "tfidf= TfidfVectorizer(min_df=2)\n",
    "\n",
    "#Fit and transform data using tfidf\n",
    "sample_df = sample_df.join(pd.DataFrame(tfidf.fit_transform(sample_df['comment_text']).toarray()))\n",
    "inverted_index={id: term for term, id in tfidf.vocabulary_.items()}\n",
    "sample_df.head()"
   ]
  },
  {
   "cell_type": "markdown",
   "id": "72ccd266",
   "metadata": {},
   "source": [
    "-----------------------------------------------------------------------------------"
   ]
  },
  {
   "cell_type": "markdown",
   "id": "092488a0",
   "metadata": {},
   "source": [
    "# Train Test split\n",
    "\n",
    "- Split data into Featured (TFIDF Vector) and Target (`is_toxic`)\n",
    "- Dropped non-numerical features\n",
    "- Split data into train, validate and test sets"
   ]
  },
  {
   "cell_type": "code",
   "execution_count": 11,
   "id": "855fae17",
   "metadata": {},
   "outputs": [
    {
     "name": "stdout",
     "output_type": "stream",
     "text": [
      "Shape of the whole dataset: (1000, 2605)\n",
      "Number of features: 2605\n"
     ]
    }
   ],
   "source": [
    "#Splitting data into Features and Target(is_toxic)\n",
    "targets = sample_df[\"isToxic\"].values\n",
    "targets = targets.astype(float)\n",
    "features = sample_df.drop(['isToxic'], axis=1).copy()\n",
    "\n",
    "#Dropping non-numerical features\n",
    "features = features.drop(columns= [\"comment_text\"])\n",
    "\n",
    "print(\"Shape of the whole dataset:\", features.shape)\n",
    "print(\"Number of features:\", features.shape[1])\n",
    "\n",
    "feature_list= []\n",
    "\n",
    "for item in features.columns:\n",
    "    if item in inverted_index:\n",
    "        feature_list.append(inverted_index[item])\n",
    "    else:\n",
    "        feature_list.append(item)\n",
    "\n",
    "#Ensuring features are of datatype Float\n",
    "features = features.values\n",
    "features = features.astype(float)\n",
    "\n",
    "#Splitting data into Train, Validate and Test sets\n",
    "x_train_big, x_test, y_train_big, y_test = train_test_split(features,targets ,test_size=0.2, shuffle=True, stratify= targets)\n",
    "x_train, x_valid, y_train, y_valid = train_test_split(x_train_big, y_train_big, test_size = 0.2, shuffle= True, stratify= y_train_big)"
   ]
  },
  {
   "cell_type": "markdown",
   "id": "88ac5ffe",
   "metadata": {},
   "source": [
    "-----------------------------------------------------------------------------------"
   ]
  },
  {
   "cell_type": "markdown",
   "id": "0da1ea6d",
   "metadata": {},
   "source": [
    "# Class Balancing by Oversampling\n",
    "\n",
    "- Conducted oversampling by SMOTE\n",
    "- Conducted oversampling by ADASYN"
   ]
  },
  {
   "cell_type": "code",
   "execution_count": 12,
   "id": "424c60f6",
   "metadata": {},
   "outputs": [],
   "source": [
    "#Class balancing using SMOTE\n",
    "x_res,y_res = SMOTE().fit_resample(x_train,y_train)"
   ]
  },
  {
   "cell_type": "code",
   "execution_count": 26,
   "id": "5da6ebd5",
   "metadata": {},
   "outputs": [
    {
     "name": "stdout",
     "output_type": "stream",
     "text": [
      "Number of each class\n"
     ]
    },
    {
     "data": {
      "text/plain": [
       "array([568, 568], dtype=int64)"
      ]
     },
     "metadata": {},
     "output_type": "display_data"
    },
    {
     "data": {
      "text/plain": [
       "<Axes: >"
      ]
     },
     "execution_count": 26,
     "metadata": {},
     "output_type": "execute_result"
    },
    {
     "data": {
      "image/png": "[encoded data removed]",
      "text/plain": [
       "<Figure size 640x480 with 1 Axes>"
      ]
     },
     "metadata": {},
     "output_type": "display_data"
    }
   ],
   "source": [
    "unique_elements, counts = np.unique(y_res, return_counts=True)\n",
    "print(\"Number of each class\")\n",
    "display(counts)\n",
    "sns.barplot(x=unique_elements, y=counts)"
   ]
  },
  {
   "cell_type": "code",
   "execution_count": 13,
   "id": "552e024e",
   "metadata": {},
   "outputs": [],
   "source": [
    "#Class balancingusing ADASYN\n",
    "x_res2,y_res2 = ADASYN().fit_resample(x_train,y_train)"
   ]
  },
  {
   "cell_type": "code",
   "execution_count": 27,
   "id": "8ab6a483",
   "metadata": {},
   "outputs": [
    {
     "name": "stdout",
     "output_type": "stream",
     "text": [
      "Number of each class\n"
     ]
    },
    {
     "data": {
      "text/plain": [
       "array([568, 562], dtype=int64)"
      ]
     },
     "metadata": {},
     "output_type": "display_data"
    },
    {
     "data": {
      "text/plain": [
       "<Axes: >"
      ]
     },
     "execution_count": 27,
     "metadata": {},
     "output_type": "execute_result"
    },
    {
     "data": {
      "image/png": "[encoded data removed]",
      "text/plain": [
       "<Figure size 640x480 with 1 Axes>"
      ]
     },
     "metadata": {},
     "output_type": "display_data"
    }
   ],
   "source": [
    "unique_elements, counts = np.unique(y_res2, return_counts=True)\n",
    "print(\"Number of each class\")\n",
    "display(counts)\n",
    "sns.barplot(x=unique_elements, y=counts)"
   ]
  },
  {
   "cell_type": "markdown",
   "id": "e3751778",
   "metadata": {},
   "source": [
    "-----------------------------------------------------------------------------------"
   ]
  },
  {
   "cell_type": "markdown",
   "id": "6e520f6d",
   "metadata": {},
   "source": [
    "# Model Training\n",
    "\n",
    "- Trained different algorithms on imbalanced, balanced using SMOTE and balanced using ADASYN.\n",
    "- Algorithms tested are:\n",
    "    - GradientBoostingClassifier\n",
    "    - XGBClassifier\n",
    "    - RandomForestClassifier\n",
    "    - LogisticRegression\n",
    "    - DecisionTreeClassifier\n",
    "    - GaussianNB\n",
    "    - LinearDiscriminantAnalysis\n",
    "    - KNeighborsClassifier\n",
    "- Checked best performing algorithm to apply to test data using the score metric F1 "
   ]
  },
  {
   "cell_type": "code",
   "execution_count": 14,
   "id": "7a1968e6",
   "metadata": {},
   "outputs": [],
   "source": [
    "#Calculate product score of all models\n",
    "def product_score (y_true,y_pred):\n",
    "    return (geometric_mean_score(y_true,y_pred)* accuracy_score(y_true,y_pred)* f1_score(y_true,y_pred)) ** (1. /3)\n",
    "\n",
    "#Applying model to imbalanced, balanced using SMOTE and balanced using ADASYN train data\n",
    "#Calculating Gmean, Accuracy, F1 and Product score for each\n",
    "def apply_model(clf_class, **kwargs):\n",
    "    clf = clf_class(**kwargs)\n",
    "    print (clf_class)\n",
    "    print (\"-------------------------------------------------------------------\")\n",
    "    \n",
    "    #Fitting classifier with Imbalanced Data\n",
    "    clf.fit(x_train, y_train)\n",
    "    pred = clf.predict(x_valid)\n",
    "    gmean = geometric_mean_score(y_valid, pred)\n",
    "    acc = accuracy_score(y_valid, pred)\n",
    "    f1 = f1_score(y_valid, pred)\n",
    "    prod = product_score(y_valid, pred)\n",
    "\n",
    "    print (\"Imbalanced G-mean = {:.3f}      Accuracy= {:.3f}        f1 = {:.3f}      Product = {:.3f}\". format(gmean,acc,f1,prod))\n",
    "    \n",
    "    #Fitting classifier with balanced data using SMOTE\n",
    "    clf.fit(x_res,y_res)\n",
    "    pred = clf.predict(x_valid)\n",
    "    gmean = geometric_mean_score(y_valid, pred)\n",
    "    acc = accuracy_score(y_valid, pred)\n",
    "    f1 = f1_score(y_valid, pred)\n",
    "    prod = product_score(y_valid, pred)\n",
    "    \n",
    "    print (\"SMOTE G-mean = {:.3f}      Accuracy= {:.3f}        f1 = {:.3f}      Product = {:.3f}\". format(gmean,acc,f1,prod))\n",
    "    \n",
    "    #Fitting classifier with balanced data using ADASYN\n",
    "    clf.fit(x_res2, y_res2)\n",
    "    pred = clf.predict(x_valid)\n",
    "    gmean = geometric_mean_score(y_valid, pred)\n",
    "    acc = accuracy_score(y_valid, pred)\n",
    "    f1 = f1_score(y_valid, pred)\n",
    "    prod = product_score(y_valid, pred)\n",
    "\n",
    "    print (\"ADASYN G-mean = {:.3f}      Accuracy= {:.3f}        f1 = {:.3f}      Product = {:.3f}\". format(gmean, acc, f1, prod))"
   ]
  },
  {
   "cell_type": "code",
   "execution_count": 15,
   "id": "7a047020",
   "metadata": {},
   "outputs": [
    {
     "name": "stdout",
     "output_type": "stream",
     "text": [
      "<class 'sklearn.ensemble._gb.GradientBoostingClassifier'>\n",
      "-------------------------------------------------------------------\n",
      "Imbalanced G-mean = 0.705      Accuracy= 0.938        f1 = 0.643      Product = 0.752\n",
      "SMOTE G-mean = 0.740      Accuracy= 0.938        f1 = 0.667      Product = 0.773\n",
      "ADASYN G-mean = 0.702      Accuracy= 0.931        f1 = 0.621      Product = 0.740\n",
      "<class 'xgboost.sklearn.XGBClassifier'>\n",
      "-------------------------------------------------------------------\n",
      "Imbalanced G-mean = 0.662      Accuracy= 0.925        f1 = 0.571      Product = 0.705\n",
      "SMOTE G-mean = 0.662      Accuracy= 0.925        f1 = 0.571      Product = 0.705\n",
      "ADASYN G-mean = 0.660      Accuracy= 0.919        f1 = 0.552      Product = 0.694\n",
      "<class 'sklearn.ensemble._forest.RandomForestClassifier'>\n",
      "-------------------------------------------------------------------\n",
      "Imbalanced G-mean = 0.471      Accuracy= 0.912        f1 = 0.364      Product = 0.539\n",
      "SMOTE G-mean = 0.575      Accuracy= 0.919        f1 = 0.480      Product = 0.633\n",
      "ADASYN G-mean = 0.575      Accuracy= 0.919        f1 = 0.480      Product = 0.633\n",
      "<class 'sklearn.linear_model._logistic.LogisticRegression'>\n",
      "-------------------------------------------------------------------\n",
      "Imbalanced G-mean = 0.000      Accuracy= 0.887        f1 = 0.000      Product = 0.000\n",
      "SMOTE G-mean = 0.700      Accuracy= 0.925        f1 = 0.600      Product = 0.730\n",
      "ADASYN G-mean = 0.841      Accuracy= 0.950        f1 = 0.765      Product = 0.848\n",
      "<class 'sklearn.tree._classes.DecisionTreeClassifier'>\n",
      "-------------------------------------------------------------------\n",
      "Imbalanced G-mean = 0.805      Accuracy= 0.938        f1 = 0.706      Product = 0.811\n",
      "SMOTE G-mean = 0.762      Accuracy= 0.912        f1 = 0.611      Product = 0.752\n",
      "ADASYN G-mean = 0.829      Accuracy= 0.925        f1 = 0.684      Product = 0.806\n",
      "<class 'sklearn.naive_bayes.GaussianNB'>\n",
      "-------------------------------------------------------------------\n",
      "Imbalanced G-mean = 0.506      Accuracy= 0.850        f1 = 0.294      Product = 0.502\n",
      "SMOTE G-mean = 0.506      Accuracy= 0.850        f1 = 0.294      Product = 0.502\n",
      "ADASYN G-mean = 0.506      Accuracy= 0.850        f1 = 0.294      Product = 0.502\n",
      "<class 'sklearn.discriminant_analysis.LinearDiscriminantAnalysis'>\n",
      "-------------------------------------------------------------------\n",
      "Imbalanced G-mean = 0.478      Accuracy= 0.762        f1 = 0.208      Product = 0.424\n",
      "SMOTE G-mean = 0.633      Accuracy= 0.650        f1 = 0.282      Product = 0.488\n",
      "ADASYN G-mean = 0.639      Accuracy= 0.662        f1 = 0.289      Product = 0.497\n",
      "<class 'sklearn.neighbors._classification.KNeighborsClassifier'>\n",
      "-------------------------------------------------------------------\n",
      "Imbalanced G-mean = 0.664      Accuracy= 0.931        f1 = 0.593      Product = 0.716\n",
      "SMOTE G-mean = 0.265      Accuracy= 0.175        f1 = 0.214      Product = 0.215\n",
      "ADASYN G-mean = 0.278      Accuracy= 0.181        f1 = 0.216      Product = 0.222\n"
     ]
    }
   ],
   "source": [
    "#Applying different models to train data\n",
    "apply_model(GradientBoostingClassifier)\n",
    "apply_model(XGBClassifier)\n",
    "apply_model(RandomForestClassifier)\n",
    "apply_model(LogisticRegression)\n",
    "apply_model(DecisionTreeClassifier)\n",
    "apply_model(GaussianNB)\n",
    "apply_model(LinearDiscriminantAnalysis)\n",
    "apply_model(KNeighborsClassifier)"
   ]
  },
  {
   "cell_type": "markdown",
   "id": "dc318e40",
   "metadata": {},
   "source": [
    "As seen above the Logistic Regression using ADASYN balanced data yielded the best scores of:\n",
    "- Gmean: 0.841,   Accuracy: 0.950,    F1: 0.765,    Product: 0.848"
   ]
  },
  {
   "cell_type": "markdown",
   "id": "3e0f08f0",
   "metadata": {},
   "source": [
    "-----------------------------------------------------------------------------------"
   ]
  },
  {
   "cell_type": "markdown",
   "id": "24281dc2",
   "metadata": {},
   "source": [
    "# Hyperparameter Tuning\n",
    "\n",
    "- Conducted HyperParameter tuning on logistic regression with the scoring metric of F1"
   ]
  },
  {
   "cell_type": "code",
   "execution_count": 16,
   "id": "ec400339",
   "metadata": {},
   "outputs": [
    {
     "name": "stdout",
     "output_type": "stream",
     "text": [
      "Manual Grid search Results:\n",
      "\n",
      "Solver =  newton-cg               Penalty= l2                C=  100               f1 = 0.7272727272727272\n",
      "Solver =  newton-cg               Penalty= l2                C=  10               f1 = 0.7272727272727272\n",
      "Solver =  newton-cg               Penalty= l2                C=  1.0               f1 = 0.7647058823529411\n",
      "Solver =  newton-cg               Penalty= l2                C=  0.1               f1 = 0.6451612903225806\n",
      "Solver =  newton-cg               Penalty= l2                C=  0.01               f1 = 0.6666666666666667\n",
      "Solver =  lbfgs               Penalty= l2                C=  100               f1 = 0.7272727272727272\n",
      "Solver =  lbfgs               Penalty= l2                C=  10               f1 = 0.7272727272727272\n",
      "Solver =  lbfgs               Penalty= l2                C=  1.0               f1 = 0.7647058823529411\n",
      "Solver =  lbfgs               Penalty= l2                C=  0.1               f1 = 0.6451612903225806\n",
      "Solver =  lbfgs               Penalty= l2                C=  0.01               f1 = 0.6666666666666667\n",
      "Solver =  liblinear               Penalty= l2                C=  100               f1 = 0.7272727272727272\n",
      "Solver =  liblinear               Penalty= l2                C=  10               f1 = 0.7272727272727272\n",
      "Solver =  liblinear               Penalty= l2                C=  1.0               f1 = 0.7647058823529411\n",
      "Solver =  liblinear               Penalty= l2                C=  0.1               f1 = 0.6451612903225806\n",
      "Solver =  liblinear               Penalty= l2                C=  0.01               f1 = 0.6451612903225806\n",
      "==============================================================\n",
      "The best hyper-parameter set:\n",
      "\n",
      "['newton-cg', 'l2', 1.0]\n"
     ]
    }
   ],
   "source": [
    "#Initialize parameter grid\n",
    "solvers = ['newton-cg', 'lbfgs', 'liblinear']\n",
    "penalty = ['l2']\n",
    "c_values = [100, 10, 1.0, 0.1, 0.01]\n",
    "\n",
    "    \n",
    "print (\"Manual Grid search Results:\\n\")\n",
    "max_f1=0\n",
    "\n",
    "#Loop over all paramaters in grid and try all different combinations\n",
    "best_hyper_params= []\n",
    "for s in solvers:\n",
    "    for p in penalty:\n",
    "        for c in c_values:\n",
    "            model = LogisticRegression(solver=s,penalty=p,C=c)\n",
    "            model.fit(x_res2,y_res2)\n",
    "            pred = model.predict (x_valid)\n",
    "            f1= f1_score(y_valid, pred)\n",
    "            print (\"Solver = \", s,   \"              Penalty=\", p, \"               C= \" ,c, \"              f1 =\", f1)\n",
    "            if f1>max_f1:\n",
    "                max_f1 = f1\n",
    "                best_hyper_params= [s,p,c]\n",
    "                \n",
    "print(\"==============================================================\")\n",
    "print(\"The best hyper-parameter set:\\n\")\n",
    "print(best_hyper_params)    "
   ]
  },
  {
   "cell_type": "markdown",
   "id": "d74a71bb",
   "metadata": {},
   "source": [
    "-----------------------------------------------------------------------------------"
   ]
  },
  {
   "cell_type": "markdown",
   "id": "8d24a140",
   "metadata": {},
   "source": [
    "# Suggested Predictive Model Performance\n",
    "\n",
    "- Trained the logistic regression model using the best parameters.\n",
    "- Applied the model on test data.\n",
    "- Evaluated the model performance using Classification Report."
   ]
  },
  {
   "cell_type": "code",
   "execution_count": 17,
   "id": "473cc01a",
   "metadata": {},
   "outputs": [
    {
     "name": "stdout",
     "output_type": "stream",
     "text": [
      "Suggested predictive model is:\n",
      "\n"
     ]
    },
    {
     "data": {
      "text/html": [
       "<style>#sk-container-id-1 {color: black;background-color: white;}#sk-container-id-1 pre{padding: 0;}#sk-container-id-1 div.sk-toggleable {background-color: white;}#sk-container-id-1 label.sk-toggleable__label {cursor: pointer;display: block;width: 100%;margin-bottom: 0;padding: 0.3em;box-sizing: border-box;text-align: center;}#sk-container-id-1 label.sk-toggleable__label-arrow:before {content: \"▸\";float: left;margin-right: 0.25em;color: #696969;}#sk-container-id-1 label.sk-toggleable__label-arrow:hover:before {color: black;}#sk-container-id-1 div.sk-estimator:hover label.sk-toggleable__label-arrow:before {color: black;}#sk-container-id-1 div.sk-toggleable__content {max-height: 0;max-width: 0;overflow: hidden;text-align: left;background-color: #f0f8ff;}#sk-container-id-1 div.sk-toggleable__content pre {margin: 0.2em;color: black;border-radius: 0.25em;background-color: #f0f8ff;}#sk-container-id-1 input.sk-toggleable__control:checked~div.sk-toggleable__content {max-height: 200px;max-width: 100%;overflow: auto;}#sk-container-id-1 input.sk-toggleable__control:checked~label.sk-toggleable__label-arrow:before {content: \"▾\";}#sk-container-id-1 div.sk-estimator input.sk-toggleable__control:checked~label.sk-toggleable__label {background-color: #d4ebff;}#sk-container-id-1 div.sk-label input.sk-toggleable__control:checked~label.sk-toggleable__label {background-color: #d4ebff;}#sk-container-id-1 input.sk-hidden--visually {border: 0;clip: rect(1px 1px 1px 1px);clip: rect(1px, 1px, 1px, 1px);height: 1px;margin: -1px;overflow: hidden;padding: 0;position: absolute;width: 1px;}#sk-container-id-1 div.sk-estimator {font-family: monospace;background-color: #f0f8ff;border: 1px dotted black;border-radius: 0.25em;box-sizing: border-box;margin-bottom: 0.5em;}#sk-container-id-1 div.sk-estimator:hover {background-color: #d4ebff;}#sk-container-id-1 div.sk-parallel-item::after {content: \"\";width: 100%;border-bottom: 1px solid gray;flex-grow: 1;}#sk-container-id-1 div.sk-label:hover label.sk-toggleable__label {background-color: #d4ebff;}#sk-container-id-1 div.sk-serial::before {content: \"\";position: absolute;border-left: 1px solid gray;box-sizing: border-box;top: 0;bottom: 0;left: 50%;z-index: 0;}#sk-container-id-1 div.sk-serial {display: flex;flex-direction: column;align-items: center;background-color: white;padding-right: 0.2em;padding-left: 0.2em;position: relative;}#sk-container-id-1 div.sk-item {position: relative;z-index: 1;}#sk-container-id-1 div.sk-parallel {display: flex;align-items: stretch;justify-content: center;background-color: white;position: relative;}#sk-container-id-1 div.sk-item::before, #sk-container-id-1 div.sk-parallel-item::before {content: \"\";position: absolute;border-left: 1px solid gray;box-sizing: border-box;top: 0;bottom: 0;left: 50%;z-index: -1;}#sk-container-id-1 div.sk-parallel-item {display: flex;flex-direction: column;z-index: 1;position: relative;background-color: white;}#sk-container-id-1 div.sk-parallel-item:first-child::after {align-self: flex-end;width: 50%;}#sk-container-id-1 div.sk-parallel-item:last-child::after {align-self: flex-start;width: 50%;}#sk-container-id-1 div.sk-parallel-item:only-child::after {width: 0;}#sk-container-id-1 div.sk-dashed-wrapped {border: 1px dashed gray;margin: 0 0.4em 0.5em 0.4em;box-sizing: border-box;padding-bottom: 0.4em;background-color: white;}#sk-container-id-1 div.sk-label label {font-family: monospace;font-weight: bold;display: inline-block;line-height: 1.2em;}#sk-container-id-1 div.sk-label-container {text-align: center;}#sk-container-id-1 div.sk-container {/* jupyter's `normalize.less` sets `[hidden] { display: none; }` but bootstrap.min.css set `[hidden] { display: none !important; }` so we also need the `!important` here to be able to override the default hidden behavior on the sphinx rendered scikit-learn.org. See: https://github.com/scikit-learn/scikit-learn/issues/21755 */display: inline-block !important;position: relative;}#sk-container-id-1 div.sk-text-repr-fallback {display: none;}</style><div id=\"sk-container-id-1\" class=\"sk-top-container\"><div class=\"sk-text-repr-fallback\"><pre>LogisticRegression(solver=&#x27;newton-cg&#x27;)</pre><b>In a Jupyter environment, please rerun this cell to show the HTML representation or trust the notebook. <br />On GitHub, the HTML representation is unable to render, please try loading this page with nbviewer.org.</b></div><div class=\"sk-container\" hidden><div class=\"sk-item\"><div class=\"sk-estimator sk-toggleable\"><input class=\"sk-toggleable__control sk-hidden--visually\" id=\"sk-estimator-id-1\" type=\"checkbox\" checked><label for=\"sk-estimator-id-1\" class=\"sk-toggleable__label sk-toggleable__label-arrow\">LogisticRegression</label><div class=\"sk-toggleable__content\"><pre>LogisticRegression(solver=&#x27;newton-cg&#x27;)</pre></div></div></div></div></div>"
      ],
      "text/plain": [
       "LogisticRegression(solver='newton-cg')"
      ]
     },
     "metadata": {},
     "output_type": "display_data"
    },
    {
     "name": "stdout",
     "output_type": "stream",
     "text": [
      "\n",
      "Classification Report:\n",
      "              precision    recall  f1-score   support\n",
      "\n",
      "         0.0       0.95      0.97      0.96       177\n",
      "         1.0       0.72      0.57      0.63        23\n",
      "\n",
      "    accuracy                           0.93       200\n",
      "   macro avg       0.83      0.77      0.80       200\n",
      "weighted avg       0.92      0.93      0.92       200\n",
      "\n",
      "---------------------------------------------------\n",
      "Test G-mean = 0.74      Accuracy= 0.93        f1 = 0.63      Product = 0.758\n"
     ]
    }
   ],
   "source": [
    "x_big_res,y_big_res = ADASYN().fit_resample(x_train_big,y_train_big)\n",
    "\n",
    "model = LogisticRegression(solver=best_hyper_params[0],penalty=best_hyper_params[1],C=best_hyper_params[2])\n",
    "print(\"Suggested predictive model is:\\n\")\n",
    "display(model)\n",
    "\n",
    "#Train with SMOTE\n",
    "model.fit(x_big_res,y_big_res)\n",
    "\n",
    "pred= model.predict(x_test)\n",
    "\n",
    "print(\"\\nClassification Report:\")\n",
    "print (classification_report(y_test, pred))\n",
    "print(\"---------------------------------------------------\")\n",
    "\n",
    "gmean= geometric_mean_score(y_test,pred)\n",
    "acc = accuracy_score(y_test, pred)\n",
    "f1 = f1_score(y_test, pred)\n",
    "prod = product_score(y_test, pred)\n",
    "\n",
    "print (\"Test G-mean = {:.2f}      Accuracy= {:.2f}        f1 = {:.2f}      Product = {:.3f}\". format(gmean,acc,f1,prod))"
   ]
  },
  {
   "cell_type": "markdown",
   "id": "68e404e0",
   "metadata": {},
   "source": [
    "-----------------------------------------------------------------------------------"
   ]
  },
  {
   "cell_type": "markdown",
   "id": "4702089e",
   "metadata": {},
   "source": [
    "# Feature Importance Analysis\n",
    "\n",
    "- Displayed the Top 15 most important words to classify a text as `is_Toxic`"
   ]
  },
  {
   "cell_type": "code",
   "execution_count": 18,
   "id": "95624b37",
   "metadata": {},
   "outputs": [
    {
     "name": "stdout",
     "output_type": "stream",
     "text": [
      "Top 15 important features:\n"
     ]
    },
    {
     "data": {
      "text/plain": [
       "<Axes: >"
      ]
     },
     "execution_count": 18,
     "metadata": {},
     "output_type": "execute_result"
    },
    {
     "data": {
      "image/png": "[encoded data removed]",
      "text/plain": [
       "<Figure size 1000x1000 with 1 Axes>"
      ]
     },
     "metadata": {},
     "output_type": "display_data"
    }
   ],
   "source": [
    "print(\"Top 15 important features:\")\n",
    "\n",
    "# Get the absolute coefficients of the logistic regression model\n",
    "feature_importance = np.abs(model.coef_[0])\n",
    "\n",
    "# Create a pandas Series with feature importances\n",
    "feat_importances = pd.Series(feature_importance, index=feature_list)\n",
    "\n",
    "# Select the top 15 important features\n",
    "feat_importances = feat_importances.nlargest(15)\n",
    "\n",
    "# Plot the feature importances\n",
    "feat_importances.plot(kind=\"barh\", figsize=(10, 10))"
   ]
  },
  {
   "cell_type": "markdown",
   "id": "4f0276c3",
   "metadata": {},
   "source": [
    "-----------------------------------------------------------------------------------"
   ]
  },
  {
   "cell_type": "markdown",
   "id": "a392bff2",
   "metadata": {},
   "source": [
    "# Conclusion\n",
    "\n",
    "- After conducting data exploration, data preprocessing, feature engineering, class balancing and hyperparameter tuning, the data was trained using logistic regression classifier and yielded accuracy of 93%.\n",
    "- For future recommendation:\n",
    "    - Implementing Neural Networks can capture complex patterns in the data and perform better.\n"
   ]
  }
 ],
 "metadata": {
  "kernelspec": {
   "display_name": "Python 3 (ipykernel)",
   "language": "python",
   "name": "python3"
  },
  "language_info": {
   "codemirror_mode": {
    "name": "ipython",
    "version": 3
   },
   "file_extension": ".py",
   "mimetype": "text/x-python",
   "name": "python",
   "nbconvert_exporter": "python",
   "pygments_lexer": "ipython3",
   "version": "3.10.9"
  }
 },
 "nbformat": 4,
 "nbformat_minor": 5
}
