{
 "cells": [
  {
   "cell_type": "markdown",
   "id": "655462a2",
   "metadata": {},
   "source": [
    "# Data Science Salary Prediction\n",
    "\n",
    "A salary prediction model is crucial for HR and business-related decisions, making significant contributions to the overall success and growth of an organization. It offers several benefits to businesses, including:\n",
    "- Facilitating the recruitment and hiring process by ensuring that candidates receive competitive and fair salary offers.\n",
    "- Supporting employee retention efforts by ensuring that salaries fall within the market range, therefore increasing employee satisfaction and reducing turnover.\n",
    "- Assisting with budget planning by providing insights into projected salary expenses, allowing businesses to allocate resources effectively. \n",
    "\n",
    "This Machine Learning pipeline is implemented to predict the salary for a job in the data science field based on the following features:\n",
    "\n",
    "- work_year: The year the recorded salary was paid.\n",
    "- experience_level: The experience level of the employee during the year (Entry-Level, Senior, ..etc.)\n",
    "- employment_type: The type of employment for the role (Full-Time, Part-Time,...etc.)\n",
    "- job_title: The role worked in during the year.\n",
    "- employee_residence: Employee's primary country of residence during the work year.\n",
    "- remote_ratio: The overall amount of work done remotely.\n",
    "- company_location: The country of the employer's main office or branch.\n",
    "- company_size: Whether the comapny is a small, medium or large sized comapny.\n",
    "\n",
    "In this pipeline, all data preprocessing and feature engineering techniques needed will be implemented to train a model thats achieves the lowest error in prediction possible."
   ]
  },
  {
   "cell_type": "markdown",
   "id": "5b2ec41b",
   "metadata": {},
   "source": [
    "# Import Libraries"
   ]
  },
  {
   "cell_type": "code",
   "execution_count": 1,
   "id": "a9354c27",
   "metadata": {},
   "outputs": [],
   "source": [
    "import pandas as pd\n",
    "import numpy as np\n",
    "import seaborn as sns\n",
    "import matplotlib.pyplot as plt\n",
    "from sklearn.model_selection import train_test_split\n",
    "from sklearn.preprocessing import StandardScaler\n",
    "from sklearn.compose import ColumnTransformer\n",
    "from sklearn.preprocessing import OrdinalEncoder, OneHotEncoder\n",
    "from sklearn.decomposition import PCA\n",
    "from sklearn.model_selection import GridSearchCV\n",
    "from sklearn.linear_model import LinearRegression\n",
    "from sklearn.ensemble import RandomForestRegressor\n",
    "from sklearn.ensemble import GradientBoostingRegressor\n",
    "from xgboost import XGBRegressor\n",
    "from lightgbm import LGBMRegressor\n",
    "from sklearn.metrics import mean_squared_error\n",
    "from sklearn.metrics import mean_absolute_error\n",
    "from sklearn.metrics import r2_score\n",
    "from sklearn.metrics import mean_absolute_percentage_error"
   ]
  },
  {
   "cell_type": "markdown",
   "id": "7d7c7dcf",
   "metadata": {},
   "source": [
    " ------------------------------------------------------------------------------------                                        "
   ]
  },
  {
   "cell_type": "markdown",
   "id": "7fe7797d",
   "metadata": {},
   "source": [
    "# Load Data\n",
    "\n",
    "- Loaded the `ds_salaries` dataset using Pandas. The dataset can be found at https://www.kaggle.com/datasets/arnabchaki/data-science-salaries-2023\n",
    "- Created a non-pointer copy of the dataset to preserve the original one.\n",
    "- Split dataset into Train (80%) and Test (20%) before data exploration to avoid data leakage."
   ]
  },
  {
   "cell_type": "code",
   "execution_count": 2,
   "id": "d3b9a87a",
   "metadata": {},
   "outputs": [],
   "source": [
    "#Loading dataset\n",
    "df_og=pd.read_csv(\"E:\\\\Documents\\\\Masters\\\\Machine Learning 2\\\\DataScience_salaries\\\\ds_salaries.csv\")"
   ]
  },
  {
   "cell_type": "code",
   "execution_count": 3,
   "id": "2a5ed31a",
   "metadata": {},
   "outputs": [
    {
     "data": {
      "text/html": [
       "<div>\n",
       "<style scoped>\n",
       "    .dataframe tbody tr th:only-of-type {\n",
       "        vertical-align: middle;\n",
       "    }\n",
       "\n",
       "    .dataframe tbody tr th {\n",
       "        vertical-align: top;\n",
       "    }\n",
       "\n",
       "    .dataframe thead th {\n",
       "        text-align: right;\n",
       "    }\n",
       "</style>\n",
       "<table border=\"1\" class=\"dataframe\">\n",
       "  <thead>\n",
       "    <tr style=\"text-align: right;\">\n",
       "      <th></th>\n",
       "      <th>work_year</th>\n",
       "      <th>experience_level</th>\n",
       "      <th>employment_type</th>\n",
       "      <th>job_title</th>\n",
       "      <th>salary</th>\n",
       "      <th>salary_currency</th>\n",
       "      <th>salary_in_usd</th>\n",
       "      <th>employee_residence</th>\n",
       "      <th>remote_ratio</th>\n",
       "      <th>company_location</th>\n",
       "      <th>company_size</th>\n",
       "    </tr>\n",
       "  </thead>\n",
       "  <tbody>\n",
       "    <tr>\n",
       "      <th>0</th>\n",
       "      <td>2023</td>\n",
       "      <td>SE</td>\n",
       "      <td>FT</td>\n",
       "      <td>Principal Data Scientist</td>\n",
       "      <td>80000</td>\n",
       "      <td>EUR</td>\n",
       "      <td>85847</td>\n",
       "      <td>ES</td>\n",
       "      <td>100</td>\n",
       "      <td>ES</td>\n",
       "      <td>L</td>\n",
       "    </tr>\n",
       "    <tr>\n",
       "      <th>1</th>\n",
       "      <td>2023</td>\n",
       "      <td>MI</td>\n",
       "      <td>CT</td>\n",
       "      <td>ML Engineer</td>\n",
       "      <td>30000</td>\n",
       "      <td>USD</td>\n",
       "      <td>30000</td>\n",
       "      <td>US</td>\n",
       "      <td>100</td>\n",
       "      <td>US</td>\n",
       "      <td>S</td>\n",
       "    </tr>\n",
       "    <tr>\n",
       "      <th>2</th>\n",
       "      <td>2023</td>\n",
       "      <td>MI</td>\n",
       "      <td>CT</td>\n",
       "      <td>ML Engineer</td>\n",
       "      <td>25500</td>\n",
       "      <td>USD</td>\n",
       "      <td>25500</td>\n",
       "      <td>US</td>\n",
       "      <td>100</td>\n",
       "      <td>US</td>\n",
       "      <td>S</td>\n",
       "    </tr>\n",
       "    <tr>\n",
       "      <th>3</th>\n",
       "      <td>2023</td>\n",
       "      <td>SE</td>\n",
       "      <td>FT</td>\n",
       "      <td>Data Scientist</td>\n",
       "      <td>175000</td>\n",
       "      <td>USD</td>\n",
       "      <td>175000</td>\n",
       "      <td>CA</td>\n",
       "      <td>100</td>\n",
       "      <td>CA</td>\n",
       "      <td>M</td>\n",
       "    </tr>\n",
       "    <tr>\n",
       "      <th>4</th>\n",
       "      <td>2023</td>\n",
       "      <td>SE</td>\n",
       "      <td>FT</td>\n",
       "      <td>Data Scientist</td>\n",
       "      <td>120000</td>\n",
       "      <td>USD</td>\n",
       "      <td>120000</td>\n",
       "      <td>CA</td>\n",
       "      <td>100</td>\n",
       "      <td>CA</td>\n",
       "      <td>M</td>\n",
       "    </tr>\n",
       "    <tr>\n",
       "      <th>...</th>\n",
       "      <td>...</td>\n",
       "      <td>...</td>\n",
       "      <td>...</td>\n",
       "      <td>...</td>\n",
       "      <td>...</td>\n",
       "      <td>...</td>\n",
       "      <td>...</td>\n",
       "      <td>...</td>\n",
       "      <td>...</td>\n",
       "      <td>...</td>\n",
       "      <td>...</td>\n",
       "    </tr>\n",
       "    <tr>\n",
       "      <th>3750</th>\n",
       "      <td>2020</td>\n",
       "      <td>SE</td>\n",
       "      <td>FT</td>\n",
       "      <td>Data Scientist</td>\n",
       "      <td>412000</td>\n",
       "      <td>USD</td>\n",
       "      <td>412000</td>\n",
       "      <td>US</td>\n",
       "      <td>100</td>\n",
       "      <td>US</td>\n",
       "      <td>L</td>\n",
       "    </tr>\n",
       "    <tr>\n",
       "      <th>3751</th>\n",
       "      <td>2021</td>\n",
       "      <td>MI</td>\n",
       "      <td>FT</td>\n",
       "      <td>Principal Data Scientist</td>\n",
       "      <td>151000</td>\n",
       "      <td>USD</td>\n",
       "      <td>151000</td>\n",
       "      <td>US</td>\n",
       "      <td>100</td>\n",
       "      <td>US</td>\n",
       "      <td>L</td>\n",
       "    </tr>\n",
       "    <tr>\n",
       "      <th>3752</th>\n",
       "      <td>2020</td>\n",
       "      <td>EN</td>\n",
       "      <td>FT</td>\n",
       "      <td>Data Scientist</td>\n",
       "      <td>105000</td>\n",
       "      <td>USD</td>\n",
       "      <td>105000</td>\n",
       "      <td>US</td>\n",
       "      <td>100</td>\n",
       "      <td>US</td>\n",
       "      <td>S</td>\n",
       "    </tr>\n",
       "    <tr>\n",
       "      <th>3753</th>\n",
       "      <td>2020</td>\n",
       "      <td>EN</td>\n",
       "      <td>CT</td>\n",
       "      <td>Business Data Analyst</td>\n",
       "      <td>100000</td>\n",
       "      <td>USD</td>\n",
       "      <td>100000</td>\n",
       "      <td>US</td>\n",
       "      <td>100</td>\n",
       "      <td>US</td>\n",
       "      <td>L</td>\n",
       "    </tr>\n",
       "    <tr>\n",
       "      <th>3754</th>\n",
       "      <td>2021</td>\n",
       "      <td>SE</td>\n",
       "      <td>FT</td>\n",
       "      <td>Data Science Manager</td>\n",
       "      <td>7000000</td>\n",
       "      <td>INR</td>\n",
       "      <td>94665</td>\n",
       "      <td>IN</td>\n",
       "      <td>50</td>\n",
       "      <td>IN</td>\n",
       "      <td>L</td>\n",
       "    </tr>\n",
       "  </tbody>\n",
       "</table>\n",
       "<p>3755 rows × 11 columns</p>\n",
       "</div>"
      ],
      "text/plain": [
       "      work_year experience_level employment_type                 job_title  \\\n",
       "0          2023               SE              FT  Principal Data Scientist   \n",
       "1          2023               MI              CT               ML Engineer   \n",
       "2          2023               MI              CT               ML Engineer   \n",
       "3          2023               SE              FT            Data Scientist   \n",
       "4          2023               SE              FT            Data Scientist   \n",
       "...         ...              ...             ...                       ...   \n",
       "3750       2020               SE              FT            Data Scientist   \n",
       "3751       2021               MI              FT  Principal Data Scientist   \n",
       "3752       2020               EN              FT            Data Scientist   \n",
       "3753       2020               EN              CT     Business Data Analyst   \n",
       "3754       2021               SE              FT      Data Science Manager   \n",
       "\n",
       "       salary salary_currency  salary_in_usd employee_residence  remote_ratio  \\\n",
       "0       80000             EUR          85847                 ES           100   \n",
       "1       30000             USD          30000                 US           100   \n",
       "2       25500             USD          25500                 US           100   \n",
       "3      175000             USD         175000                 CA           100   \n",
       "4      120000             USD         120000                 CA           100   \n",
       "...       ...             ...            ...                ...           ...   \n",
       "3750   412000             USD         412000                 US           100   \n",
       "3751   151000             USD         151000                 US           100   \n",
       "3752   105000             USD         105000                 US           100   \n",
       "3753   100000             USD         100000                 US           100   \n",
       "3754  7000000             INR          94665                 IN            50   \n",
       "\n",
       "     company_location company_size  \n",
       "0                  ES            L  \n",
       "1                  US            S  \n",
       "2                  US            S  \n",
       "3                  CA            M  \n",
       "4                  CA            M  \n",
       "...               ...          ...  \n",
       "3750               US            L  \n",
       "3751               US            L  \n",
       "3752               US            S  \n",
       "3753               US            L  \n",
       "3754               IN            L  \n",
       "\n",
       "[3755 rows x 11 columns]"
      ]
     },
     "execution_count": 3,
     "metadata": {},
     "output_type": "execute_result"
    }
   ],
   "source": [
    "#Creating a non-pointer copy of the dataset\n",
    "df = df_og.copy()\n",
    "df"
   ]
  },
  {
   "cell_type": "code",
   "execution_count": 4,
   "id": "e799aa70",
   "metadata": {
    "scrolled": true
   },
   "outputs": [
    {
     "name": "stdout",
     "output_type": "stream",
     "text": [
      "The dimensions of the whole dataset:  (3755, 11)\n"
     ]
    }
   ],
   "source": [
    "#Shape of the whole dataset\n",
    "print(\"The dimensions of the whole dataset: \", df.shape)"
   ]
  },
  {
   "cell_type": "code",
   "execution_count": 5,
   "id": "a7d8af61",
   "metadata": {
    "scrolled": false
   },
   "outputs": [
    {
     "data": {
      "text/html": [
       "<div>\n",
       "<style scoped>\n",
       "    .dataframe tbody tr th:only-of-type {\n",
       "        vertical-align: middle;\n",
       "    }\n",
       "\n",
       "    .dataframe tbody tr th {\n",
       "        vertical-align: top;\n",
       "    }\n",
       "\n",
       "    .dataframe thead th {\n",
       "        text-align: right;\n",
       "    }\n",
       "</style>\n",
       "<table border=\"1\" class=\"dataframe\">\n",
       "  <thead>\n",
       "    <tr style=\"text-align: right;\">\n",
       "      <th></th>\n",
       "      <th>work_year</th>\n",
       "      <th>experience_level</th>\n",
       "      <th>employment_type</th>\n",
       "      <th>job_title</th>\n",
       "      <th>salary</th>\n",
       "      <th>salary_currency</th>\n",
       "      <th>salary_in_usd</th>\n",
       "      <th>employee_residence</th>\n",
       "      <th>remote_ratio</th>\n",
       "      <th>company_location</th>\n",
       "      <th>company_size</th>\n",
       "    </tr>\n",
       "  </thead>\n",
       "  <tbody>\n",
       "    <tr>\n",
       "      <th>743</th>\n",
       "      <td>2023</td>\n",
       "      <td>SE</td>\n",
       "      <td>FT</td>\n",
       "      <td>Data Scientist</td>\n",
       "      <td>105000</td>\n",
       "      <td>USD</td>\n",
       "      <td>105000</td>\n",
       "      <td>US</td>\n",
       "      <td>0</td>\n",
       "      <td>US</td>\n",
       "      <td>M</td>\n",
       "    </tr>\n",
       "    <tr>\n",
       "      <th>3271</th>\n",
       "      <td>2022</td>\n",
       "      <td>SE</td>\n",
       "      <td>FT</td>\n",
       "      <td>Data Scientist</td>\n",
       "      <td>123000</td>\n",
       "      <td>USD</td>\n",
       "      <td>123000</td>\n",
       "      <td>US</td>\n",
       "      <td>100</td>\n",
       "      <td>US</td>\n",
       "      <td>M</td>\n",
       "    </tr>\n",
       "    <tr>\n",
       "      <th>2128</th>\n",
       "      <td>2022</td>\n",
       "      <td>EN</td>\n",
       "      <td>FL</td>\n",
       "      <td>Data Analytics Consultant</td>\n",
       "      <td>50000</td>\n",
       "      <td>USD</td>\n",
       "      <td>50000</td>\n",
       "      <td>BE</td>\n",
       "      <td>100</td>\n",
       "      <td>US</td>\n",
       "      <td>S</td>\n",
       "    </tr>\n",
       "    <tr>\n",
       "      <th>985</th>\n",
       "      <td>2023</td>\n",
       "      <td>EN</td>\n",
       "      <td>FT</td>\n",
       "      <td>AI Developer</td>\n",
       "      <td>60000</td>\n",
       "      <td>EUR</td>\n",
       "      <td>64385</td>\n",
       "      <td>DE</td>\n",
       "      <td>0</td>\n",
       "      <td>DE</td>\n",
       "      <td>M</td>\n",
       "    </tr>\n",
       "    <tr>\n",
       "      <th>2191</th>\n",
       "      <td>2022</td>\n",
       "      <td>SE</td>\n",
       "      <td>FT</td>\n",
       "      <td>Machine Learning Engineer</td>\n",
       "      <td>110000</td>\n",
       "      <td>EUR</td>\n",
       "      <td>115573</td>\n",
       "      <td>FR</td>\n",
       "      <td>100</td>\n",
       "      <td>FR</td>\n",
       "      <td>M</td>\n",
       "    </tr>\n",
       "    <tr>\n",
       "      <th>...</th>\n",
       "      <td>...</td>\n",
       "      <td>...</td>\n",
       "      <td>...</td>\n",
       "      <td>...</td>\n",
       "      <td>...</td>\n",
       "      <td>...</td>\n",
       "      <td>...</td>\n",
       "      <td>...</td>\n",
       "      <td>...</td>\n",
       "      <td>...</td>\n",
       "      <td>...</td>\n",
       "    </tr>\n",
       "    <tr>\n",
       "      <th>2420</th>\n",
       "      <td>2022</td>\n",
       "      <td>MI</td>\n",
       "      <td>FT</td>\n",
       "      <td>Data Engineer</td>\n",
       "      <td>90000</td>\n",
       "      <td>USD</td>\n",
       "      <td>90000</td>\n",
       "      <td>US</td>\n",
       "      <td>100</td>\n",
       "      <td>US</td>\n",
       "      <td>M</td>\n",
       "    </tr>\n",
       "    <tr>\n",
       "      <th>962</th>\n",
       "      <td>2023</td>\n",
       "      <td>SE</td>\n",
       "      <td>FT</td>\n",
       "      <td>Research Scientist</td>\n",
       "      <td>200000</td>\n",
       "      <td>USD</td>\n",
       "      <td>200000</td>\n",
       "      <td>US</td>\n",
       "      <td>0</td>\n",
       "      <td>US</td>\n",
       "      <td>M</td>\n",
       "    </tr>\n",
       "    <tr>\n",
       "      <th>3435</th>\n",
       "      <td>2022</td>\n",
       "      <td>MI</td>\n",
       "      <td>FT</td>\n",
       "      <td>Data Analyst</td>\n",
       "      <td>20000</td>\n",
       "      <td>USD</td>\n",
       "      <td>20000</td>\n",
       "      <td>GR</td>\n",
       "      <td>100</td>\n",
       "      <td>GR</td>\n",
       "      <td>S</td>\n",
       "    </tr>\n",
       "    <tr>\n",
       "      <th>1034</th>\n",
       "      <td>2023</td>\n",
       "      <td>EX</td>\n",
       "      <td>FT</td>\n",
       "      <td>Head of Data Science</td>\n",
       "      <td>131899</td>\n",
       "      <td>GBP</td>\n",
       "      <td>160288</td>\n",
       "      <td>GB</td>\n",
       "      <td>0</td>\n",
       "      <td>GB</td>\n",
       "      <td>M</td>\n",
       "    </tr>\n",
       "    <tr>\n",
       "      <th>2643</th>\n",
       "      <td>2022</td>\n",
       "      <td>SE</td>\n",
       "      <td>FT</td>\n",
       "      <td>Data Scientist</td>\n",
       "      <td>50000</td>\n",
       "      <td>USD</td>\n",
       "      <td>50000</td>\n",
       "      <td>US</td>\n",
       "      <td>100</td>\n",
       "      <td>US</td>\n",
       "      <td>M</td>\n",
       "    </tr>\n",
       "  </tbody>\n",
       "</table>\n",
       "<p>3004 rows × 11 columns</p>\n",
       "</div>"
      ],
      "text/plain": [
       "      work_year experience_level employment_type                  job_title  \\\n",
       "743        2023               SE              FT             Data Scientist   \n",
       "3271       2022               SE              FT             Data Scientist   \n",
       "2128       2022               EN              FL  Data Analytics Consultant   \n",
       "985        2023               EN              FT               AI Developer   \n",
       "2191       2022               SE              FT  Machine Learning Engineer   \n",
       "...         ...              ...             ...                        ...   \n",
       "2420       2022               MI              FT              Data Engineer   \n",
       "962        2023               SE              FT         Research Scientist   \n",
       "3435       2022               MI              FT               Data Analyst   \n",
       "1034       2023               EX              FT       Head of Data Science   \n",
       "2643       2022               SE              FT             Data Scientist   \n",
       "\n",
       "      salary salary_currency  salary_in_usd employee_residence  remote_ratio  \\\n",
       "743   105000             USD         105000                 US             0   \n",
       "3271  123000             USD         123000                 US           100   \n",
       "2128   50000             USD          50000                 BE           100   \n",
       "985    60000             EUR          64385                 DE             0   \n",
       "2191  110000             EUR         115573                 FR           100   \n",
       "...      ...             ...            ...                ...           ...   \n",
       "2420   90000             USD          90000                 US           100   \n",
       "962   200000             USD         200000                 US             0   \n",
       "3435   20000             USD          20000                 GR           100   \n",
       "1034  131899             GBP         160288                 GB             0   \n",
       "2643   50000             USD          50000                 US           100   \n",
       "\n",
       "     company_location company_size  \n",
       "743                US            M  \n",
       "3271               US            M  \n",
       "2128               US            S  \n",
       "985                DE            M  \n",
       "2191               FR            M  \n",
       "...               ...          ...  \n",
       "2420               US            M  \n",
       "962                US            M  \n",
       "3435               GR            S  \n",
       "1034               GB            M  \n",
       "2643               US            M  \n",
       "\n",
       "[3004 rows x 11 columns]"
      ]
     },
     "execution_count": 5,
     "metadata": {},
     "output_type": "execute_result"
    }
   ],
   "source": [
    "#Split the dataset into 80:20 train:test\n",
    "train_df, test_df = train_test_split(df ,test_size=0.2, shuffle=True) \n",
    "train_df"
   ]
  },
  {
   "cell_type": "markdown",
   "id": "6f12eeb3",
   "metadata": {},
   "source": [
    " ------------------------------------------------------------------------------------                                        "
   ]
  },
  {
   "cell_type": "markdown",
   "id": "4d6a2b86",
   "metadata": {},
   "source": [
    "# Data Exploration\n",
    " \n",
    "- Checked the shape, datatypes and non-null count of the train dataset.\n",
    "- Identified unique values of each feature.\n",
    "- Checked for implicit and explicit missing values (None were found).\n",
    "- Checked distrbution of the target value (`salary_in_usd`)\n",
    "- Identified outliers in `salary_in_usd` in the train dataset\n",
    "- Visualized the relationship between `experience_level` and `salary_in_usd`\n",
    "- Visualized the relationship between `company_size` and `salary_in_usd`"
   ]
  },
  {
   "cell_type": "code",
   "execution_count": 7,
   "id": "a3d8e82b",
   "metadata": {},
   "outputs": [
    {
     "name": "stdout",
     "output_type": "stream",
     "text": [
      "<class 'pandas.core.frame.DataFrame'>\n",
      "Int64Index: 3004 entries, 743 to 2643\n",
      "Data columns (total 11 columns):\n",
      " #   Column              Non-Null Count  Dtype \n",
      "---  ------              --------------  ----- \n",
      " 0   work_year           3004 non-null   int64 \n",
      " 1   experience_level    3004 non-null   object\n",
      " 2   employment_type     3004 non-null   object\n",
      " 3   job_title           3004 non-null   object\n",
      " 4   salary              3004 non-null   int64 \n",
      " 5   salary_currency     3004 non-null   object\n",
      " 6   salary_in_usd       3004 non-null   int64 \n",
      " 7   employee_residence  3004 non-null   object\n",
      " 8   remote_ratio        3004 non-null   int64 \n",
      " 9   company_location    3004 non-null   object\n",
      " 10  company_size        3004 non-null   object\n",
      "dtypes: int64(4), object(7)\n",
      "memory usage: 281.6+ KB\n"
     ]
    }
   ],
   "source": [
    "#Printing Information on the dataset\n",
    "train_df.info()"
   ]
  },
  {
   "cell_type": "code",
   "execution_count": 8,
   "id": "fa434528",
   "metadata": {},
   "outputs": [
    {
     "data": {
      "text/plain": [
       "work_year               4\n",
       "experience_level        4\n",
       "employment_type         4\n",
       "job_title              89\n",
       "salary                736\n",
       "salary_currency        18\n",
       "salary_in_usd         915\n",
       "employee_residence     74\n",
       "remote_ratio            3\n",
       "company_location       66\n",
       "company_size            3\n",
       "dtype: int64"
      ]
     },
     "execution_count": 8,
     "metadata": {},
     "output_type": "execute_result"
    }
   ],
   "source": [
    "#Checking unique values for each feature\n",
    "train_df.nunique()"
   ]
  },
  {
   "cell_type": "code",
   "execution_count": 9,
   "id": "9fb961f9",
   "metadata": {},
   "outputs": [
    {
     "data": {
      "text/plain": [
       "work_year             False\n",
       "experience_level      False\n",
       "employment_type       False\n",
       "job_title             False\n",
       "salary                False\n",
       "salary_currency       False\n",
       "salary_in_usd         False\n",
       "employee_residence    False\n",
       "remote_ratio          False\n",
       "company_location      False\n",
       "company_size          False\n",
       "dtype: bool"
      ]
     },
     "execution_count": 9,
     "metadata": {},
     "output_type": "execute_result"
    }
   ],
   "source": [
    "#Checking for null values\n",
    "train_df.isnull().any()"
   ]
  },
  {
   "cell_type": "code",
   "execution_count": 10,
   "id": "da2dd6d9",
   "metadata": {},
   "outputs": [
    {
     "data": {
      "text/plain": [
       "<Axes: >"
      ]
     },
     "execution_count": 10,
     "metadata": {},
     "output_type": "execute_result"
    },
    {
     "data": {
      "image/png": "[encoded data removed]",
      "text/plain": [
       "<Figure size 640x480 with 1 Axes>"
      ]
     },
     "metadata": {},
     "output_type": "display_data"
    }
   ],
   "source": [
    "#Check the salary_in_usd distribution\n",
    "sns.boxplot(train_df['salary_in_usd'])"
   ]
  },
  {
   "cell_type": "markdown",
   "id": "2812e7fb",
   "metadata": {},
   "source": [
    "As seen from the boxplot salaries approximately more than 300,000$ are identified as outliers."
   ]
  },
  {
   "cell_type": "code",
   "execution_count": 11,
   "id": "4eb43209",
   "metadata": {},
   "outputs": [
    {
     "data": {
      "text/plain": [
       "38"
      ]
     },
     "execution_count": 11,
     "metadata": {},
     "output_type": "execute_result"
    }
   ],
   "source": [
    "#Calculate number of outliers\n",
    "sum(train_df['salary_in_usd']>300000)"
   ]
  },
  {
   "cell_type": "code",
   "execution_count": 12,
   "id": "116553f6",
   "metadata": {},
   "outputs": [
    {
     "data": {
      "image/png": "[encoded data removed]",
      "text/plain": [
       "<Figure size 640x480 with 1 Axes>"
      ]
     },
     "metadata": {},
     "output_type": "display_data"
    }
   ],
   "source": [
    "#Plot the relationship between Experience Level and Salary in USD\n",
    "sns.boxplot(x=train_df['experience_level'], y=train_df['salary_in_usd'], order=['EN', 'MI', 'SE', 'EX'])\n",
    "plt.xlabel('Experience Level')\n",
    "plt.ylabel('Salary in USD')\n",
    "plt.title('Relationship between Experience Level and Salary in USD')\n",
    "plt.show()"
   ]
  },
  {
   "cell_type": "markdown",
   "id": "25adfba8",
   "metadata": {},
   "source": [
    "As seen from the boxplot as `experience_level` moves from Entry-Level to Executive, the `salary_in_usd` range increases."
   ]
  },
  {
   "cell_type": "code",
   "execution_count": 13,
   "id": "b10132de",
   "metadata": {},
   "outputs": [
    {
     "name": "stdout",
     "output_type": "stream",
     "text": [
      "SE    1998\n",
      "MI     652\n",
      "EN     255\n",
      "EX      99\n",
      "Name: experience_level, dtype: int64\n"
     ]
    }
   ],
   "source": [
    "#Check the experience_level distribution\n",
    "print(train_df['experience_level'].value_counts())"
   ]
  },
  {
   "cell_type": "code",
   "execution_count": 14,
   "id": "74638606",
   "metadata": {},
   "outputs": [
    {
     "data": {
      "image/png": "[encoded data removed]",
      "text/plain": [
       "<Figure size 640x480 with 1 Axes>"
      ]
     },
     "metadata": {},
     "output_type": "display_data"
    }
   ],
   "source": [
    "#Plot the relationship between Company Size and Salary in USD\n",
    "sns.boxplot(x=train_df['company_size'], y=train_df['salary_in_usd'], order=['S', 'M', 'L'])\n",
    "plt.xlabel('Company Size')\n",
    "plt.ylabel('Salary in USD')\n",
    "plt.title('Relationship between Company Size and Salary in USD')\n",
    "plt.show()"
   ]
  },
  {
   "cell_type": "markdown",
   "id": "7f9b3ea0",
   "metadata": {},
   "source": [
    "As seen from the graph (BoxPlot) as the `company_size` increases from S to L, the `salary_in_usd` increases. Although with M-Sized and L-Sized companies the difference is insignificant."
   ]
  },
  {
   "cell_type": "code",
   "execution_count": 15,
   "id": "d996868f",
   "metadata": {},
   "outputs": [
    {
     "name": "stdout",
     "output_type": "stream",
     "text": [
      "M    2526\n",
      "L     358\n",
      "S     120\n",
      "Name: company_size, dtype: int64\n"
     ]
    }
   ],
   "source": [
    "#Check the comapny_size distribution\n",
    "print(train_df['company_size'].value_counts())"
   ]
  },
  {
   "cell_type": "markdown",
   "id": "46e5507b",
   "metadata": {},
   "source": [
    "- The training dataset consists of 11 columns (Features) and 3004 rows (Data points).\n",
    "- After plotting the `salary_in_usd` distribution (BoxPlot), 38 outlier were identified.\n",
    "- The features `salary_in_usd` and `experience_level` has a strong Linear Realtionship.\n",
    "- More than 50% of the train set has `experience_level` = Senior\n",
    "- The features `salary_in_usd` and `company_size` has a Linear realtionship.\n",
    "- More than 75% of the train set's ` company_size` = Medium\n",
    "- The imbalance in the features, `experience_level` and ` company_size` might affect the predictor's performance."
   ]
  },
  {
   "cell_type": "markdown",
   "id": "b6f6bf7d",
   "metadata": {},
   "source": [
    " ------------------------------------------------------------------------------------                                        "
   ]
  },
  {
   "cell_type": "markdown",
   "id": "22e8a97f",
   "metadata": {},
   "source": [
    "# Data Preprocessing \n",
    "\n",
    "- Dropped columns `salary` and `salary_curreny` as we will be predicting the `salary_in_usd` for uniformity.\n",
    "- Removed the `salary_in_usd` outlier identified from the train dataset since they were only 38 records.\n",
    "    - Keeping them was also tested, however it negatively affected the model performance.\n",
    "    - Tried removing other outliers such as job type (Full-time/Part-time), however it only affected the performance negatively therefore, it wasn't implemented.\n",
    "- Split the train and test dataset into Features and Target (`salary_in_usd`)"
   ]
  },
  {
   "cell_type": "code",
   "execution_count": 16,
   "id": "aba95e0b",
   "metadata": {},
   "outputs": [],
   "source": [
    "#Drop Columns Salary and salary_currency as we will be using the salary_in_usd\n",
    "train_df=train_df.drop(['salary', 'salary_currency'], axis=1)"
   ]
  },
  {
   "cell_type": "code",
   "execution_count": 17,
   "id": "c44c2434",
   "metadata": {},
   "outputs": [
    {
     "data": {
      "text/html": [
       "<div>\n",
       "<style scoped>\n",
       "    .dataframe tbody tr th:only-of-type {\n",
       "        vertical-align: middle;\n",
       "    }\n",
       "\n",
       "    .dataframe tbody tr th {\n",
       "        vertical-align: top;\n",
       "    }\n",
       "\n",
       "    .dataframe thead th {\n",
       "        text-align: right;\n",
       "    }\n",
       "</style>\n",
       "<table border=\"1\" class=\"dataframe\">\n",
       "  <thead>\n",
       "    <tr style=\"text-align: right;\">\n",
       "      <th></th>\n",
       "      <th>work_year</th>\n",
       "      <th>experience_level</th>\n",
       "      <th>employment_type</th>\n",
       "      <th>job_title</th>\n",
       "      <th>salary_in_usd</th>\n",
       "      <th>employee_residence</th>\n",
       "      <th>remote_ratio</th>\n",
       "      <th>company_location</th>\n",
       "      <th>company_size</th>\n",
       "    </tr>\n",
       "  </thead>\n",
       "  <tbody>\n",
       "    <tr>\n",
       "      <th>743</th>\n",
       "      <td>2023</td>\n",
       "      <td>SE</td>\n",
       "      <td>FT</td>\n",
       "      <td>Data Scientist</td>\n",
       "      <td>105000</td>\n",
       "      <td>US</td>\n",
       "      <td>0</td>\n",
       "      <td>US</td>\n",
       "      <td>M</td>\n",
       "    </tr>\n",
       "    <tr>\n",
       "      <th>3271</th>\n",
       "      <td>2022</td>\n",
       "      <td>SE</td>\n",
       "      <td>FT</td>\n",
       "      <td>Data Scientist</td>\n",
       "      <td>123000</td>\n",
       "      <td>US</td>\n",
       "      <td>100</td>\n",
       "      <td>US</td>\n",
       "      <td>M</td>\n",
       "    </tr>\n",
       "    <tr>\n",
       "      <th>2128</th>\n",
       "      <td>2022</td>\n",
       "      <td>EN</td>\n",
       "      <td>FL</td>\n",
       "      <td>Data Analytics Consultant</td>\n",
       "      <td>50000</td>\n",
       "      <td>BE</td>\n",
       "      <td>100</td>\n",
       "      <td>US</td>\n",
       "      <td>S</td>\n",
       "    </tr>\n",
       "    <tr>\n",
       "      <th>985</th>\n",
       "      <td>2023</td>\n",
       "      <td>EN</td>\n",
       "      <td>FT</td>\n",
       "      <td>AI Developer</td>\n",
       "      <td>64385</td>\n",
       "      <td>DE</td>\n",
       "      <td>0</td>\n",
       "      <td>DE</td>\n",
       "      <td>M</td>\n",
       "    </tr>\n",
       "    <tr>\n",
       "      <th>2191</th>\n",
       "      <td>2022</td>\n",
       "      <td>SE</td>\n",
       "      <td>FT</td>\n",
       "      <td>Machine Learning Engineer</td>\n",
       "      <td>115573</td>\n",
       "      <td>FR</td>\n",
       "      <td>100</td>\n",
       "      <td>FR</td>\n",
       "      <td>M</td>\n",
       "    </tr>\n",
       "    <tr>\n",
       "      <th>...</th>\n",
       "      <td>...</td>\n",
       "      <td>...</td>\n",
       "      <td>...</td>\n",
       "      <td>...</td>\n",
       "      <td>...</td>\n",
       "      <td>...</td>\n",
       "      <td>...</td>\n",
       "      <td>...</td>\n",
       "      <td>...</td>\n",
       "    </tr>\n",
       "    <tr>\n",
       "      <th>2420</th>\n",
       "      <td>2022</td>\n",
       "      <td>MI</td>\n",
       "      <td>FT</td>\n",
       "      <td>Data Engineer</td>\n",
       "      <td>90000</td>\n",
       "      <td>US</td>\n",
       "      <td>100</td>\n",
       "      <td>US</td>\n",
       "      <td>M</td>\n",
       "    </tr>\n",
       "    <tr>\n",
       "      <th>962</th>\n",
       "      <td>2023</td>\n",
       "      <td>SE</td>\n",
       "      <td>FT</td>\n",
       "      <td>Research Scientist</td>\n",
       "      <td>200000</td>\n",
       "      <td>US</td>\n",
       "      <td>0</td>\n",
       "      <td>US</td>\n",
       "      <td>M</td>\n",
       "    </tr>\n",
       "    <tr>\n",
       "      <th>3435</th>\n",
       "      <td>2022</td>\n",
       "      <td>MI</td>\n",
       "      <td>FT</td>\n",
       "      <td>Data Analyst</td>\n",
       "      <td>20000</td>\n",
       "      <td>GR</td>\n",
       "      <td>100</td>\n",
       "      <td>GR</td>\n",
       "      <td>S</td>\n",
       "    </tr>\n",
       "    <tr>\n",
       "      <th>1034</th>\n",
       "      <td>2023</td>\n",
       "      <td>EX</td>\n",
       "      <td>FT</td>\n",
       "      <td>Head of Data Science</td>\n",
       "      <td>160288</td>\n",
       "      <td>GB</td>\n",
       "      <td>0</td>\n",
       "      <td>GB</td>\n",
       "      <td>M</td>\n",
       "    </tr>\n",
       "    <tr>\n",
       "      <th>2643</th>\n",
       "      <td>2022</td>\n",
       "      <td>SE</td>\n",
       "      <td>FT</td>\n",
       "      <td>Data Scientist</td>\n",
       "      <td>50000</td>\n",
       "      <td>US</td>\n",
       "      <td>100</td>\n",
       "      <td>US</td>\n",
       "      <td>M</td>\n",
       "    </tr>\n",
       "  </tbody>\n",
       "</table>\n",
       "<p>2955 rows × 9 columns</p>\n",
       "</div>"
      ],
      "text/plain": [
       "      work_year experience_level employment_type                  job_title  \\\n",
       "743        2023               SE              FT             Data Scientist   \n",
       "3271       2022               SE              FT             Data Scientist   \n",
       "2128       2022               EN              FL  Data Analytics Consultant   \n",
       "985        2023               EN              FT               AI Developer   \n",
       "2191       2022               SE              FT  Machine Learning Engineer   \n",
       "...         ...              ...             ...                        ...   \n",
       "2420       2022               MI              FT              Data Engineer   \n",
       "962        2023               SE              FT         Research Scientist   \n",
       "3435       2022               MI              FT               Data Analyst   \n",
       "1034       2023               EX              FT       Head of Data Science   \n",
       "2643       2022               SE              FT             Data Scientist   \n",
       "\n",
       "      salary_in_usd employee_residence  remote_ratio company_location  \\\n",
       "743          105000                 US             0               US   \n",
       "3271         123000                 US           100               US   \n",
       "2128          50000                 BE           100               US   \n",
       "985           64385                 DE             0               DE   \n",
       "2191         115573                 FR           100               FR   \n",
       "...             ...                ...           ...              ...   \n",
       "2420          90000                 US           100               US   \n",
       "962          200000                 US             0               US   \n",
       "3435          20000                 GR           100               GR   \n",
       "1034         160288                 GB             0               GB   \n",
       "2643          50000                 US           100               US   \n",
       "\n",
       "     company_size  \n",
       "743             M  \n",
       "3271            M  \n",
       "2128            S  \n",
       "985             M  \n",
       "2191            M  \n",
       "...           ...  \n",
       "2420            M  \n",
       "962             M  \n",
       "3435            S  \n",
       "1034            M  \n",
       "2643            M  \n",
       "\n",
       "[2955 rows x 9 columns]"
      ]
     },
     "execution_count": 17,
     "metadata": {},
     "output_type": "execute_result"
    }
   ],
   "source": [
    "#Remove Outlier\n",
    "train_df=train_df.loc[df['salary_in_usd']<300000]\n",
    "train_df"
   ]
  },
  {
   "cell_type": "markdown",
   "id": "cb62b3ae",
   "metadata": {},
   "source": [
    "The Training dataset now has 2955 rows (Records) and 9 columns (Features)"
   ]
  },
  {
   "cell_type": "code",
   "execution_count": 18,
   "id": "65bad3e5",
   "metadata": {},
   "outputs": [],
   "source": [
    "#Splitting train dataset to features(x) and Target(y)\n",
    "x_train=train_df.drop(['salary_in_usd'], axis=1)\n",
    "y_train=train_df['salary_in_usd']\n",
    "\n",
    "#Splitting train dataset to features(x) and Target(y)\n",
    "x_test=test_df.drop(['salary_in_usd'], axis=1)\n",
    "y_test=test_df['salary_in_usd']"
   ]
  },
  {
   "cell_type": "markdown",
   "id": "3bd323c8",
   "metadata": {},
   "source": [
    " ------------------------------------------------------------------------------------                                        "
   ]
  },
  {
   "cell_type": "markdown",
   "id": "5e475569",
   "metadata": {},
   "source": [
    "# Feature Engineering"
   ]
  },
  {
   "cell_type": "markdown",
   "id": "159b99e1",
   "metadata": {},
   "source": [
    "**Feature Encoding and Scaling**\n",
    "\n",
    "- Transformed the following using ColumnTransformer:\n",
    "\n",
    "    - The following categorical features were encoded using **OneHotEncoder**:\n",
    "        - `work_year`\n",
    "            - Since there were only 4 work years (2020,2021,2022 and 2023), it was better to encode it as a categorical feature                 and not numerical.\n",
    "        - `employment_type`\n",
    "        - `job_title`\n",
    "        - `employee_residence`\n",
    "        - `company_location`\n",
    "        \n",
    "    - The following categorical features were encoded using **OrdinalEncoder** as they have natural ordering and can be ranked:\n",
    "       - `experience_level`\n",
    "       - `company_size`\n",
    "       \n",
    "    - The following numerical feature was scaled using **StandardScaler**:\n",
    "        - `remote_ratio`"
   ]
  },
  {
   "cell_type": "code",
   "execution_count": 19,
   "id": "68c6ec28",
   "metadata": {},
   "outputs": [
    {
     "data": {
      "text/plain": [
       "Index(['experience_level', 'employment_type', 'job_title',\n",
       "       'employee_residence', 'company_location', 'company_size'],\n",
       "      dtype='object')"
      ]
     },
     "execution_count": 19,
     "metadata": {},
     "output_type": "execute_result"
    }
   ],
   "source": [
    "#Getting a list of the categorical features\n",
    "cat_cols = train_df.select_dtypes(include=['object']).columns\n",
    "cat_cols"
   ]
  },
  {
   "cell_type": "code",
   "execution_count": 20,
   "id": "e6fd2f2b",
   "metadata": {},
   "outputs": [
    {
     "name": "stdout",
     "output_type": "stream",
     "text": [
      "\n",
      " Train data shape after Encoding and Scaling of features:  (2955, 239)\n",
      "\n",
      " Test data shape after Encoding and Scaling of features:  (751, 239)\n"
     ]
    }
   ],
   "source": [
    "#Ordering the experience_level feature from entry-level to executive\n",
    "ex_level_categories = [['EN', 'MI', 'SE', 'EX']] \n",
    "#Ordering the company_size feature from S to L\n",
    "comp_size_categories = [['S', 'M', 'L']]\n",
    "\n",
    "\n",
    "# Create the ColumnTransformer\n",
    "transformer = ColumnTransformer([\n",
    "    ('OrdinalEncoder', OrdinalEncoder(categories=ex_level_categories, handle_unknown='use_encoded_value', unknown_value=-1), ['experience_level']),\n",
    "    ('OrdinalEncoder2', OrdinalEncoder(categories=comp_size_categories, handle_unknown='use_encoded_value', unknown_value=-1), ['company_size']),\n",
    "    ('OnehotEncoder', OneHotEncoder(handle_unknown='ignore'), ['work_year','employment_type', 'job_title', 'employee_residence', 'company_location']),\n",
    "    ('Scaled', StandardScaler(), ['remote_ratio'])\n",
    "])\n",
    "\n",
    "#Fitting the transformer to the x_train data\n",
    "transformer.fit(x_train)\n",
    "\n",
    "# Apply the transformation to the x_train data\n",
    "x_train_enc = transformer.transform(x_train)\n",
    "## Apply the transformation to the x_test data\n",
    "x_test_enc= transformer.transform(x_test)\n",
    "\n",
    "print(\"\\n Train data shape after Encoding and Scaling of features: \", x_train_enc.shape)\n",
    "print(\"\\n Test data shape after Encoding and Scaling of features: \", x_test_enc.shape)"
   ]
  },
  {
   "cell_type": "markdown",
   "id": "c1eb3f6f",
   "metadata": {},
   "source": [
    "                                      "
   ]
  },
  {
   "cell_type": "markdown",
   "id": "1c64d9da",
   "metadata": {},
   "source": [
    "**Dimensionality Reduction**\n",
    "\n",
    "- Plotted the PCA graph in order to choose the most suitable n-components\n",
    "- Chose n=50 to balance between reducing dimensionality and keeping important features.\n",
    "- Applied PCA to data\n",
    "- Converted data to pandas df again in order to match the y_train and y_test datatype"
   ]
  },
  {
   "cell_type": "code",
   "execution_count": 22,
   "id": "ad96cdec",
   "metadata": {},
   "outputs": [
    {
     "data": {
      "image/png": "[encoded data removed]",
      "text/plain": [
       "<Figure size 640x480 with 1 Axes>"
      ]
     },
     "metadata": {},
     "output_type": "display_data"
    }
   ],
   "source": [
    "#Initialize PCA\n",
    "pca = PCA(n_components=None)\n",
    "#Fit PCA to x_train data\n",
    "pca.fit(x_train_enc.toarray())\n",
    "\n",
    "#Calculating cumulative explained variance ratio\n",
    "exp_var = pca.explained_variance_ratio_ * 100\n",
    "cum_exp_var = np.cumsum(exp_var)\n",
    "\n",
    "#Plotting the individual explained variance\n",
    "plt.bar(range(1, 240), exp_var, align='center',\n",
    "        label='Individual explained variance')\n",
    "\n",
    "#Plotting the cumulative explained variance\n",
    "plt.step(range(1,240), cum_exp_var, where='mid',\n",
    "         label='Cumulative explained variance', color='red')\n",
    "\n",
    "plt.ylabel('Explained variance percentage')\n",
    "plt.xlabel('Principal component index')\n",
    "plt.xticks(ticks=[1,50,100,150,200,243])\n",
    "plt.legend(loc='best')\n",
    "plt.tight_layout()"
   ]
  },
  {
   "cell_type": "markdown",
   "id": "480714be",
   "metadata": {},
   "source": [
    "After analyzing the graph and prioritizing finding the best balance between reducing dimensionality and keeping important features, the n-components were chosen to be 50.\n",
    "- Note that n_components= 25 and n_components= 65 were tested and they both negatively affected the model performance."
   ]
  },
  {
   "cell_type": "code",
   "execution_count": 23,
   "id": "b344217b",
   "metadata": {},
   "outputs": [
    {
     "data": {
      "text/html": [
       "<style>#sk-container-id-1 {color: black;background-color: white;}#sk-container-id-1 pre{padding: 0;}#sk-container-id-1 div.sk-toggleable {background-color: white;}#sk-container-id-1 label.sk-toggleable__label {cursor: pointer;display: block;width: 100%;margin-bottom: 0;padding: 0.3em;box-sizing: border-box;text-align: center;}#sk-container-id-1 label.sk-toggleable__label-arrow:before {content: \"▸\";float: left;margin-right: 0.25em;color: #696969;}#sk-container-id-1 label.sk-toggleable__label-arrow:hover:before {color: black;}#sk-container-id-1 div.sk-estimator:hover label.sk-toggleable__label-arrow:before {color: black;}#sk-container-id-1 div.sk-toggleable__content {max-height: 0;max-width: 0;overflow: hidden;text-align: left;background-color: #f0f8ff;}#sk-container-id-1 div.sk-toggleable__content pre {margin: 0.2em;color: black;border-radius: 0.25em;background-color: #f0f8ff;}#sk-container-id-1 input.sk-toggleable__control:checked~div.sk-toggleable__content {max-height: 200px;max-width: 100%;overflow: auto;}#sk-container-id-1 input.sk-toggleable__control:checked~label.sk-toggleable__label-arrow:before {content: \"▾\";}#sk-container-id-1 div.sk-estimator input.sk-toggleable__control:checked~label.sk-toggleable__label {background-color: #d4ebff;}#sk-container-id-1 div.sk-label input.sk-toggleable__control:checked~label.sk-toggleable__label {background-color: #d4ebff;}#sk-container-id-1 input.sk-hidden--visually {border: 0;clip: rect(1px 1px 1px 1px);clip: rect(1px, 1px, 1px, 1px);height: 1px;margin: -1px;overflow: hidden;padding: 0;position: absolute;width: 1px;}#sk-container-id-1 div.sk-estimator {font-family: monospace;background-color: #f0f8ff;border: 1px dotted black;border-radius: 0.25em;box-sizing: border-box;margin-bottom: 0.5em;}#sk-container-id-1 div.sk-estimator:hover {background-color: #d4ebff;}#sk-container-id-1 div.sk-parallel-item::after {content: \"\";width: 100%;border-bottom: 1px solid gray;flex-grow: 1;}#sk-container-id-1 div.sk-label:hover label.sk-toggleable__label {background-color: #d4ebff;}#sk-container-id-1 div.sk-serial::before {content: \"\";position: absolute;border-left: 1px solid gray;box-sizing: border-box;top: 0;bottom: 0;left: 50%;z-index: 0;}#sk-container-id-1 div.sk-serial {display: flex;flex-direction: column;align-items: center;background-color: white;padding-right: 0.2em;padding-left: 0.2em;position: relative;}#sk-container-id-1 div.sk-item {position: relative;z-index: 1;}#sk-container-id-1 div.sk-parallel {display: flex;align-items: stretch;justify-content: center;background-color: white;position: relative;}#sk-container-id-1 div.sk-item::before, #sk-container-id-1 div.sk-parallel-item::before {content: \"\";position: absolute;border-left: 1px solid gray;box-sizing: border-box;top: 0;bottom: 0;left: 50%;z-index: -1;}#sk-container-id-1 div.sk-parallel-item {display: flex;flex-direction: column;z-index: 1;position: relative;background-color: white;}#sk-container-id-1 div.sk-parallel-item:first-child::after {align-self: flex-end;width: 50%;}#sk-container-id-1 div.sk-parallel-item:last-child::after {align-self: flex-start;width: 50%;}#sk-container-id-1 div.sk-parallel-item:only-child::after {width: 0;}#sk-container-id-1 div.sk-dashed-wrapped {border: 1px dashed gray;margin: 0 0.4em 0.5em 0.4em;box-sizing: border-box;padding-bottom: 0.4em;background-color: white;}#sk-container-id-1 div.sk-label label {font-family: monospace;font-weight: bold;display: inline-block;line-height: 1.2em;}#sk-container-id-1 div.sk-label-container {text-align: center;}#sk-container-id-1 div.sk-container {/* jupyter's `normalize.less` sets `[hidden] { display: none; }` but bootstrap.min.css set `[hidden] { display: none !important; }` so we also need the `!important` here to be able to override the default hidden behavior on the sphinx rendered scikit-learn.org. See: https://github.com/scikit-learn/scikit-learn/issues/21755 */display: inline-block !important;position: relative;}#sk-container-id-1 div.sk-text-repr-fallback {display: none;}</style><div id=\"sk-container-id-1\" class=\"sk-top-container\"><div class=\"sk-text-repr-fallback\"><pre>PCA(n_components=50)</pre><b>In a Jupyter environment, please rerun this cell to show the HTML representation or trust the notebook. <br />On GitHub, the HTML representation is unable to render, please try loading this page with nbviewer.org.</b></div><div class=\"sk-container\" hidden><div class=\"sk-item\"><div class=\"sk-estimator sk-toggleable\"><input class=\"sk-toggleable__control sk-hidden--visually\" id=\"sk-estimator-id-1\" type=\"checkbox\" checked><label for=\"sk-estimator-id-1\" class=\"sk-toggleable__label sk-toggleable__label-arrow\">PCA</label><div class=\"sk-toggleable__content\"><pre>PCA(n_components=50)</pre></div></div></div></div></div>"
      ],
      "text/plain": [
       "PCA(n_components=50)"
      ]
     },
     "execution_count": 23,
     "metadata": {},
     "output_type": "execute_result"
    }
   ],
   "source": [
    "#Initialize PCA with 50 components\n",
    "pca= PCA (n_components = 50)\n",
    "#Fit PCA to train data\n",
    "pca.fit(x_train_enc.toarray())"
   ]
  },
  {
   "cell_type": "code",
   "execution_count": 24,
   "id": "e7d764b0",
   "metadata": {},
   "outputs": [
    {
     "name": "stdout",
     "output_type": "stream",
     "text": [
      "x_train shape: (2955, 50)\n",
      "x_test shape: (751, 50)\n"
     ]
    }
   ],
   "source": [
    "#Apply fitted PCA to x_train and x_test data\n",
    "x_train_pca = pca.transform(x_train_enc.toarray())\n",
    "x_test_pca = pca.transform(x_test_enc.toarray())\n",
    "print(\"x_train shape:\", x_train_pca.shape)\n",
    "print(\"x_test shape:\", x_test_pca.shape)"
   ]
  },
  {
   "cell_type": "code",
   "execution_count": 25,
   "id": "7cec88da",
   "metadata": {},
   "outputs": [
    {
     "name": "stdout",
     "output_type": "stream",
     "text": [
      "\n",
      " The final dataset that will be used to apply the model \n",
      "\n"
     ]
    },
    {
     "data": {
      "text/html": [
       "<div>\n",
       "<style scoped>\n",
       "    .dataframe tbody tr th:only-of-type {\n",
       "        vertical-align: middle;\n",
       "    }\n",
       "\n",
       "    .dataframe tbody tr th {\n",
       "        vertical-align: top;\n",
       "    }\n",
       "\n",
       "    .dataframe thead th {\n",
       "        text-align: right;\n",
       "    }\n",
       "</style>\n",
       "<table border=\"1\" class=\"dataframe\">\n",
       "  <thead>\n",
       "    <tr style=\"text-align: right;\">\n",
       "      <th></th>\n",
       "      <th>PC1</th>\n",
       "      <th>PC2</th>\n",
       "      <th>PC3</th>\n",
       "      <th>PC4</th>\n",
       "      <th>PC5</th>\n",
       "      <th>PC6</th>\n",
       "      <th>PC7</th>\n",
       "      <th>PC8</th>\n",
       "      <th>PC9</th>\n",
       "      <th>PC10</th>\n",
       "      <th>...</th>\n",
       "      <th>PC41</th>\n",
       "      <th>PC42</th>\n",
       "      <th>PC43</th>\n",
       "      <th>PC44</th>\n",
       "      <th>PC45</th>\n",
       "      <th>PC46</th>\n",
       "      <th>PC47</th>\n",
       "      <th>PC48</th>\n",
       "      <th>PC49</th>\n",
       "      <th>PC50</th>\n",
       "    </tr>\n",
       "  </thead>\n",
       "  <tbody>\n",
       "    <tr>\n",
       "      <th>0</th>\n",
       "      <td>-1.114987</td>\n",
       "      <td>-0.376418</td>\n",
       "      <td>0.362262</td>\n",
       "      <td>0.283268</td>\n",
       "      <td>-0.628566</td>\n",
       "      <td>-0.522789</td>\n",
       "      <td>0.131345</td>\n",
       "      <td>-0.160965</td>\n",
       "      <td>-0.029274</td>\n",
       "      <td>0.032610</td>\n",
       "      <td>...</td>\n",
       "      <td>-0.003642</td>\n",
       "      <td>-0.000834</td>\n",
       "      <td>-0.000557</td>\n",
       "      <td>0.002920</td>\n",
       "      <td>-0.003123</td>\n",
       "      <td>0.001684</td>\n",
       "      <td>0.001591</td>\n",
       "      <td>-0.002910</td>\n",
       "      <td>0.002526</td>\n",
       "      <td>-0.001350</td>\n",
       "    </tr>\n",
       "    <tr>\n",
       "      <th>1</th>\n",
       "      <td>1.202634</td>\n",
       "      <td>-0.544128</td>\n",
       "      <td>-0.524611</td>\n",
       "      <td>0.123760</td>\n",
       "      <td>-0.645502</td>\n",
       "      <td>-0.448933</td>\n",
       "      <td>0.186263</td>\n",
       "      <td>-0.134605</td>\n",
       "      <td>0.015655</td>\n",
       "      <td>0.032016</td>\n",
       "      <td>...</td>\n",
       "      <td>0.000254</td>\n",
       "      <td>-0.001340</td>\n",
       "      <td>-0.002212</td>\n",
       "      <td>0.001263</td>\n",
       "      <td>0.003259</td>\n",
       "      <td>0.000395</td>\n",
       "      <td>0.000927</td>\n",
       "      <td>0.000835</td>\n",
       "      <td>-0.000937</td>\n",
       "      <td>-0.001484</td>\n",
       "    </tr>\n",
       "    <tr>\n",
       "      <th>2</th>\n",
       "      <td>1.417071</td>\n",
       "      <td>1.423702</td>\n",
       "      <td>-0.120629</td>\n",
       "      <td>-0.647160</td>\n",
       "      <td>-0.140587</td>\n",
       "      <td>0.140662</td>\n",
       "      <td>1.169822</td>\n",
       "      <td>0.392230</td>\n",
       "      <td>-0.142251</td>\n",
       "      <td>-0.146269</td>\n",
       "      <td>...</td>\n",
       "      <td>-0.261953</td>\n",
       "      <td>0.072617</td>\n",
       "      <td>0.336862</td>\n",
       "      <td>-0.265354</td>\n",
       "      <td>0.218906</td>\n",
       "      <td>0.240810</td>\n",
       "      <td>0.165788</td>\n",
       "      <td>-0.223270</td>\n",
       "      <td>-0.190081</td>\n",
       "      <td>-0.506958</td>\n",
       "    </tr>\n",
       "    <tr>\n",
       "      <th>3</th>\n",
       "      <td>-0.816365</td>\n",
       "      <td>2.008584</td>\n",
       "      <td>0.764740</td>\n",
       "      <td>0.132023</td>\n",
       "      <td>0.088753</td>\n",
       "      <td>-0.024763</td>\n",
       "      <td>0.208814</td>\n",
       "      <td>0.205490</td>\n",
       "      <td>-0.071540</td>\n",
       "      <td>-0.403982</td>\n",
       "      <td>...</td>\n",
       "      <td>-0.051957</td>\n",
       "      <td>0.065649</td>\n",
       "      <td>-0.076322</td>\n",
       "      <td>-0.018372</td>\n",
       "      <td>0.092338</td>\n",
       "      <td>0.090947</td>\n",
       "      <td>-0.051870</td>\n",
       "      <td>-0.017533</td>\n",
       "      <td>0.067469</td>\n",
       "      <td>-0.116968</td>\n",
       "    </tr>\n",
       "    <tr>\n",
       "      <th>4</th>\n",
       "      <td>1.321354</td>\n",
       "      <td>0.201895</td>\n",
       "      <td>-0.454796</td>\n",
       "      <td>1.007763</td>\n",
       "      <td>0.221883</td>\n",
       "      <td>0.395353</td>\n",
       "      <td>0.108073</td>\n",
       "      <td>0.743746</td>\n",
       "      <td>0.229724</td>\n",
       "      <td>-0.400761</td>\n",
       "      <td>...</td>\n",
       "      <td>-0.020560</td>\n",
       "      <td>0.030905</td>\n",
       "      <td>0.005172</td>\n",
       "      <td>-0.002642</td>\n",
       "      <td>0.026425</td>\n",
       "      <td>0.008234</td>\n",
       "      <td>-0.016257</td>\n",
       "      <td>0.017480</td>\n",
       "      <td>0.020064</td>\n",
       "      <td>0.031842</td>\n",
       "    </tr>\n",
       "    <tr>\n",
       "      <th>...</th>\n",
       "      <td>...</td>\n",
       "      <td>...</td>\n",
       "      <td>...</td>\n",
       "      <td>...</td>\n",
       "      <td>...</td>\n",
       "      <td>...</td>\n",
       "      <td>...</td>\n",
       "      <td>...</td>\n",
       "      <td>...</td>\n",
       "      <td>...</td>\n",
       "      <td>...</td>\n",
       "      <td>...</td>\n",
       "      <td>...</td>\n",
       "      <td>...</td>\n",
       "      <td>...</td>\n",
       "      <td>...</td>\n",
       "      <td>...</td>\n",
       "      <td>...</td>\n",
       "      <td>...</td>\n",
       "      <td>...</td>\n",
       "      <td>...</td>\n",
       "    </tr>\n",
       "    <tr>\n",
       "      <th>2950</th>\n",
       "      <td>1.235851</td>\n",
       "      <td>0.201636</td>\n",
       "      <td>-0.407889</td>\n",
       "      <td>-0.845897</td>\n",
       "      <td>0.550574</td>\n",
       "      <td>-0.258356</td>\n",
       "      <td>0.169314</td>\n",
       "      <td>-0.066375</td>\n",
       "      <td>0.034815</td>\n",
       "      <td>-0.068949</td>\n",
       "      <td>...</td>\n",
       "      <td>0.005180</td>\n",
       "      <td>-0.004455</td>\n",
       "      <td>0.000807</td>\n",
       "      <td>-0.004509</td>\n",
       "      <td>0.003697</td>\n",
       "      <td>-0.003753</td>\n",
       "      <td>-0.000171</td>\n",
       "      <td>-0.000604</td>\n",
       "      <td>-0.000027</td>\n",
       "      <td>-0.000659</td>\n",
       "    </tr>\n",
       "    <tr>\n",
       "      <th>2951</th>\n",
       "      <td>-1.149614</td>\n",
       "      <td>-0.354704</td>\n",
       "      <td>0.402686</td>\n",
       "      <td>0.075678</td>\n",
       "      <td>-0.115840</td>\n",
       "      <td>0.100775</td>\n",
       "      <td>-0.038375</td>\n",
       "      <td>0.269031</td>\n",
       "      <td>0.007418</td>\n",
       "      <td>-0.029938</td>\n",
       "      <td>...</td>\n",
       "      <td>0.002917</td>\n",
       "      <td>0.003884</td>\n",
       "      <td>-0.001720</td>\n",
       "      <td>-0.002768</td>\n",
       "      <td>-0.001781</td>\n",
       "      <td>-0.011264</td>\n",
       "      <td>-0.001339</td>\n",
       "      <td>-0.001059</td>\n",
       "      <td>-0.005374</td>\n",
       "      <td>-0.003292</td>\n",
       "    </tr>\n",
       "    <tr>\n",
       "      <th>2952</th>\n",
       "      <td>1.380425</td>\n",
       "      <td>0.963264</td>\n",
       "      <td>-0.247834</td>\n",
       "      <td>0.262934</td>\n",
       "      <td>-0.042911</td>\n",
       "      <td>1.040681</td>\n",
       "      <td>1.073810</td>\n",
       "      <td>-0.246988</td>\n",
       "      <td>-0.264492</td>\n",
       "      <td>-0.217393</td>\n",
       "      <td>...</td>\n",
       "      <td>0.010284</td>\n",
       "      <td>-0.001860</td>\n",
       "      <td>0.018465</td>\n",
       "      <td>-0.011273</td>\n",
       "      <td>-0.010486</td>\n",
       "      <td>0.003611</td>\n",
       "      <td>0.039756</td>\n",
       "      <td>0.021219</td>\n",
       "      <td>0.008581</td>\n",
       "      <td>-0.039737</td>\n",
       "    </tr>\n",
       "    <tr>\n",
       "      <th>2953</th>\n",
       "      <td>-1.080307</td>\n",
       "      <td>-0.311792</td>\n",
       "      <td>0.253723</td>\n",
       "      <td>1.891516</td>\n",
       "      <td>0.527089</td>\n",
       "      <td>0.433262</td>\n",
       "      <td>0.150322</td>\n",
       "      <td>-0.117175</td>\n",
       "      <td>0.708879</td>\n",
       "      <td>0.721725</td>\n",
       "      <td>...</td>\n",
       "      <td>-0.035624</td>\n",
       "      <td>-0.045323</td>\n",
       "      <td>-0.065152</td>\n",
       "      <td>-0.059646</td>\n",
       "      <td>0.119773</td>\n",
       "      <td>-0.024644</td>\n",
       "      <td>-0.037584</td>\n",
       "      <td>0.032971</td>\n",
       "      <td>0.050536</td>\n",
       "      <td>-0.040671</td>\n",
       "    </tr>\n",
       "    <tr>\n",
       "      <th>2954</th>\n",
       "      <td>1.202634</td>\n",
       "      <td>-0.544128</td>\n",
       "      <td>-0.524611</td>\n",
       "      <td>0.123760</td>\n",
       "      <td>-0.645502</td>\n",
       "      <td>-0.448933</td>\n",
       "      <td>0.186263</td>\n",
       "      <td>-0.134605</td>\n",
       "      <td>0.015655</td>\n",
       "      <td>0.032016</td>\n",
       "      <td>...</td>\n",
       "      <td>0.000254</td>\n",
       "      <td>-0.001340</td>\n",
       "      <td>-0.002212</td>\n",
       "      <td>0.001263</td>\n",
       "      <td>0.003259</td>\n",
       "      <td>0.000395</td>\n",
       "      <td>0.000927</td>\n",
       "      <td>0.000835</td>\n",
       "      <td>-0.000937</td>\n",
       "      <td>-0.001484</td>\n",
       "    </tr>\n",
       "  </tbody>\n",
       "</table>\n",
       "<p>2955 rows × 50 columns</p>\n",
       "</div>"
      ],
      "text/plain": [
       "           PC1       PC2       PC3       PC4       PC5       PC6       PC7  \\\n",
       "0    -1.114987 -0.376418  0.362262  0.283268 -0.628566 -0.522789  0.131345   \n",
       "1     1.202634 -0.544128 -0.524611  0.123760 -0.645502 -0.448933  0.186263   \n",
       "2     1.417071  1.423702 -0.120629 -0.647160 -0.140587  0.140662  1.169822   \n",
       "3    -0.816365  2.008584  0.764740  0.132023  0.088753 -0.024763  0.208814   \n",
       "4     1.321354  0.201895 -0.454796  1.007763  0.221883  0.395353  0.108073   \n",
       "...        ...       ...       ...       ...       ...       ...       ...   \n",
       "2950  1.235851  0.201636 -0.407889 -0.845897  0.550574 -0.258356  0.169314   \n",
       "2951 -1.149614 -0.354704  0.402686  0.075678 -0.115840  0.100775 -0.038375   \n",
       "2952  1.380425  0.963264 -0.247834  0.262934 -0.042911  1.040681  1.073810   \n",
       "2953 -1.080307 -0.311792  0.253723  1.891516  0.527089  0.433262  0.150322   \n",
       "2954  1.202634 -0.544128 -0.524611  0.123760 -0.645502 -0.448933  0.186263   \n",
       "\n",
       "           PC8       PC9      PC10  ...      PC41      PC42      PC43  \\\n",
       "0    -0.160965 -0.029274  0.032610  ... -0.003642 -0.000834 -0.000557   \n",
       "1    -0.134605  0.015655  0.032016  ...  0.000254 -0.001340 -0.002212   \n",
       "2     0.392230 -0.142251 -0.146269  ... -0.261953  0.072617  0.336862   \n",
       "3     0.205490 -0.071540 -0.403982  ... -0.051957  0.065649 -0.076322   \n",
       "4     0.743746  0.229724 -0.400761  ... -0.020560  0.030905  0.005172   \n",
       "...        ...       ...       ...  ...       ...       ...       ...   \n",
       "2950 -0.066375  0.034815 -0.068949  ...  0.005180 -0.004455  0.000807   \n",
       "2951  0.269031  0.007418 -0.029938  ...  0.002917  0.003884 -0.001720   \n",
       "2952 -0.246988 -0.264492 -0.217393  ...  0.010284 -0.001860  0.018465   \n",
       "2953 -0.117175  0.708879  0.721725  ... -0.035624 -0.045323 -0.065152   \n",
       "2954 -0.134605  0.015655  0.032016  ...  0.000254 -0.001340 -0.002212   \n",
       "\n",
       "          PC44      PC45      PC46      PC47      PC48      PC49      PC50  \n",
       "0     0.002920 -0.003123  0.001684  0.001591 -0.002910  0.002526 -0.001350  \n",
       "1     0.001263  0.003259  0.000395  0.000927  0.000835 -0.000937 -0.001484  \n",
       "2    -0.265354  0.218906  0.240810  0.165788 -0.223270 -0.190081 -0.506958  \n",
       "3    -0.018372  0.092338  0.090947 -0.051870 -0.017533  0.067469 -0.116968  \n",
       "4    -0.002642  0.026425  0.008234 -0.016257  0.017480  0.020064  0.031842  \n",
       "...        ...       ...       ...       ...       ...       ...       ...  \n",
       "2950 -0.004509  0.003697 -0.003753 -0.000171 -0.000604 -0.000027 -0.000659  \n",
       "2951 -0.002768 -0.001781 -0.011264 -0.001339 -0.001059 -0.005374 -0.003292  \n",
       "2952 -0.011273 -0.010486  0.003611  0.039756  0.021219  0.008581 -0.039737  \n",
       "2953 -0.059646  0.119773 -0.024644 -0.037584  0.032971  0.050536 -0.040671  \n",
       "2954  0.001263  0.003259  0.000395  0.000927  0.000835 -0.000937 -0.001484  \n",
       "\n",
       "[2955 rows x 50 columns]"
      ]
     },
     "execution_count": 25,
     "metadata": {},
     "output_type": "execute_result"
    }
   ],
   "source": [
    "#Converting the data to a pandas dataframe once again\n",
    "column_names = ['PC' + str(i+1) for i in range(x_train_pca.shape[1])]\n",
    "x_train= pd.DataFrame(x_train_pca, columns=column_names)\n",
    "x_test= pd.DataFrame(x_test_pca, columns=column_names)\n",
    "print(\"\\n The final dataset that will be used to apply the model \\n\")\n",
    "x_train"
   ]
  },
  {
   "cell_type": "markdown",
   "id": "5eeb8a92",
   "metadata": {},
   "source": [
    " ------------------------------------------------------------------------------------                                        "
   ]
  },
  {
   "cell_type": "markdown",
   "id": "d4afb68b",
   "metadata": {},
   "source": [
    "# Model Selection and Hyperparameter Tuning\n",
    "\n",
    "- Conducted HyperParameter tuning on 5 different regression algorithms and then trained them using the best parameters. The algorithms are: \n",
    "    - Linear Regression\n",
    "    - Random Forests\n",
    "    - Gradient Boosting\n",
    "    - XGBoost\n",
    "    - LightGBM\n",
    "  \n",
    "- Used 5-fold cross validation (CV=5) to balance between computational efficiency and reliable estimation.\n",
    "    \n",
    "- Chose the scoring criteria to be mean squared error (MSE) as it gives more weight to larger errors compared to mean absolute error and since this model predicts salaries, a big difference between estimation and actual defies the purpose of the model. Therefore, it's important to penalize larger errors."
   ]
  },
  {
   "cell_type": "markdown",
   "id": "dba438b0",
   "metadata": {},
   "source": [
    "**Linear Regression**"
   ]
  },
  {
   "cell_type": "code",
   "execution_count": 41,
   "id": "deca7ced",
   "metadata": {},
   "outputs": [],
   "source": [
    "# Create the parameter grid \n",
    "lr_param_grid = {\n",
    "    'fit_intercept': [True, False],\n",
    "}\n",
    "\n",
    "# Create a linear regression model\n",
    "lr = LinearRegression()\n",
    "\n",
    "# Instantiate the grid search model\n",
    "lr_grid_search = GridSearchCV(estimator = lr, param_grid = lr_param_grid, scoring= 'neg_mean_squared_error',\n",
    "                          cv = 5, n_jobs = -1, verbose = 2)"
   ]
  },
  {
   "cell_type": "code",
   "execution_count": 42,
   "id": "2477fc31",
   "metadata": {},
   "outputs": [
    {
     "name": "stdout",
     "output_type": "stream",
     "text": [
      "Fitting 5 folds for each of 2 candidates, totalling 10 fits\n"
     ]
    },
    {
     "data": {
      "text/html": [
       "<style>#sk-container-id-5 {color: black;background-color: white;}#sk-container-id-5 pre{padding: 0;}#sk-container-id-5 div.sk-toggleable {background-color: white;}#sk-container-id-5 label.sk-toggleable__label {cursor: pointer;display: block;width: 100%;margin-bottom: 0;padding: 0.3em;box-sizing: border-box;text-align: center;}#sk-container-id-5 label.sk-toggleable__label-arrow:before {content: \"▸\";float: left;margin-right: 0.25em;color: #696969;}#sk-container-id-5 label.sk-toggleable__label-arrow:hover:before {color: black;}#sk-container-id-5 div.sk-estimator:hover label.sk-toggleable__label-arrow:before {color: black;}#sk-container-id-5 div.sk-toggleable__content {max-height: 0;max-width: 0;overflow: hidden;text-align: left;background-color: #f0f8ff;}#sk-container-id-5 div.sk-toggleable__content pre {margin: 0.2em;color: black;border-radius: 0.25em;background-color: #f0f8ff;}#sk-container-id-5 input.sk-toggleable__control:checked~div.sk-toggleable__content {max-height: 200px;max-width: 100%;overflow: auto;}#sk-container-id-5 input.sk-toggleable__control:checked~label.sk-toggleable__label-arrow:before {content: \"▾\";}#sk-container-id-5 div.sk-estimator input.sk-toggleable__control:checked~label.sk-toggleable__label {background-color: #d4ebff;}#sk-container-id-5 div.sk-label input.sk-toggleable__control:checked~label.sk-toggleable__label {background-color: #d4ebff;}#sk-container-id-5 input.sk-hidden--visually {border: 0;clip: rect(1px 1px 1px 1px);clip: rect(1px, 1px, 1px, 1px);height: 1px;margin: -1px;overflow: hidden;padding: 0;position: absolute;width: 1px;}#sk-container-id-5 div.sk-estimator {font-family: monospace;background-color: #f0f8ff;border: 1px dotted black;border-radius: 0.25em;box-sizing: border-box;margin-bottom: 0.5em;}#sk-container-id-5 div.sk-estimator:hover {background-color: #d4ebff;}#sk-container-id-5 div.sk-parallel-item::after {content: \"\";width: 100%;border-bottom: 1px solid gray;flex-grow: 1;}#sk-container-id-5 div.sk-label:hover label.sk-toggleable__label {background-color: #d4ebff;}#sk-container-id-5 div.sk-serial::before {content: \"\";position: absolute;border-left: 1px solid gray;box-sizing: border-box;top: 0;bottom: 0;left: 50%;z-index: 0;}#sk-container-id-5 div.sk-serial {display: flex;flex-direction: column;align-items: center;background-color: white;padding-right: 0.2em;padding-left: 0.2em;position: relative;}#sk-container-id-5 div.sk-item {position: relative;z-index: 1;}#sk-container-id-5 div.sk-parallel {display: flex;align-items: stretch;justify-content: center;background-color: white;position: relative;}#sk-container-id-5 div.sk-item::before, #sk-container-id-5 div.sk-parallel-item::before {content: \"\";position: absolute;border-left: 1px solid gray;box-sizing: border-box;top: 0;bottom: 0;left: 50%;z-index: -1;}#sk-container-id-5 div.sk-parallel-item {display: flex;flex-direction: column;z-index: 1;position: relative;background-color: white;}#sk-container-id-5 div.sk-parallel-item:first-child::after {align-self: flex-end;width: 50%;}#sk-container-id-5 div.sk-parallel-item:last-child::after {align-self: flex-start;width: 50%;}#sk-container-id-5 div.sk-parallel-item:only-child::after {width: 0;}#sk-container-id-5 div.sk-dashed-wrapped {border: 1px dashed gray;margin: 0 0.4em 0.5em 0.4em;box-sizing: border-box;padding-bottom: 0.4em;background-color: white;}#sk-container-id-5 div.sk-label label {font-family: monospace;font-weight: bold;display: inline-block;line-height: 1.2em;}#sk-container-id-5 div.sk-label-container {text-align: center;}#sk-container-id-5 div.sk-container {/* jupyter's `normalize.less` sets `[hidden] { display: none; }` but bootstrap.min.css set `[hidden] { display: none !important; }` so we also need the `!important` here to be able to override the default hidden behavior on the sphinx rendered scikit-learn.org. See: https://github.com/scikit-learn/scikit-learn/issues/21755 */display: inline-block !important;position: relative;}#sk-container-id-5 div.sk-text-repr-fallback {display: none;}</style><div id=\"sk-container-id-5\" class=\"sk-top-container\"><div class=\"sk-text-repr-fallback\"><pre>GridSearchCV(cv=5, estimator=LinearRegression(), n_jobs=-1,\n",
       "             param_grid={&#x27;fit_intercept&#x27;: [True, False]},\n",
       "             scoring=&#x27;neg_mean_squared_error&#x27;, verbose=2)</pre><b>In a Jupyter environment, please rerun this cell to show the HTML representation or trust the notebook. <br />On GitHub, the HTML representation is unable to render, please try loading this page with nbviewer.org.</b></div><div class=\"sk-container\" hidden><div class=\"sk-item sk-dashed-wrapped\"><div class=\"sk-label-container\"><div class=\"sk-label sk-toggleable\"><input class=\"sk-toggleable__control sk-hidden--visually\" id=\"sk-estimator-id-11\" type=\"checkbox\" ><label for=\"sk-estimator-id-11\" class=\"sk-toggleable__label sk-toggleable__label-arrow\">GridSearchCV</label><div class=\"sk-toggleable__content\"><pre>GridSearchCV(cv=5, estimator=LinearRegression(), n_jobs=-1,\n",
       "             param_grid={&#x27;fit_intercept&#x27;: [True, False]},\n",
       "             scoring=&#x27;neg_mean_squared_error&#x27;, verbose=2)</pre></div></div></div><div class=\"sk-parallel\"><div class=\"sk-parallel-item\"><div class=\"sk-item\"><div class=\"sk-label-container\"><div class=\"sk-label sk-toggleable\"><input class=\"sk-toggleable__control sk-hidden--visually\" id=\"sk-estimator-id-12\" type=\"checkbox\" ><label for=\"sk-estimator-id-12\" class=\"sk-toggleable__label sk-toggleable__label-arrow\">estimator: LinearRegression</label><div class=\"sk-toggleable__content\"><pre>LinearRegression()</pre></div></div></div><div class=\"sk-serial\"><div class=\"sk-item\"><div class=\"sk-estimator sk-toggleable\"><input class=\"sk-toggleable__control sk-hidden--visually\" id=\"sk-estimator-id-13\" type=\"checkbox\" ><label for=\"sk-estimator-id-13\" class=\"sk-toggleable__label sk-toggleable__label-arrow\">LinearRegression</label><div class=\"sk-toggleable__content\"><pre>LinearRegression()</pre></div></div></div></div></div></div></div></div></div></div>"
      ],
      "text/plain": [
       "GridSearchCV(cv=5, estimator=LinearRegression(), n_jobs=-1,\n",
       "             param_grid={'fit_intercept': [True, False]},\n",
       "             scoring='neg_mean_squared_error', verbose=2)"
      ]
     },
     "execution_count": 42,
     "metadata": {},
     "output_type": "execute_result"
    }
   ],
   "source": [
    "# Fit the grid search to the train data\n",
    "lr_grid_search.fit(x_train, y_train)"
   ]
  },
  {
   "cell_type": "code",
   "execution_count": 43,
   "id": "e6d517ab",
   "metadata": {},
   "outputs": [
    {
     "name": "stdout",
     "output_type": "stream",
     "text": [
      "The best parameters for linear regression model are:  \n",
      " {'fit_intercept': True}\n"
     ]
    }
   ],
   "source": [
    "#Identify the Best parameters\n",
    "print(\"The best parameters for linear regression model are:  \\n\" ,lr_grid_search.best_params_)"
   ]
  },
  {
   "cell_type": "code",
   "execution_count": 68,
   "id": "5e5a6f3e",
   "metadata": {},
   "outputs": [
    {
     "name": "stdout",
     "output_type": "stream",
     "text": [
      "MSE score of training dataset with tuning is : -1951756429.50\n"
     ]
    }
   ],
   "source": [
    "#Caluclate the Mean Absolute Error (MAE) of best parameter\n",
    "lr_perf =lr_grid_search.best_score_\n",
    "print(\"MSE score of training dataset with tuning is : {:.2f}\".format(lr_perf))"
   ]
  },
  {
   "cell_type": "markdown",
   "id": "ec29af92",
   "metadata": {},
   "source": [
    "**Random Forest**"
   ]
  },
  {
   "cell_type": "code",
   "execution_count": 45,
   "id": "7e4a86b9",
   "metadata": {},
   "outputs": [],
   "source": [
    "# Create the parameter grid \n",
    "rf_param_grid = {\n",
    "    'n_estimators': [50, 100, 200],\n",
    "    'max_depth': [None, 5, 10],\n",
    "    'min_samples_split': [2, 5, 8, 10],\n",
    "    'max_features': ['sqrt', 'log2'],\n",
    "}\n",
    "\n",
    "# Create a random forests model\n",
    "rf = RandomForestRegressor()\n",
    "\n",
    "# Instantiate the grid search model\n",
    "rf_grid_search = GridSearchCV(estimator = rf, param_grid = rf_param_grid, scoring= 'neg_mean_squared_error',\n",
    "                          cv = 5, n_jobs = -1, verbose = 2)"
   ]
  },
  {
   "cell_type": "code",
   "execution_count": 46,
   "id": "2ee2ee31",
   "metadata": {},
   "outputs": [
    {
     "name": "stdout",
     "output_type": "stream",
     "text": [
      "Fitting 5 folds for each of 72 candidates, totalling 360 fits\n"
     ]
    },
    {
     "data": {
      "text/html": [
       "<style>#sk-container-id-6 {color: black;background-color: white;}#sk-container-id-6 pre{padding: 0;}#sk-container-id-6 div.sk-toggleable {background-color: white;}#sk-container-id-6 label.sk-toggleable__label {cursor: pointer;display: block;width: 100%;margin-bottom: 0;padding: 0.3em;box-sizing: border-box;text-align: center;}#sk-container-id-6 label.sk-toggleable__label-arrow:before {content: \"▸\";float: left;margin-right: 0.25em;color: #696969;}#sk-container-id-6 label.sk-toggleable__label-arrow:hover:before {color: black;}#sk-container-id-6 div.sk-estimator:hover label.sk-toggleable__label-arrow:before {color: black;}#sk-container-id-6 div.sk-toggleable__content {max-height: 0;max-width: 0;overflow: hidden;text-align: left;background-color: #f0f8ff;}#sk-container-id-6 div.sk-toggleable__content pre {margin: 0.2em;color: black;border-radius: 0.25em;background-color: #f0f8ff;}#sk-container-id-6 input.sk-toggleable__control:checked~div.sk-toggleable__content {max-height: 200px;max-width: 100%;overflow: auto;}#sk-container-id-6 input.sk-toggleable__control:checked~label.sk-toggleable__label-arrow:before {content: \"▾\";}#sk-container-id-6 div.sk-estimator input.sk-toggleable__control:checked~label.sk-toggleable__label {background-color: #d4ebff;}#sk-container-id-6 div.sk-label input.sk-toggleable__control:checked~label.sk-toggleable__label {background-color: #d4ebff;}#sk-container-id-6 input.sk-hidden--visually {border: 0;clip: rect(1px 1px 1px 1px);clip: rect(1px, 1px, 1px, 1px);height: 1px;margin: -1px;overflow: hidden;padding: 0;position: absolute;width: 1px;}#sk-container-id-6 div.sk-estimator {font-family: monospace;background-color: #f0f8ff;border: 1px dotted black;border-radius: 0.25em;box-sizing: border-box;margin-bottom: 0.5em;}#sk-container-id-6 div.sk-estimator:hover {background-color: #d4ebff;}#sk-container-id-6 div.sk-parallel-item::after {content: \"\";width: 100%;border-bottom: 1px solid gray;flex-grow: 1;}#sk-container-id-6 div.sk-label:hover label.sk-toggleable__label {background-color: #d4ebff;}#sk-container-id-6 div.sk-serial::before {content: \"\";position: absolute;border-left: 1px solid gray;box-sizing: border-box;top: 0;bottom: 0;left: 50%;z-index: 0;}#sk-container-id-6 div.sk-serial {display: flex;flex-direction: column;align-items: center;background-color: white;padding-right: 0.2em;padding-left: 0.2em;position: relative;}#sk-container-id-6 div.sk-item {position: relative;z-index: 1;}#sk-container-id-6 div.sk-parallel {display: flex;align-items: stretch;justify-content: center;background-color: white;position: relative;}#sk-container-id-6 div.sk-item::before, #sk-container-id-6 div.sk-parallel-item::before {content: \"\";position: absolute;border-left: 1px solid gray;box-sizing: border-box;top: 0;bottom: 0;left: 50%;z-index: -1;}#sk-container-id-6 div.sk-parallel-item {display: flex;flex-direction: column;z-index: 1;position: relative;background-color: white;}#sk-container-id-6 div.sk-parallel-item:first-child::after {align-self: flex-end;width: 50%;}#sk-container-id-6 div.sk-parallel-item:last-child::after {align-self: flex-start;width: 50%;}#sk-container-id-6 div.sk-parallel-item:only-child::after {width: 0;}#sk-container-id-6 div.sk-dashed-wrapped {border: 1px dashed gray;margin: 0 0.4em 0.5em 0.4em;box-sizing: border-box;padding-bottom: 0.4em;background-color: white;}#sk-container-id-6 div.sk-label label {font-family: monospace;font-weight: bold;display: inline-block;line-height: 1.2em;}#sk-container-id-6 div.sk-label-container {text-align: center;}#sk-container-id-6 div.sk-container {/* jupyter's `normalize.less` sets `[hidden] { display: none; }` but bootstrap.min.css set `[hidden] { display: none !important; }` so we also need the `!important` here to be able to override the default hidden behavior on the sphinx rendered scikit-learn.org. See: https://github.com/scikit-learn/scikit-learn/issues/21755 */display: inline-block !important;position: relative;}#sk-container-id-6 div.sk-text-repr-fallback {display: none;}</style><div id=\"sk-container-id-6\" class=\"sk-top-container\"><div class=\"sk-text-repr-fallback\"><pre>GridSearchCV(cv=5, estimator=RandomForestRegressor(), n_jobs=-1,\n",
       "             param_grid={&#x27;max_depth&#x27;: [None, 5, 10],\n",
       "                         &#x27;max_features&#x27;: [&#x27;sqrt&#x27;, &#x27;log2&#x27;],\n",
       "                         &#x27;min_samples_split&#x27;: [2, 5, 8, 10],\n",
       "                         &#x27;n_estimators&#x27;: [50, 100, 200]},\n",
       "             scoring=&#x27;neg_mean_squared_error&#x27;, verbose=2)</pre><b>In a Jupyter environment, please rerun this cell to show the HTML representation or trust the notebook. <br />On GitHub, the HTML representation is unable to render, please try loading this page with nbviewer.org.</b></div><div class=\"sk-container\" hidden><div class=\"sk-item sk-dashed-wrapped\"><div class=\"sk-label-container\"><div class=\"sk-label sk-toggleable\"><input class=\"sk-toggleable__control sk-hidden--visually\" id=\"sk-estimator-id-14\" type=\"checkbox\" ><label for=\"sk-estimator-id-14\" class=\"sk-toggleable__label sk-toggleable__label-arrow\">GridSearchCV</label><div class=\"sk-toggleable__content\"><pre>GridSearchCV(cv=5, estimator=RandomForestRegressor(), n_jobs=-1,\n",
       "             param_grid={&#x27;max_depth&#x27;: [None, 5, 10],\n",
       "                         &#x27;max_features&#x27;: [&#x27;sqrt&#x27;, &#x27;log2&#x27;],\n",
       "                         &#x27;min_samples_split&#x27;: [2, 5, 8, 10],\n",
       "                         &#x27;n_estimators&#x27;: [50, 100, 200]},\n",
       "             scoring=&#x27;neg_mean_squared_error&#x27;, verbose=2)</pre></div></div></div><div class=\"sk-parallel\"><div class=\"sk-parallel-item\"><div class=\"sk-item\"><div class=\"sk-label-container\"><div class=\"sk-label sk-toggleable\"><input class=\"sk-toggleable__control sk-hidden--visually\" id=\"sk-estimator-id-15\" type=\"checkbox\" ><label for=\"sk-estimator-id-15\" class=\"sk-toggleable__label sk-toggleable__label-arrow\">estimator: RandomForestRegressor</label><div class=\"sk-toggleable__content\"><pre>RandomForestRegressor()</pre></div></div></div><div class=\"sk-serial\"><div class=\"sk-item\"><div class=\"sk-estimator sk-toggleable\"><input class=\"sk-toggleable__control sk-hidden--visually\" id=\"sk-estimator-id-16\" type=\"checkbox\" ><label for=\"sk-estimator-id-16\" class=\"sk-toggleable__label sk-toggleable__label-arrow\">RandomForestRegressor</label><div class=\"sk-toggleable__content\"><pre>RandomForestRegressor()</pre></div></div></div></div></div></div></div></div></div></div>"
      ],
      "text/plain": [
       "GridSearchCV(cv=5, estimator=RandomForestRegressor(), n_jobs=-1,\n",
       "             param_grid={'max_depth': [None, 5, 10],\n",
       "                         'max_features': ['sqrt', 'log2'],\n",
       "                         'min_samples_split': [2, 5, 8, 10],\n",
       "                         'n_estimators': [50, 100, 200]},\n",
       "             scoring='neg_mean_squared_error', verbose=2)"
      ]
     },
     "execution_count": 46,
     "metadata": {},
     "output_type": "execute_result"
    }
   ],
   "source": [
    "# Fit the grid search to the data\n",
    "rf_grid_search.fit(x_train, y_train)"
   ]
  },
  {
   "cell_type": "code",
   "execution_count": 47,
   "id": "6bffbead",
   "metadata": {},
   "outputs": [
    {
     "name": "stdout",
     "output_type": "stream",
     "text": [
      "The best parameters for random forests model are:  \n",
      " {'max_depth': 10, 'max_features': 'sqrt', 'min_samples_split': 2, 'n_estimators': 200}\n"
     ]
    }
   ],
   "source": [
    "#Identify the Best parameters\n",
    "print(\"The best parameters for random forests model are:  \\n\" ,rf_grid_search.best_params_)"
   ]
  },
  {
   "cell_type": "code",
   "execution_count": 69,
   "id": "0c79d83c",
   "metadata": {},
   "outputs": [
    {
     "name": "stdout",
     "output_type": "stream",
     "text": [
      "MSE score of training dataset with tuning is : -1901315319.02\n"
     ]
    }
   ],
   "source": [
    "#Caluclate the Mean Absolute Error (MAE) of best parameter\n",
    "rf_perf =rf_grid_search.best_score_\n",
    "print(\"MSE score of training dataset with tuning is : {:.2f}\".format(rf_perf))"
   ]
  },
  {
   "cell_type": "markdown",
   "id": "1f51cf63",
   "metadata": {},
   "source": [
    "**Gradient Boosting**"
   ]
  },
  {
   "cell_type": "code",
   "execution_count": 49,
   "id": "a38bd36d",
   "metadata": {},
   "outputs": [],
   "source": [
    "# Create the parameter grid \n",
    "gb_param_grid = {\n",
    "    'learning_rate': [0.01,0.05,0.1],\n",
    "    'n_estimators': [50, 100, 200],\n",
    "    'max_depth': [3, 5, 10],\n",
    "    'min_samples_split': [2, 5, 10],\n",
    "    'max_features': ['sqrt', 'log2']\n",
    "}\n",
    "\n",
    "# Create a Gradient Boosting model\n",
    "gb = GradientBoostingRegressor()\n",
    "\n",
    "# Instantiate the grid search model\n",
    "gb_grid_search = GridSearchCV(estimator = gb, param_grid = gb_param_grid, scoring= 'neg_mean_squared_error',\n",
    "                          cv = 5, n_jobs = -1, verbose = 2)"
   ]
  },
  {
   "cell_type": "code",
   "execution_count": 50,
   "id": "05f83db2",
   "metadata": {},
   "outputs": [
    {
     "name": "stdout",
     "output_type": "stream",
     "text": [
      "Fitting 5 folds for each of 162 candidates, totalling 810 fits\n"
     ]
    },
    {
     "data": {
      "text/html": [
       "<style>#sk-container-id-7 {color: black;background-color: white;}#sk-container-id-7 pre{padding: 0;}#sk-container-id-7 div.sk-toggleable {background-color: white;}#sk-container-id-7 label.sk-toggleable__label {cursor: pointer;display: block;width: 100%;margin-bottom: 0;padding: 0.3em;box-sizing: border-box;text-align: center;}#sk-container-id-7 label.sk-toggleable__label-arrow:before {content: \"▸\";float: left;margin-right: 0.25em;color: #696969;}#sk-container-id-7 label.sk-toggleable__label-arrow:hover:before {color: black;}#sk-container-id-7 div.sk-estimator:hover label.sk-toggleable__label-arrow:before {color: black;}#sk-container-id-7 div.sk-toggleable__content {max-height: 0;max-width: 0;overflow: hidden;text-align: left;background-color: #f0f8ff;}#sk-container-id-7 div.sk-toggleable__content pre {margin: 0.2em;color: black;border-radius: 0.25em;background-color: #f0f8ff;}#sk-container-id-7 input.sk-toggleable__control:checked~div.sk-toggleable__content {max-height: 200px;max-width: 100%;overflow: auto;}#sk-container-id-7 input.sk-toggleable__control:checked~label.sk-toggleable__label-arrow:before {content: \"▾\";}#sk-container-id-7 div.sk-estimator input.sk-toggleable__control:checked~label.sk-toggleable__label {background-color: #d4ebff;}#sk-container-id-7 div.sk-label input.sk-toggleable__control:checked~label.sk-toggleable__label {background-color: #d4ebff;}#sk-container-id-7 input.sk-hidden--visually {border: 0;clip: rect(1px 1px 1px 1px);clip: rect(1px, 1px, 1px, 1px);height: 1px;margin: -1px;overflow: hidden;padding: 0;position: absolute;width: 1px;}#sk-container-id-7 div.sk-estimator {font-family: monospace;background-color: #f0f8ff;border: 1px dotted black;border-radius: 0.25em;box-sizing: border-box;margin-bottom: 0.5em;}#sk-container-id-7 div.sk-estimator:hover {background-color: #d4ebff;}#sk-container-id-7 div.sk-parallel-item::after {content: \"\";width: 100%;border-bottom: 1px solid gray;flex-grow: 1;}#sk-container-id-7 div.sk-label:hover label.sk-toggleable__label {background-color: #d4ebff;}#sk-container-id-7 div.sk-serial::before {content: \"\";position: absolute;border-left: 1px solid gray;box-sizing: border-box;top: 0;bottom: 0;left: 50%;z-index: 0;}#sk-container-id-7 div.sk-serial {display: flex;flex-direction: column;align-items: center;background-color: white;padding-right: 0.2em;padding-left: 0.2em;position: relative;}#sk-container-id-7 div.sk-item {position: relative;z-index: 1;}#sk-container-id-7 div.sk-parallel {display: flex;align-items: stretch;justify-content: center;background-color: white;position: relative;}#sk-container-id-7 div.sk-item::before, #sk-container-id-7 div.sk-parallel-item::before {content: \"\";position: absolute;border-left: 1px solid gray;box-sizing: border-box;top: 0;bottom: 0;left: 50%;z-index: -1;}#sk-container-id-7 div.sk-parallel-item {display: flex;flex-direction: column;z-index: 1;position: relative;background-color: white;}#sk-container-id-7 div.sk-parallel-item:first-child::after {align-self: flex-end;width: 50%;}#sk-container-id-7 div.sk-parallel-item:last-child::after {align-self: flex-start;width: 50%;}#sk-container-id-7 div.sk-parallel-item:only-child::after {width: 0;}#sk-container-id-7 div.sk-dashed-wrapped {border: 1px dashed gray;margin: 0 0.4em 0.5em 0.4em;box-sizing: border-box;padding-bottom: 0.4em;background-color: white;}#sk-container-id-7 div.sk-label label {font-family: monospace;font-weight: bold;display: inline-block;line-height: 1.2em;}#sk-container-id-7 div.sk-label-container {text-align: center;}#sk-container-id-7 div.sk-container {/* jupyter's `normalize.less` sets `[hidden] { display: none; }` but bootstrap.min.css set `[hidden] { display: none !important; }` so we also need the `!important` here to be able to override the default hidden behavior on the sphinx rendered scikit-learn.org. See: https://github.com/scikit-learn/scikit-learn/issues/21755 */display: inline-block !important;position: relative;}#sk-container-id-7 div.sk-text-repr-fallback {display: none;}</style><div id=\"sk-container-id-7\" class=\"sk-top-container\"><div class=\"sk-text-repr-fallback\"><pre>GridSearchCV(cv=5, estimator=GradientBoostingRegressor(), n_jobs=-1,\n",
       "             param_grid={&#x27;learning_rate&#x27;: [0.01, 0.05, 0.1],\n",
       "                         &#x27;max_depth&#x27;: [3, 5, 10],\n",
       "                         &#x27;max_features&#x27;: [&#x27;sqrt&#x27;, &#x27;log2&#x27;],\n",
       "                         &#x27;min_samples_split&#x27;: [2, 5, 10],\n",
       "                         &#x27;n_estimators&#x27;: [50, 100, 200]},\n",
       "             scoring=&#x27;neg_mean_squared_error&#x27;, verbose=2)</pre><b>In a Jupyter environment, please rerun this cell to show the HTML representation or trust the notebook. <br />On GitHub, the HTML representation is unable to render, please try loading this page with nbviewer.org.</b></div><div class=\"sk-container\" hidden><div class=\"sk-item sk-dashed-wrapped\"><div class=\"sk-label-container\"><div class=\"sk-label sk-toggleable\"><input class=\"sk-toggleable__control sk-hidden--visually\" id=\"sk-estimator-id-17\" type=\"checkbox\" ><label for=\"sk-estimator-id-17\" class=\"sk-toggleable__label sk-toggleable__label-arrow\">GridSearchCV</label><div class=\"sk-toggleable__content\"><pre>GridSearchCV(cv=5, estimator=GradientBoostingRegressor(), n_jobs=-1,\n",
       "             param_grid={&#x27;learning_rate&#x27;: [0.01, 0.05, 0.1],\n",
       "                         &#x27;max_depth&#x27;: [3, 5, 10],\n",
       "                         &#x27;max_features&#x27;: [&#x27;sqrt&#x27;, &#x27;log2&#x27;],\n",
       "                         &#x27;min_samples_split&#x27;: [2, 5, 10],\n",
       "                         &#x27;n_estimators&#x27;: [50, 100, 200]},\n",
       "             scoring=&#x27;neg_mean_squared_error&#x27;, verbose=2)</pre></div></div></div><div class=\"sk-parallel\"><div class=\"sk-parallel-item\"><div class=\"sk-item\"><div class=\"sk-label-container\"><div class=\"sk-label sk-toggleable\"><input class=\"sk-toggleable__control sk-hidden--visually\" id=\"sk-estimator-id-18\" type=\"checkbox\" ><label for=\"sk-estimator-id-18\" class=\"sk-toggleable__label sk-toggleable__label-arrow\">estimator: GradientBoostingRegressor</label><div class=\"sk-toggleable__content\"><pre>GradientBoostingRegressor()</pre></div></div></div><div class=\"sk-serial\"><div class=\"sk-item\"><div class=\"sk-estimator sk-toggleable\"><input class=\"sk-toggleable__control sk-hidden--visually\" id=\"sk-estimator-id-19\" type=\"checkbox\" ><label for=\"sk-estimator-id-19\" class=\"sk-toggleable__label sk-toggleable__label-arrow\">GradientBoostingRegressor</label><div class=\"sk-toggleable__content\"><pre>GradientBoostingRegressor()</pre></div></div></div></div></div></div></div></div></div></div>"
      ],
      "text/plain": [
       "GridSearchCV(cv=5, estimator=GradientBoostingRegressor(), n_jobs=-1,\n",
       "             param_grid={'learning_rate': [0.01, 0.05, 0.1],\n",
       "                         'max_depth': [3, 5, 10],\n",
       "                         'max_features': ['sqrt', 'log2'],\n",
       "                         'min_samples_split': [2, 5, 10],\n",
       "                         'n_estimators': [50, 100, 200]},\n",
       "             scoring='neg_mean_squared_error', verbose=2)"
      ]
     },
     "execution_count": 50,
     "metadata": {},
     "output_type": "execute_result"
    }
   ],
   "source": [
    "# Fit the grid search to the data\n",
    "gb_grid_search.fit(x_train, y_train)"
   ]
  },
  {
   "cell_type": "code",
   "execution_count": 51,
   "id": "f38becf2",
   "metadata": {},
   "outputs": [
    {
     "name": "stdout",
     "output_type": "stream",
     "text": [
      "The best parameters for gradient boosting model are:  \n",
      " {'learning_rate': 0.05, 'max_depth': 5, 'max_features': 'sqrt', 'min_samples_split': 5, 'n_estimators': 100}\n"
     ]
    }
   ],
   "source": [
    "#Identify the Best parameters\n",
    "print(\"The best parameters for gradient boosting model are:  \\n\" ,gb_grid_search.best_params_)"
   ]
  },
  {
   "cell_type": "code",
   "execution_count": 70,
   "id": "d1336efd",
   "metadata": {},
   "outputs": [
    {
     "name": "stdout",
     "output_type": "stream",
     "text": [
      "MSE score of training dataset with tuning is : -1882410959.64\n"
     ]
    }
   ],
   "source": [
    "#Caluclate the Mean Absolute Error (MAE) of best parameter\n",
    "gb_perf =gb_grid_search.best_score_\n",
    "print(\"MSE score of training dataset with tuning is : {:.2f}\".format(gb_perf) )"
   ]
  },
  {
   "cell_type": "markdown",
   "id": "dc5b5161",
   "metadata": {},
   "source": [
    "**XGBoost**"
   ]
  },
  {
   "cell_type": "code",
   "execution_count": 53,
   "id": "36c7bb75",
   "metadata": {},
   "outputs": [],
   "source": [
    "# Create the parameter grid \n",
    "xg_param_grid = {\n",
    "    'learning_rate': [0.01,0.05,0.1],\n",
    "    'n_estimators': [50, 100, 200],\n",
    "    'max_depth': [3, 5, 10],\n",
    "    'subsample': [0.8, 1.0],\n",
    "    'colsample_bytree': [0.8, 1.0]\n",
    "}\n",
    "\n",
    "# Create a XGBoost model\n",
    "xg = XGBRegressor()\n",
    "\n",
    "# Instantiate the grid search model\n",
    "xg_grid_search = GridSearchCV(estimator = xg, param_grid = xg_param_grid, scoring= 'neg_mean_squared_error',\n",
    "                          cv = 5, n_jobs = -1, verbose = 2)"
   ]
  },
  {
   "cell_type": "code",
   "execution_count": 54,
   "id": "a7cf20f2",
   "metadata": {},
   "outputs": [
    {
     "name": "stdout",
     "output_type": "stream",
     "text": [
      "Fitting 5 folds for each of 108 candidates, totalling 540 fits\n"
     ]
    },
    {
     "data": {
      "text/html": [
       "<style>#sk-container-id-8 {color: black;background-color: white;}#sk-container-id-8 pre{padding: 0;}#sk-container-id-8 div.sk-toggleable {background-color: white;}#sk-container-id-8 label.sk-toggleable__label {cursor: pointer;display: block;width: 100%;margin-bottom: 0;padding: 0.3em;box-sizing: border-box;text-align: center;}#sk-container-id-8 label.sk-toggleable__label-arrow:before {content: \"▸\";float: left;margin-right: 0.25em;color: #696969;}#sk-container-id-8 label.sk-toggleable__label-arrow:hover:before {color: black;}#sk-container-id-8 div.sk-estimator:hover label.sk-toggleable__label-arrow:before {color: black;}#sk-container-id-8 div.sk-toggleable__content {max-height: 0;max-width: 0;overflow: hidden;text-align: left;background-color: #f0f8ff;}#sk-container-id-8 div.sk-toggleable__content pre {margin: 0.2em;color: black;border-radius: 0.25em;background-color: #f0f8ff;}#sk-container-id-8 input.sk-toggleable__control:checked~div.sk-toggleable__content {max-height: 200px;max-width: 100%;overflow: auto;}#sk-container-id-8 input.sk-toggleable__control:checked~label.sk-toggleable__label-arrow:before {content: \"▾\";}#sk-container-id-8 div.sk-estimator input.sk-toggleable__control:checked~label.sk-toggleable__label {background-color: #d4ebff;}#sk-container-id-8 div.sk-label input.sk-toggleable__control:checked~label.sk-toggleable__label {background-color: #d4ebff;}#sk-container-id-8 input.sk-hidden--visually {border: 0;clip: rect(1px 1px 1px 1px);clip: rect(1px, 1px, 1px, 1px);height: 1px;margin: -1px;overflow: hidden;padding: 0;position: absolute;width: 1px;}#sk-container-id-8 div.sk-estimator {font-family: monospace;background-color: #f0f8ff;border: 1px dotted black;border-radius: 0.25em;box-sizing: border-box;margin-bottom: 0.5em;}#sk-container-id-8 div.sk-estimator:hover {background-color: #d4ebff;}#sk-container-id-8 div.sk-parallel-item::after {content: \"\";width: 100%;border-bottom: 1px solid gray;flex-grow: 1;}#sk-container-id-8 div.sk-label:hover label.sk-toggleable__label {background-color: #d4ebff;}#sk-container-id-8 div.sk-serial::before {content: \"\";position: absolute;border-left: 1px solid gray;box-sizing: border-box;top: 0;bottom: 0;left: 50%;z-index: 0;}#sk-container-id-8 div.sk-serial {display: flex;flex-direction: column;align-items: center;background-color: white;padding-right: 0.2em;padding-left: 0.2em;position: relative;}#sk-container-id-8 div.sk-item {position: relative;z-index: 1;}#sk-container-id-8 div.sk-parallel {display: flex;align-items: stretch;justify-content: center;background-color: white;position: relative;}#sk-container-id-8 div.sk-item::before, #sk-container-id-8 div.sk-parallel-item::before {content: \"\";position: absolute;border-left: 1px solid gray;box-sizing: border-box;top: 0;bottom: 0;left: 50%;z-index: -1;}#sk-container-id-8 div.sk-parallel-item {display: flex;flex-direction: column;z-index: 1;position: relative;background-color: white;}#sk-container-id-8 div.sk-parallel-item:first-child::after {align-self: flex-end;width: 50%;}#sk-container-id-8 div.sk-parallel-item:last-child::after {align-self: flex-start;width: 50%;}#sk-container-id-8 div.sk-parallel-item:only-child::after {width: 0;}#sk-container-id-8 div.sk-dashed-wrapped {border: 1px dashed gray;margin: 0 0.4em 0.5em 0.4em;box-sizing: border-box;padding-bottom: 0.4em;background-color: white;}#sk-container-id-8 div.sk-label label {font-family: monospace;font-weight: bold;display: inline-block;line-height: 1.2em;}#sk-container-id-8 div.sk-label-container {text-align: center;}#sk-container-id-8 div.sk-container {/* jupyter's `normalize.less` sets `[hidden] { display: none; }` but bootstrap.min.css set `[hidden] { display: none !important; }` so we also need the `!important` here to be able to override the default hidden behavior on the sphinx rendered scikit-learn.org. See: https://github.com/scikit-learn/scikit-learn/issues/21755 */display: inline-block !important;position: relative;}#sk-container-id-8 div.sk-text-repr-fallback {display: none;}</style><div id=\"sk-container-id-8\" class=\"sk-top-container\"><div class=\"sk-text-repr-fallback\"><pre>GridSearchCV(cv=5,\n",
       "             estimator=XGBRegressor(base_score=None, booster=None,\n",
       "                                    callbacks=None, colsample_bylevel=None,\n",
       "                                    colsample_bynode=None,\n",
       "                                    colsample_bytree=None,\n",
       "                                    early_stopping_rounds=None,\n",
       "                                    enable_categorical=False, eval_metric=None,\n",
       "                                    feature_types=None, gamma=None, gpu_id=None,\n",
       "                                    grow_policy=None, importance_type=None,\n",
       "                                    interaction_constraints=None,\n",
       "                                    learning_rate=None, m...\n",
       "                                    max_depth=None, max_leaves=None,\n",
       "                                    min_child_weight=None, missing=nan,\n",
       "                                    monotone_constraints=None, n_estimators=100,\n",
       "                                    n_jobs=None, num_parallel_tree=None,\n",
       "                                    predictor=None, random_state=None, ...),\n",
       "             n_jobs=-1,\n",
       "             param_grid={&#x27;colsample_bytree&#x27;: [0.8, 1.0],\n",
       "                         &#x27;learning_rate&#x27;: [0.01, 0.05, 0.1],\n",
       "                         &#x27;max_depth&#x27;: [3, 5, 10],\n",
       "                         &#x27;n_estimators&#x27;: [50, 100, 200],\n",
       "                         &#x27;subsample&#x27;: [0.8, 1.0]},\n",
       "             scoring=&#x27;neg_mean_squared_error&#x27;, verbose=2)</pre><b>In a Jupyter environment, please rerun this cell to show the HTML representation or trust the notebook. <br />On GitHub, the HTML representation is unable to render, please try loading this page with nbviewer.org.</b></div><div class=\"sk-container\" hidden><div class=\"sk-item sk-dashed-wrapped\"><div class=\"sk-label-container\"><div class=\"sk-label sk-toggleable\"><input class=\"sk-toggleable__control sk-hidden--visually\" id=\"sk-estimator-id-20\" type=\"checkbox\" ><label for=\"sk-estimator-id-20\" class=\"sk-toggleable__label sk-toggleable__label-arrow\">GridSearchCV</label><div class=\"sk-toggleable__content\"><pre>GridSearchCV(cv=5,\n",
       "             estimator=XGBRegressor(base_score=None, booster=None,\n",
       "                                    callbacks=None, colsample_bylevel=None,\n",
       "                                    colsample_bynode=None,\n",
       "                                    colsample_bytree=None,\n",
       "                                    early_stopping_rounds=None,\n",
       "                                    enable_categorical=False, eval_metric=None,\n",
       "                                    feature_types=None, gamma=None, gpu_id=None,\n",
       "                                    grow_policy=None, importance_type=None,\n",
       "                                    interaction_constraints=None,\n",
       "                                    learning_rate=None, m...\n",
       "                                    max_depth=None, max_leaves=None,\n",
       "                                    min_child_weight=None, missing=nan,\n",
       "                                    monotone_constraints=None, n_estimators=100,\n",
       "                                    n_jobs=None, num_parallel_tree=None,\n",
       "                                    predictor=None, random_state=None, ...),\n",
       "             n_jobs=-1,\n",
       "             param_grid={&#x27;colsample_bytree&#x27;: [0.8, 1.0],\n",
       "                         &#x27;learning_rate&#x27;: [0.01, 0.05, 0.1],\n",
       "                         &#x27;max_depth&#x27;: [3, 5, 10],\n",
       "                         &#x27;n_estimators&#x27;: [50, 100, 200],\n",
       "                         &#x27;subsample&#x27;: [0.8, 1.0]},\n",
       "             scoring=&#x27;neg_mean_squared_error&#x27;, verbose=2)</pre></div></div></div><div class=\"sk-parallel\"><div class=\"sk-parallel-item\"><div class=\"sk-item\"><div class=\"sk-label-container\"><div class=\"sk-label sk-toggleable\"><input class=\"sk-toggleable__control sk-hidden--visually\" id=\"sk-estimator-id-21\" type=\"checkbox\" ><label for=\"sk-estimator-id-21\" class=\"sk-toggleable__label sk-toggleable__label-arrow\">estimator: XGBRegressor</label><div class=\"sk-toggleable__content\"><pre>XGBRegressor(base_score=None, booster=None, callbacks=None,\n",
       "             colsample_bylevel=None, colsample_bynode=None,\n",
       "             colsample_bytree=None, early_stopping_rounds=None,\n",
       "             enable_categorical=False, eval_metric=None, feature_types=None,\n",
       "             gamma=None, gpu_id=None, grow_policy=None, importance_type=None,\n",
       "             interaction_constraints=None, learning_rate=None, max_bin=None,\n",
       "             max_cat_threshold=None, max_cat_to_onehot=None,\n",
       "             max_delta_step=None, max_depth=None, max_leaves=None,\n",
       "             min_child_weight=None, missing=nan, monotone_constraints=None,\n",
       "             n_estimators=100, n_jobs=None, num_parallel_tree=None,\n",
       "             predictor=None, random_state=None, ...)</pre></div></div></div><div class=\"sk-serial\"><div class=\"sk-item\"><div class=\"sk-estimator sk-toggleable\"><input class=\"sk-toggleable__control sk-hidden--visually\" id=\"sk-estimator-id-22\" type=\"checkbox\" ><label for=\"sk-estimator-id-22\" class=\"sk-toggleable__label sk-toggleable__label-arrow\">XGBRegressor</label><div class=\"sk-toggleable__content\"><pre>XGBRegressor(base_score=None, booster=None, callbacks=None,\n",
       "             colsample_bylevel=None, colsample_bynode=None,\n",
       "             colsample_bytree=None, early_stopping_rounds=None,\n",
       "             enable_categorical=False, eval_metric=None, feature_types=None,\n",
       "             gamma=None, gpu_id=None, grow_policy=None, importance_type=None,\n",
       "             interaction_constraints=None, learning_rate=None, max_bin=None,\n",
       "             max_cat_threshold=None, max_cat_to_onehot=None,\n",
       "             max_delta_step=None, max_depth=None, max_leaves=None,\n",
       "             min_child_weight=None, missing=nan, monotone_constraints=None,\n",
       "             n_estimators=100, n_jobs=None, num_parallel_tree=None,\n",
       "             predictor=None, random_state=None, ...)</pre></div></div></div></div></div></div></div></div></div></div>"
      ],
      "text/plain": [
       "GridSearchCV(cv=5,\n",
       "             estimator=XGBRegressor(base_score=None, booster=None,\n",
       "                                    callbacks=None, colsample_bylevel=None,\n",
       "                                    colsample_bynode=None,\n",
       "                                    colsample_bytree=None,\n",
       "                                    early_stopping_rounds=None,\n",
       "                                    enable_categorical=False, eval_metric=None,\n",
       "                                    feature_types=None, gamma=None, gpu_id=None,\n",
       "                                    grow_policy=None, importance_type=None,\n",
       "                                    interaction_constraints=None,\n",
       "                                    learning_rate=None, m...\n",
       "                                    max_depth=None, max_leaves=None,\n",
       "                                    min_child_weight=None, missing=nan,\n",
       "                                    monotone_constraints=None, n_estimators=100,\n",
       "                                    n_jobs=None, num_parallel_tree=None,\n",
       "                                    predictor=None, random_state=None, ...),\n",
       "             n_jobs=-1,\n",
       "             param_grid={'colsample_bytree': [0.8, 1.0],\n",
       "                         'learning_rate': [0.01, 0.05, 0.1],\n",
       "                         'max_depth': [3, 5, 10],\n",
       "                         'n_estimators': [50, 100, 200],\n",
       "                         'subsample': [0.8, 1.0]},\n",
       "             scoring='neg_mean_squared_error', verbose=2)"
      ]
     },
     "execution_count": 54,
     "metadata": {},
     "output_type": "execute_result"
    }
   ],
   "source": [
    "# Fit the grid search to the data\n",
    "xg_grid_search.fit(x_train, y_train)"
   ]
  },
  {
   "cell_type": "code",
   "execution_count": 55,
   "id": "de7ad3ec",
   "metadata": {},
   "outputs": [
    {
     "name": "stdout",
     "output_type": "stream",
     "text": [
      "The best parameters for XGboost model are:  \n",
      " {'colsample_bytree': 0.8, 'learning_rate': 0.1, 'max_depth': 3, 'n_estimators': 100, 'subsample': 0.8}\n"
     ]
    }
   ],
   "source": [
    "#Identify the Best parameters\n",
    "print(\"The best parameters for XGboost model are:  \\n\" ,xg_grid_search.best_params_)"
   ]
  },
  {
   "cell_type": "code",
   "execution_count": 71,
   "id": "93453696",
   "metadata": {},
   "outputs": [
    {
     "name": "stdout",
     "output_type": "stream",
     "text": [
      "MSE score of training dataset with tuning is : -1886605183.11\n"
     ]
    }
   ],
   "source": [
    "#Caluclate the Mean Absolute Error (MAE) of best parameter\n",
    "xg_perf =xg_grid_search.best_score_\n",
    "print(\"MSE score of training dataset with tuning is : {:.2f}\".format(xg_perf))"
   ]
  },
  {
   "cell_type": "markdown",
   "id": "61ee3687",
   "metadata": {},
   "source": [
    "**LightGBM**"
   ]
  },
  {
   "cell_type": "code",
   "execution_count": 57,
   "id": "771dd8c9",
   "metadata": {},
   "outputs": [],
   "source": [
    "# Create the parameter grid \n",
    "lgb_param_grid = {\n",
    "    'max_depth': [4,6,8,10,15],\n",
    "    'learning_rate': [0.01,0.05,0.1],\n",
    "    'num_leaves': [31, 50, 100],\n",
    "    'subsample': [0.8, 1.0],\n",
    "    'colsample_bytree': [0.8, 1.0]\n",
    "}\n",
    "\n",
    "# Create a LightGBM model\n",
    "lgb = LGBMRegressor()\n",
    "\n",
    "# Instantiate the grid search model\n",
    "lgb_grid_search = GridSearchCV(estimator = lgb, param_grid = lgb_param_grid, scoring= 'neg_mean_squared_error',\n",
    "                          cv = 5, n_jobs = -1, verbose = 2)"
   ]
  },
  {
   "cell_type": "code",
   "execution_count": 58,
   "id": "0e19e3d3",
   "metadata": {},
   "outputs": [
    {
     "name": "stdout",
     "output_type": "stream",
     "text": [
      "Fitting 5 folds for each of 180 candidates, totalling 900 fits\n"
     ]
    },
    {
     "data": {
      "text/html": [
       "<style>#sk-container-id-9 {color: black;background-color: white;}#sk-container-id-9 pre{padding: 0;}#sk-container-id-9 div.sk-toggleable {background-color: white;}#sk-container-id-9 label.sk-toggleable__label {cursor: pointer;display: block;width: 100%;margin-bottom: 0;padding: 0.3em;box-sizing: border-box;text-align: center;}#sk-container-id-9 label.sk-toggleable__label-arrow:before {content: \"▸\";float: left;margin-right: 0.25em;color: #696969;}#sk-container-id-9 label.sk-toggleable__label-arrow:hover:before {color: black;}#sk-container-id-9 div.sk-estimator:hover label.sk-toggleable__label-arrow:before {color: black;}#sk-container-id-9 div.sk-toggleable__content {max-height: 0;max-width: 0;overflow: hidden;text-align: left;background-color: #f0f8ff;}#sk-container-id-9 div.sk-toggleable__content pre {margin: 0.2em;color: black;border-radius: 0.25em;background-color: #f0f8ff;}#sk-container-id-9 input.sk-toggleable__control:checked~div.sk-toggleable__content {max-height: 200px;max-width: 100%;overflow: auto;}#sk-container-id-9 input.sk-toggleable__control:checked~label.sk-toggleable__label-arrow:before {content: \"▾\";}#sk-container-id-9 div.sk-estimator input.sk-toggleable__control:checked~label.sk-toggleable__label {background-color: #d4ebff;}#sk-container-id-9 div.sk-label input.sk-toggleable__control:checked~label.sk-toggleable__label {background-color: #d4ebff;}#sk-container-id-9 input.sk-hidden--visually {border: 0;clip: rect(1px 1px 1px 1px);clip: rect(1px, 1px, 1px, 1px);height: 1px;margin: -1px;overflow: hidden;padding: 0;position: absolute;width: 1px;}#sk-container-id-9 div.sk-estimator {font-family: monospace;background-color: #f0f8ff;border: 1px dotted black;border-radius: 0.25em;box-sizing: border-box;margin-bottom: 0.5em;}#sk-container-id-9 div.sk-estimator:hover {background-color: #d4ebff;}#sk-container-id-9 div.sk-parallel-item::after {content: \"\";width: 100%;border-bottom: 1px solid gray;flex-grow: 1;}#sk-container-id-9 div.sk-label:hover label.sk-toggleable__label {background-color: #d4ebff;}#sk-container-id-9 div.sk-serial::before {content: \"\";position: absolute;border-left: 1px solid gray;box-sizing: border-box;top: 0;bottom: 0;left: 50%;z-index: 0;}#sk-container-id-9 div.sk-serial {display: flex;flex-direction: column;align-items: center;background-color: white;padding-right: 0.2em;padding-left: 0.2em;position: relative;}#sk-container-id-9 div.sk-item {position: relative;z-index: 1;}#sk-container-id-9 div.sk-parallel {display: flex;align-items: stretch;justify-content: center;background-color: white;position: relative;}#sk-container-id-9 div.sk-item::before, #sk-container-id-9 div.sk-parallel-item::before {content: \"\";position: absolute;border-left: 1px solid gray;box-sizing: border-box;top: 0;bottom: 0;left: 50%;z-index: -1;}#sk-container-id-9 div.sk-parallel-item {display: flex;flex-direction: column;z-index: 1;position: relative;background-color: white;}#sk-container-id-9 div.sk-parallel-item:first-child::after {align-self: flex-end;width: 50%;}#sk-container-id-9 div.sk-parallel-item:last-child::after {align-self: flex-start;width: 50%;}#sk-container-id-9 div.sk-parallel-item:only-child::after {width: 0;}#sk-container-id-9 div.sk-dashed-wrapped {border: 1px dashed gray;margin: 0 0.4em 0.5em 0.4em;box-sizing: border-box;padding-bottom: 0.4em;background-color: white;}#sk-container-id-9 div.sk-label label {font-family: monospace;font-weight: bold;display: inline-block;line-height: 1.2em;}#sk-container-id-9 div.sk-label-container {text-align: center;}#sk-container-id-9 div.sk-container {/* jupyter's `normalize.less` sets `[hidden] { display: none; }` but bootstrap.min.css set `[hidden] { display: none !important; }` so we also need the `!important` here to be able to override the default hidden behavior on the sphinx rendered scikit-learn.org. See: https://github.com/scikit-learn/scikit-learn/issues/21755 */display: inline-block !important;position: relative;}#sk-container-id-9 div.sk-text-repr-fallback {display: none;}</style><div id=\"sk-container-id-9\" class=\"sk-top-container\"><div class=\"sk-text-repr-fallback\"><pre>GridSearchCV(cv=5, estimator=LGBMRegressor(), n_jobs=-1,\n",
       "             param_grid={&#x27;colsample_bytree&#x27;: [0.8, 1.0],\n",
       "                         &#x27;learning_rate&#x27;: [0.01, 0.05, 0.1],\n",
       "                         &#x27;max_depth&#x27;: [4, 6, 8, 10, 15],\n",
       "                         &#x27;num_leaves&#x27;: [31, 50, 100], &#x27;subsample&#x27;: [0.8, 1.0]},\n",
       "             scoring=&#x27;neg_mean_squared_error&#x27;, verbose=2)</pre><b>In a Jupyter environment, please rerun this cell to show the HTML representation or trust the notebook. <br />On GitHub, the HTML representation is unable to render, please try loading this page with nbviewer.org.</b></div><div class=\"sk-container\" hidden><div class=\"sk-item sk-dashed-wrapped\"><div class=\"sk-label-container\"><div class=\"sk-label sk-toggleable\"><input class=\"sk-toggleable__control sk-hidden--visually\" id=\"sk-estimator-id-23\" type=\"checkbox\" ><label for=\"sk-estimator-id-23\" class=\"sk-toggleable__label sk-toggleable__label-arrow\">GridSearchCV</label><div class=\"sk-toggleable__content\"><pre>GridSearchCV(cv=5, estimator=LGBMRegressor(), n_jobs=-1,\n",
       "             param_grid={&#x27;colsample_bytree&#x27;: [0.8, 1.0],\n",
       "                         &#x27;learning_rate&#x27;: [0.01, 0.05, 0.1],\n",
       "                         &#x27;max_depth&#x27;: [4, 6, 8, 10, 15],\n",
       "                         &#x27;num_leaves&#x27;: [31, 50, 100], &#x27;subsample&#x27;: [0.8, 1.0]},\n",
       "             scoring=&#x27;neg_mean_squared_error&#x27;, verbose=2)</pre></div></div></div><div class=\"sk-parallel\"><div class=\"sk-parallel-item\"><div class=\"sk-item\"><div class=\"sk-label-container\"><div class=\"sk-label sk-toggleable\"><input class=\"sk-toggleable__control sk-hidden--visually\" id=\"sk-estimator-id-24\" type=\"checkbox\" ><label for=\"sk-estimator-id-24\" class=\"sk-toggleable__label sk-toggleable__label-arrow\">estimator: LGBMRegressor</label><div class=\"sk-toggleable__content\"><pre>LGBMRegressor()</pre></div></div></div><div class=\"sk-serial\"><div class=\"sk-item\"><div class=\"sk-estimator sk-toggleable\"><input class=\"sk-toggleable__control sk-hidden--visually\" id=\"sk-estimator-id-25\" type=\"checkbox\" ><label for=\"sk-estimator-id-25\" class=\"sk-toggleable__label sk-toggleable__label-arrow\">LGBMRegressor</label><div class=\"sk-toggleable__content\"><pre>LGBMRegressor()</pre></div></div></div></div></div></div></div></div></div></div>"
      ],
      "text/plain": [
       "GridSearchCV(cv=5, estimator=LGBMRegressor(), n_jobs=-1,\n",
       "             param_grid={'colsample_bytree': [0.8, 1.0],\n",
       "                         'learning_rate': [0.01, 0.05, 0.1],\n",
       "                         'max_depth': [4, 6, 8, 10, 15],\n",
       "                         'num_leaves': [31, 50, 100], 'subsample': [0.8, 1.0]},\n",
       "             scoring='neg_mean_squared_error', verbose=2)"
      ]
     },
     "execution_count": 58,
     "metadata": {},
     "output_type": "execute_result"
    }
   ],
   "source": [
    "# Fit the grid search to the data\n",
    "lgb_grid_search.fit(x_train, y_train)"
   ]
  },
  {
   "cell_type": "code",
   "execution_count": 59,
   "id": "b6914e7f",
   "metadata": {},
   "outputs": [
    {
     "name": "stdout",
     "output_type": "stream",
     "text": [
      "The best parameters for lightGBM model are: \n",
      " {'colsample_bytree': 0.8, 'learning_rate': 0.1, 'max_depth': 4, 'num_leaves': 31, 'subsample': 0.8}\n"
     ]
    }
   ],
   "source": [
    "#Identify the Best parameters\n",
    "print(\"The best parameters for lightGBM model are: \\n\" , lgb_grid_search.best_params_)"
   ]
  },
  {
   "cell_type": "code",
   "execution_count": 72,
   "id": "41f87603",
   "metadata": {},
   "outputs": [
    {
     "name": "stdout",
     "output_type": "stream",
     "text": [
      "MSE score of training dataset with tuning is : -1874866135.73\n"
     ]
    }
   ],
   "source": [
    "#Caluclate the Mean Absolute Error (MAE) of best parameter\n",
    "lgb_perf =lgb_grid_search.best_score_\n",
    "print(\"MSE score of training dataset with tuning is : {:.2f}\".format(lgb_perf) )"
   ]
  },
  {
   "cell_type": "markdown",
   "id": "19212ff7",
   "metadata": {},
   "source": [
    "**Comparison and Model Selection**"
   ]
  },
  {
   "cell_type": "code",
   "execution_count": 74,
   "id": "692526e9",
   "metadata": {},
   "outputs": [
    {
     "name": "stdout",
     "output_type": "stream",
     "text": [
      "MSE score of training dataset using Linear Regression : -1951756429.50\n",
      "MSE score of training dataset using Random Forests : -1901315319.02\n",
      "MSE score of training dataset using Gradient Boosting : -1882410959.64\n",
      "MSE score of training dataset using XGBoost : -1886605183.11\n",
      "MSE score of training dataset using LightGBM : -1874866135.73\n"
     ]
    }
   ],
   "source": [
    "print(\"MSE score of training dataset using Linear Regression : {:.2f}\".format(lr_perf))\n",
    "print(\"MSE score of training dataset using Random Forests : {:.2f}\".format(rf_perf))\n",
    "print(\"MSE score of training dataset using Gradient Boosting : {:.2f}\".format(gb_perf))\n",
    "print(\"MSE score of training dataset using XGBoost : {:.2f}\".format(xg_perf))\n",
    "print(\"MSE score of training dataset using LightGBM : {:.2f}\".format(lgb_perf) )"
   ]
  },
  {
   "cell_type": "markdown",
   "id": "56e7c78e",
   "metadata": {},
   "source": [
    "Based on the Mean squared error score of the model, the chosen model is **LightGBM** as it has the lowest mean squared error, meaning it has the least difference between actual and predicted numbers"
   ]
  },
  {
   "cell_type": "markdown",
   "id": "3f508d5a",
   "metadata": {},
   "source": [
    " ------------------------------------------------------------------------------------                                        "
   ]
  },
  {
   "cell_type": "markdown",
   "id": "249d3d82",
   "metadata": {},
   "source": [
    "# Model Evaluation"
   ]
  },
  {
   "cell_type": "code",
   "execution_count": 79,
   "id": "4e8846ad",
   "metadata": {},
   "outputs": [
    {
     "name": "stdout",
     "output_type": "stream",
     "text": [
      "The Evaluation Metrics for Salary Predictions using LightGBM Model: \n"
     ]
    },
    {
     "data": {
      "text/html": [
       "<div>\n",
       "<style scoped>\n",
       "    .dataframe tbody tr th:only-of-type {\n",
       "        vertical-align: middle;\n",
       "    }\n",
       "\n",
       "    .dataframe tbody tr th {\n",
       "        vertical-align: top;\n",
       "    }\n",
       "\n",
       "    .dataframe thead th {\n",
       "        text-align: right;\n",
       "    }\n",
       "</style>\n",
       "<table border=\"1\" class=\"dataframe\">\n",
       "  <thead>\n",
       "    <tr style=\"text-align: right;\">\n",
       "      <th></th>\n",
       "      <th>Mean Absolute Error</th>\n",
       "      <th>Mean Absolute Percentage Error</th>\n",
       "      <th>Mean Squared Error</th>\n",
       "      <th>Root Mean Squared Error</th>\n",
       "      <th>R-Squared Score</th>\n",
       "    </tr>\n",
       "  </thead>\n",
       "  <tbody>\n",
       "    <tr>\n",
       "      <th>0</th>\n",
       "      <td>32837.153699</td>\n",
       "      <td>0.328267</td>\n",
       "      <td>2.058980e+09</td>\n",
       "      <td>45375.985855</td>\n",
       "      <td>0.436149</td>\n",
       "    </tr>\n",
       "  </tbody>\n",
       "</table>\n",
       "</div>"
      ],
      "text/plain": [
       "   Mean Absolute Error  Mean Absolute Percentage Error  Mean Squared Error  \\\n",
       "0         32837.153699                        0.328267        2.058980e+09   \n",
       "\n",
       "   Root Mean Squared Error  R-Squared Score  \n",
       "0             45375.985855         0.436149  "
      ]
     },
     "execution_count": 79,
     "metadata": {},
     "output_type": "execute_result"
    }
   ],
   "source": [
    "#Predict Salaries for the the test data using LightGBM\n",
    "y_pred = lgb_grid_search.predict(x_test) \n",
    "\n",
    "# Create a dataframe to store the metrics\n",
    "metrics_df = pd.DataFrame(columns=['Mean Absolute Error', 'Mean Absolute Percentage Error','Mean Squared Error',\n",
    "                                   'Root Mean Squared Error', 'R-Squared Score'])\n",
    "\n",
    "# Calculate the evaluation metrics\n",
    "mae = mean_absolute_error(y_test, y_pred)\n",
    "mape=mean_absolute_percentage_error(y_test,y_pred)\n",
    "mse = mean_squared_error(y_test, y_pred)\n",
    "rmse = mean_squared_error(y_test, y_pred, squared=False)\n",
    "r2 = r2_score(y_test, y_pred)\n",
    "\n",
    "new_row = {\n",
    "        'Mean Absolute Error': mae,\n",
    "        'Mean Absolute Percentage Error': mape,\n",
    "        'Mean Squared Error': mse,\n",
    "        'Root Mean Squared Error': rmse,\n",
    "        'R-Squared Score': r2\n",
    "    }\n",
    "\n",
    "#Print evaluation metrics dataframe\n",
    "metrics_df = pd.concat([metrics_df, pd.DataFrame([new_row])], ignore_index=True)\n",
    "print(\"The Evaluation Metrics for Salary Predictions using LightGBM Model: \")\n",
    "metrics_df"
   ]
  },
  {
   "cell_type": "markdown",
   "id": "947f1a1a",
   "metadata": {},
   "source": [
    "- The average percentage difference between the predicted values and the actual values is 32.8%\n",
    "- So, the average difference between the actual salary and predicted salary is 32,837$"
   ]
  },
  {
   "cell_type": "markdown",
   "id": "f804090d",
   "metadata": {},
   "source": [
    " ------------------------------------------------------------------------------------                                        "
   ]
  },
  {
   "cell_type": "markdown",
   "id": "f3135340",
   "metadata": {},
   "source": [
    "# Conclusion"
   ]
  },
  {
   "cell_type": "markdown",
   "id": "0661b342",
   "metadata": {},
   "source": [
    "- Following the completion of data cleaning, categorical feature encoding, numerical feature standardization, data dimensionality reduction, and model hyperparameter tuning, the performance of the salary prediction model showed improvement. \n",
    "\n",
    "- However, the average difference between the actual salary and the predicted is still notable as currently the dataset is predominantly composed of senior-level positions, which possess a broader salary range.\n",
    "\n",
    "- For future recommendations:\n",
    "    - Add more records of different experience level, job type and company size to the dataset in order to enhance the model's capacity to make accurate salary predictions across different job levels.\n",
    "    - Try implementing ANN which can capture complex relationships and patterns in the data, however more data will be needed.\n",
    "    - Add Education level as a feature as having a MSc., MBA or PHD can influence the salary."
   ]
  }
 ],
 "metadata": {
  "kernelspec": {
   "display_name": "Python 3 (ipykernel)",
   "language": "python",
   "name": "python3"
  },
  "language_info": {
   "codemirror_mode": {
    "name": "ipython",
    "version": 3
   },
   "file_extension": ".py",
   "mimetype": "text/x-python",
   "name": "python",
   "nbconvert_exporter": "python",
   "pygments_lexer": "ipython3",
   "version": "3.10.9"
  }
 },
 "nbformat": 4,
 "nbformat_minor": 5
}
