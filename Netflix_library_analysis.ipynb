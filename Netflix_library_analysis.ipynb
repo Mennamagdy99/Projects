{
 "cells": [
  {
   "cell_type": "markdown",
   "id": "e70c4ba8",
   "metadata": {},
   "source": [
    "# Introduction\n",
    "\n",
    "The following notebook contains analysis on the Netflix movies/shows dataset. The analysis contains exploring the dataset and answering some business questions that can benefit the company.\n",
    "\n",
    "Note: that tv shows in the dataset are displayed in form of episodes.\n",
    "\n",
    "The Questions discussed in this notebook are:\n",
    "\n",
    "\n",
    "   - Top 10 rated Movies/Shows.\n",
    "   \n",
    "\n",
    "   - Number of Movies/Shows released each year. \n",
    "        - Which year has the highest number of releases?\n",
    "        - Which year has the lowest number of releases?\n",
    "\n",
    "\n",
    "   - Genre with the highest rating.\n",
    "   \n",
    "   \n",
    "   -  Content-based recommendation:\n",
    "       - Recommend 10 similar movies to a given movie according to Description.\n",
    "       - Recommend 10 similar movies to a given movie according to Genre.\n",
    "       - Recommend 10 similar movies to a given movie according to the Cast of the Movie/Show."
   ]
  },
  {
   "cell_type": "markdown",
   "id": "3523ede2",
   "metadata": {},
   "source": [
    "# Import Libraries\n",
    "\n",
    "The  follwoing libraries and packages are imported to be used for data loading and analysis:"
   ]
  },
  {
   "cell_type": "code",
   "execution_count": 1,
   "id": "bba13307",
   "metadata": {},
   "outputs": [],
   "source": [
    "#Importing libraries and packages\n",
    "import pandas as pd\n",
    "import numpy as np\n",
    "from sklearn.feature_extraction.text import CountVectorizer, TfidfVectorizer\n",
    "from sklearn.metrics.pairwise import cosine_similarity"
   ]
  },
  {
   "cell_type": "markdown",
   "id": "7b5ba17d",
   "metadata": {},
   "source": [
    "--------------------------------------------------------------------------------------------------------------------------------"
   ]
  },
  {
   "cell_type": "markdown",
   "id": "20148bff",
   "metadata": {},
   "source": [
    "# Load Dataset\n",
    "\n",
    "Loaded the `netflix-movies` dataset using Pandas. It can be found at https://www.kaggle.com/datasets/narayan63/netflix-popular-movies-dataset"
   ]
  },
  {
   "cell_type": "code",
   "execution_count": 2,
   "id": "089ef0e1",
   "metadata": {},
   "outputs": [
    {
     "data": {
      "text/html": [
       "<div>\n",
       "<style scoped>\n",
       "    .dataframe tbody tr th:only-of-type {\n",
       "        vertical-align: middle;\n",
       "    }\n",
       "\n",
       "    .dataframe tbody tr th {\n",
       "        vertical-align: top;\n",
       "    }\n",
       "\n",
       "    .dataframe thead th {\n",
       "        text-align: right;\n",
       "    }\n",
       "</style>\n",
       "<table border=\"1\" class=\"dataframe\">\n",
       "  <thead>\n",
       "    <tr style=\"text-align: right;\">\n",
       "      <th></th>\n",
       "      <th>title</th>\n",
       "      <th>year</th>\n",
       "      <th>certificate</th>\n",
       "      <th>duration</th>\n",
       "      <th>genre</th>\n",
       "      <th>rating</th>\n",
       "      <th>description</th>\n",
       "      <th>stars</th>\n",
       "      <th>votes</th>\n",
       "    </tr>\n",
       "  </thead>\n",
       "  <tbody>\n",
       "    <tr>\n",
       "      <th>0</th>\n",
       "      <td>Cobra Kai</td>\n",
       "      <td>(2018– )</td>\n",
       "      <td>TV-14</td>\n",
       "      <td>30 min</td>\n",
       "      <td>Action, Comedy, Drama</td>\n",
       "      <td>8.5</td>\n",
       "      <td>Decades after their 1984 All Valley Karate Tou...</td>\n",
       "      <td>['Ralph Macchio, ', 'William Zabka, ', 'Courtn...</td>\n",
       "      <td>177,031</td>\n",
       "    </tr>\n",
       "    <tr>\n",
       "      <th>1</th>\n",
       "      <td>The Crown</td>\n",
       "      <td>(2016– )</td>\n",
       "      <td>TV-MA</td>\n",
       "      <td>58 min</td>\n",
       "      <td>Biography, Drama, History</td>\n",
       "      <td>8.7</td>\n",
       "      <td>Follows the political rivalries and romance of...</td>\n",
       "      <td>['Claire Foy, ', 'Olivia Colman, ', 'Imelda St...</td>\n",
       "      <td>199,885</td>\n",
       "    </tr>\n",
       "    <tr>\n",
       "      <th>2</th>\n",
       "      <td>Better Call Saul</td>\n",
       "      <td>(2015–2022)</td>\n",
       "      <td>TV-MA</td>\n",
       "      <td>46 min</td>\n",
       "      <td>Crime, Drama</td>\n",
       "      <td>8.9</td>\n",
       "      <td>The trials and tribulations of criminal lawyer...</td>\n",
       "      <td>['Bob Odenkirk, ', 'Rhea Seehorn, ', 'Jonathan...</td>\n",
       "      <td>501,384</td>\n",
       "    </tr>\n",
       "    <tr>\n",
       "      <th>3</th>\n",
       "      <td>Devil in Ohio</td>\n",
       "      <td>(2022)</td>\n",
       "      <td>TV-MA</td>\n",
       "      <td>356 min</td>\n",
       "      <td>Drama, Horror, Mystery</td>\n",
       "      <td>5.9</td>\n",
       "      <td>When a psychiatrist shelters a mysterious cult...</td>\n",
       "      <td>['Emily Deschanel, ', 'Sam Jaeger, ', 'Gerardo...</td>\n",
       "      <td>9,773</td>\n",
       "    </tr>\n",
       "    <tr>\n",
       "      <th>4</th>\n",
       "      <td>Cyberpunk: Edgerunners</td>\n",
       "      <td>(2022– )</td>\n",
       "      <td>TV-MA</td>\n",
       "      <td>24 min</td>\n",
       "      <td>Animation, Action, Adventure</td>\n",
       "      <td>8.6</td>\n",
       "      <td>A Street Kid trying to survive in a technology...</td>\n",
       "      <td>['Zach Aguilar, ', 'Kenichiro Ohashi, ', 'Emi ...</td>\n",
       "      <td>15,413</td>\n",
       "    </tr>\n",
       "  </tbody>\n",
       "</table>\n",
       "</div>"
      ],
      "text/plain": [
       "                    title         year certificate duration  \\\n",
       "0               Cobra Kai     (2018– )       TV-14   30 min   \n",
       "1               The Crown     (2016– )       TV-MA   58 min   \n",
       "2        Better Call Saul  (2015–2022)       TV-MA   46 min   \n",
       "3           Devil in Ohio       (2022)       TV-MA  356 min   \n",
       "4  Cyberpunk: Edgerunners     (2022– )       TV-MA   24 min   \n",
       "\n",
       "                          genre  rating  \\\n",
       "0         Action, Comedy, Drama     8.5   \n",
       "1     Biography, Drama, History     8.7   \n",
       "2                  Crime, Drama     8.9   \n",
       "3        Drama, Horror, Mystery     5.9   \n",
       "4  Animation, Action, Adventure     8.6   \n",
       "\n",
       "                                         description  \\\n",
       "0  Decades after their 1984 All Valley Karate Tou...   \n",
       "1  Follows the political rivalries and romance of...   \n",
       "2  The trials and tribulations of criminal lawyer...   \n",
       "3  When a psychiatrist shelters a mysterious cult...   \n",
       "4  A Street Kid trying to survive in a technology...   \n",
       "\n",
       "                                               stars    votes  \n",
       "0  ['Ralph Macchio, ', 'William Zabka, ', 'Courtn...  177,031  \n",
       "1  ['Claire Foy, ', 'Olivia Colman, ', 'Imelda St...  199,885  \n",
       "2  ['Bob Odenkirk, ', 'Rhea Seehorn, ', 'Jonathan...  501,384  \n",
       "3  ['Emily Deschanel, ', 'Sam Jaeger, ', 'Gerardo...    9,773  \n",
       "4  ['Zach Aguilar, ', 'Kenichiro Ohashi, ', 'Emi ...   15,413  "
      ]
     },
     "execution_count": 2,
     "metadata": {},
     "output_type": "execute_result"
    }
   ],
   "source": [
    "#Loading the dataset using Pandas\n",
    "df_og = pd.read_csv(\"C:\\\\Users\\\\menna\\\\Desktop\\\\AI and Apps\\\\n_movies.csv\")\n",
    "\n",
    "#Displaying the first 5 records of the dataset\n",
    "df_og.head()"
   ]
  },
  {
   "cell_type": "markdown",
   "id": "f3b934b2",
   "metadata": {},
   "source": [
    "The Dataset consists of records of Movies/Shows that are currently in the Netflix Library and their features which we will take a look at in the Data Exploration."
   ]
  },
  {
   "cell_type": "markdown",
   "id": "3fc4c755",
   "metadata": {},
   "source": [
    "--------------------------------------------------------------------------------------------------------------------------------"
   ]
  },
  {
   "cell_type": "markdown",
   "id": "dce4f663",
   "metadata": {},
   "source": [
    "# Data Exploration\n",
    "\n",
    "The following section is exploring the data in order to determine which data preprocessing techniques will be needed to clean and prepare the data for analysis.\n",
    "\n",
    "The following steps were implemented:\n",
    "- Displaying the dataframe and it's shape to understand: \n",
    "    - The dimensions of the table\n",
    "    - How many records(movies/shows)?\n",
    "    - How many features?\n",
    "    - What are the features and their meaning?\n",
    "- Diplaying info of the dataset to understand the data type of each feature and the number of null values in each feature in order to handle missing values in data preprocesiing step.\n",
    "- Checking for duplicates to make sure that the analysis will be performed correctly, if there was duplicates they would be removed to avoid bias.\n",
    "- Checking the number of records (9957) before conducting any preprocessing in order to be able to check how many records were removed."
   ]
  },
  {
   "cell_type": "code",
   "execution_count": 3,
   "id": "0d8bf44e",
   "metadata": {},
   "outputs": [
    {
     "data": {
      "text/html": [
       "<div>\n",
       "<style scoped>\n",
       "    .dataframe tbody tr th:only-of-type {\n",
       "        vertical-align: middle;\n",
       "    }\n",
       "\n",
       "    .dataframe tbody tr th {\n",
       "        vertical-align: top;\n",
       "    }\n",
       "\n",
       "    .dataframe thead th {\n",
       "        text-align: right;\n",
       "    }\n",
       "</style>\n",
       "<table border=\"1\" class=\"dataframe\">\n",
       "  <thead>\n",
       "    <tr style=\"text-align: right;\">\n",
       "      <th></th>\n",
       "      <th>title</th>\n",
       "      <th>year</th>\n",
       "      <th>certificate</th>\n",
       "      <th>duration</th>\n",
       "      <th>genre</th>\n",
       "      <th>rating</th>\n",
       "      <th>description</th>\n",
       "      <th>stars</th>\n",
       "      <th>votes</th>\n",
       "    </tr>\n",
       "  </thead>\n",
       "  <tbody>\n",
       "    <tr>\n",
       "      <th>0</th>\n",
       "      <td>Cobra Kai</td>\n",
       "      <td>(2018– )</td>\n",
       "      <td>TV-14</td>\n",
       "      <td>30 min</td>\n",
       "      <td>Action, Comedy, Drama</td>\n",
       "      <td>8.5</td>\n",
       "      <td>Decades after their 1984 All Valley Karate Tou...</td>\n",
       "      <td>['Ralph Macchio, ', 'William Zabka, ', 'Courtn...</td>\n",
       "      <td>177,031</td>\n",
       "    </tr>\n",
       "    <tr>\n",
       "      <th>1</th>\n",
       "      <td>The Crown</td>\n",
       "      <td>(2016– )</td>\n",
       "      <td>TV-MA</td>\n",
       "      <td>58 min</td>\n",
       "      <td>Biography, Drama, History</td>\n",
       "      <td>8.7</td>\n",
       "      <td>Follows the political rivalries and romance of...</td>\n",
       "      <td>['Claire Foy, ', 'Olivia Colman, ', 'Imelda St...</td>\n",
       "      <td>199,885</td>\n",
       "    </tr>\n",
       "    <tr>\n",
       "      <th>2</th>\n",
       "      <td>Better Call Saul</td>\n",
       "      <td>(2015–2022)</td>\n",
       "      <td>TV-MA</td>\n",
       "      <td>46 min</td>\n",
       "      <td>Crime, Drama</td>\n",
       "      <td>8.9</td>\n",
       "      <td>The trials and tribulations of criminal lawyer...</td>\n",
       "      <td>['Bob Odenkirk, ', 'Rhea Seehorn, ', 'Jonathan...</td>\n",
       "      <td>501,384</td>\n",
       "    </tr>\n",
       "    <tr>\n",
       "      <th>3</th>\n",
       "      <td>Devil in Ohio</td>\n",
       "      <td>(2022)</td>\n",
       "      <td>TV-MA</td>\n",
       "      <td>356 min</td>\n",
       "      <td>Drama, Horror, Mystery</td>\n",
       "      <td>5.9</td>\n",
       "      <td>When a psychiatrist shelters a mysterious cult...</td>\n",
       "      <td>['Emily Deschanel, ', 'Sam Jaeger, ', 'Gerardo...</td>\n",
       "      <td>9,773</td>\n",
       "    </tr>\n",
       "    <tr>\n",
       "      <th>4</th>\n",
       "      <td>Cyberpunk: Edgerunners</td>\n",
       "      <td>(2022– )</td>\n",
       "      <td>TV-MA</td>\n",
       "      <td>24 min</td>\n",
       "      <td>Animation, Action, Adventure</td>\n",
       "      <td>8.6</td>\n",
       "      <td>A Street Kid trying to survive in a technology...</td>\n",
       "      <td>['Zach Aguilar, ', 'Kenichiro Ohashi, ', 'Emi ...</td>\n",
       "      <td>15,413</td>\n",
       "    </tr>\n",
       "    <tr>\n",
       "      <th>...</th>\n",
       "      <td>...</td>\n",
       "      <td>...</td>\n",
       "      <td>...</td>\n",
       "      <td>...</td>\n",
       "      <td>...</td>\n",
       "      <td>...</td>\n",
       "      <td>...</td>\n",
       "      <td>...</td>\n",
       "      <td>...</td>\n",
       "    </tr>\n",
       "    <tr>\n",
       "      <th>9952</th>\n",
       "      <td>The Imperfects</td>\n",
       "      <td>(2022– )</td>\n",
       "      <td>TV-MA</td>\n",
       "      <td>45 min</td>\n",
       "      <td>Action, Adventure, Drama</td>\n",
       "      <td>6.3</td>\n",
       "      <td>After an experimental gene therapy turns them ...</td>\n",
       "      <td>['Morgan Taylor Campbell, ', 'Italia Ricci, ',...</td>\n",
       "      <td>3,130</td>\n",
       "    </tr>\n",
       "    <tr>\n",
       "      <th>9953</th>\n",
       "      <td>The Walking Dead</td>\n",
       "      <td>(2010–2022)</td>\n",
       "      <td>TV-MA</td>\n",
       "      <td>44 min</td>\n",
       "      <td>Drama, Horror, Thriller</td>\n",
       "      <td>8.1</td>\n",
       "      <td>Sheriff Deputy Rick Grimes wakes up from a com...</td>\n",
       "      <td>['Andrew Lincoln, ', 'Norman Reedus, ', 'Melis...</td>\n",
       "      <td>970,067</td>\n",
       "    </tr>\n",
       "    <tr>\n",
       "      <th>9954</th>\n",
       "      <td>The Crown</td>\n",
       "      <td>(2016– )</td>\n",
       "      <td>TV-MA</td>\n",
       "      <td>58 min</td>\n",
       "      <td>Biography, Drama, History</td>\n",
       "      <td>8.7</td>\n",
       "      <td>Follows the political rivalries and romance of...</td>\n",
       "      <td>['Claire Foy, ', 'Olivia Colman, ', 'Imelda St...</td>\n",
       "      <td>199,898</td>\n",
       "    </tr>\n",
       "    <tr>\n",
       "      <th>9955</th>\n",
       "      <td>Supernatural</td>\n",
       "      <td>(2005–2020)</td>\n",
       "      <td>TV-14</td>\n",
       "      <td>44 min</td>\n",
       "      <td>Drama, Fantasy, Horror</td>\n",
       "      <td>8.4</td>\n",
       "      <td>Two brothers follow their father's footsteps a...</td>\n",
       "      <td>['Jared Padalecki, ', 'Jensen Ackles, ', 'Jim ...</td>\n",
       "      <td>439,601</td>\n",
       "    </tr>\n",
       "    <tr>\n",
       "      <th>9956</th>\n",
       "      <td>Devil in Ohio</td>\n",
       "      <td>(2022)</td>\n",
       "      <td>TV-MA</td>\n",
       "      <td>356 min</td>\n",
       "      <td>Drama, Horror, Mystery</td>\n",
       "      <td>5.9</td>\n",
       "      <td>When a psychiatrist shelters a mysterious cult...</td>\n",
       "      <td>['Emily Deschanel, ', 'Sam Jaeger, ', 'Gerardo...</td>\n",
       "      <td>9,786</td>\n",
       "    </tr>\n",
       "  </tbody>\n",
       "</table>\n",
       "<p>9957 rows × 9 columns</p>\n",
       "</div>"
      ],
      "text/plain": [
       "                       title         year certificate duration  \\\n",
       "0                  Cobra Kai     (2018– )       TV-14   30 min   \n",
       "1                  The Crown     (2016– )       TV-MA   58 min   \n",
       "2           Better Call Saul  (2015–2022)       TV-MA   46 min   \n",
       "3              Devil in Ohio       (2022)       TV-MA  356 min   \n",
       "4     Cyberpunk: Edgerunners     (2022– )       TV-MA   24 min   \n",
       "...                      ...          ...         ...      ...   \n",
       "9952          The Imperfects     (2022– )       TV-MA   45 min   \n",
       "9953        The Walking Dead  (2010–2022)       TV-MA   44 min   \n",
       "9954               The Crown     (2016– )       TV-MA   58 min   \n",
       "9955            Supernatural  (2005–2020)       TV-14   44 min   \n",
       "9956           Devil in Ohio       (2022)       TV-MA  356 min   \n",
       "\n",
       "                             genre  rating  \\\n",
       "0            Action, Comedy, Drama     8.5   \n",
       "1        Biography, Drama, History     8.7   \n",
       "2                     Crime, Drama     8.9   \n",
       "3           Drama, Horror, Mystery     5.9   \n",
       "4     Animation, Action, Adventure     8.6   \n",
       "...                            ...     ...   \n",
       "9952      Action, Adventure, Drama     6.3   \n",
       "9953       Drama, Horror, Thriller     8.1   \n",
       "9954     Biography, Drama, History     8.7   \n",
       "9955        Drama, Fantasy, Horror     8.4   \n",
       "9956        Drama, Horror, Mystery     5.9   \n",
       "\n",
       "                                            description  \\\n",
       "0     Decades after their 1984 All Valley Karate Tou...   \n",
       "1     Follows the political rivalries and romance of...   \n",
       "2     The trials and tribulations of criminal lawyer...   \n",
       "3     When a psychiatrist shelters a mysterious cult...   \n",
       "4     A Street Kid trying to survive in a technology...   \n",
       "...                                                 ...   \n",
       "9952  After an experimental gene therapy turns them ...   \n",
       "9953  Sheriff Deputy Rick Grimes wakes up from a com...   \n",
       "9954  Follows the political rivalries and romance of...   \n",
       "9955  Two brothers follow their father's footsteps a...   \n",
       "9956  When a psychiatrist shelters a mysterious cult...   \n",
       "\n",
       "                                                  stars    votes  \n",
       "0     ['Ralph Macchio, ', 'William Zabka, ', 'Courtn...  177,031  \n",
       "1     ['Claire Foy, ', 'Olivia Colman, ', 'Imelda St...  199,885  \n",
       "2     ['Bob Odenkirk, ', 'Rhea Seehorn, ', 'Jonathan...  501,384  \n",
       "3     ['Emily Deschanel, ', 'Sam Jaeger, ', 'Gerardo...    9,773  \n",
       "4     ['Zach Aguilar, ', 'Kenichiro Ohashi, ', 'Emi ...   15,413  \n",
       "...                                                 ...      ...  \n",
       "9952  ['Morgan Taylor Campbell, ', 'Italia Ricci, ',...    3,130  \n",
       "9953  ['Andrew Lincoln, ', 'Norman Reedus, ', 'Melis...  970,067  \n",
       "9954  ['Claire Foy, ', 'Olivia Colman, ', 'Imelda St...  199,898  \n",
       "9955  ['Jared Padalecki, ', 'Jensen Ackles, ', 'Jim ...  439,601  \n",
       "9956  ['Emily Deschanel, ', 'Sam Jaeger, ', 'Gerardo...    9,786  \n",
       "\n",
       "[9957 rows x 9 columns]"
      ]
     },
     "execution_count": 3,
     "metadata": {},
     "output_type": "execute_result"
    }
   ],
   "source": [
    "#Displaying original dataset and its dimensions\n",
    "df_og"
   ]
  },
  {
   "cell_type": "markdown",
   "id": "dcf44971",
   "metadata": {},
   "source": [
    "The dataset contains 9957 movies/shows and 9 features, the features are:\n",
    "\n",
    "- `title`:  The name of the Movie or Show.\n",
    "- `year`:  The year in which the Movie/Show was released and the year in which the last episode was released.\n",
    "- `certificate`:  Rating of Movies/Shows based on suitability for audience (Ex: TV-14 = For audience older then 14).\n",
    "- `duration`:  Duration of the movie in Minutes.\n",
    "- `genre`:  The genre or the mix of genres of the Movie/Show.\n",
    "- `rating`:  The IMDB rating of the Movie/Show (0 to 10).\n",
    "- `description`:  The Movie/Show synopsis.\n",
    "- `stars`:  The cast of the Movie/Show.\n",
    "- `votes`:  The number of votes received for the movie `rating`."
   ]
  },
  {
   "cell_type": "code",
   "execution_count": 4,
   "id": "5f35cecb",
   "metadata": {},
   "outputs": [
    {
     "name": "stdout",
     "output_type": "stream",
     "text": [
      "<class 'pandas.core.frame.DataFrame'>\n",
      "RangeIndex: 9957 entries, 0 to 9956\n",
      "Data columns (total 9 columns):\n",
      " #   Column       Non-Null Count  Dtype  \n",
      "---  ------       --------------  -----  \n",
      " 0   title        9957 non-null   object \n",
      " 1   year         9430 non-null   object \n",
      " 2   certificate  6504 non-null   object \n",
      " 3   duration     7921 non-null   object \n",
      " 4   genre        9884 non-null   object \n",
      " 5   rating       8784 non-null   float64\n",
      " 6   description  9957 non-null   object \n",
      " 7   stars        9957 non-null   object \n",
      " 8   votes        8784 non-null   object \n",
      "dtypes: float64(1), object(8)\n",
      "memory usage: 700.2+ KB\n"
     ]
    }
   ],
   "source": [
    "#Printing Information on the dataset\n",
    "df_og.info()"
   ]
  },
  {
   "cell_type": "markdown",
   "id": "680d3b44",
   "metadata": {},
   "source": [
    "Summary of Dataset Info:\n",
    "\n",
    "- All features are of type Object except for the `rating` which is of type Float64\n",
    "- Features `year`,`certificate`,`duration`,`genre`,`rating` and `votes` all have null values which need to be handled in the Data Preprocessing step"
   ]
  },
  {
   "cell_type": "code",
   "execution_count": 5,
   "id": "927d1aaa",
   "metadata": {},
   "outputs": [
    {
     "name": "stdout",
     "output_type": "stream",
     "text": [
      "Number of duplicated rows is 0\n"
     ]
    }
   ],
   "source": [
    "#Checking if there are duplicates\n",
    "print(f\"Number of duplicated rows is {sum(df_og.duplicated() == True)}\")"
   ]
  },
  {
   "cell_type": "code",
   "execution_count": 6,
   "id": "43a756b2",
   "metadata": {},
   "outputs": [
    {
     "name": "stdout",
     "output_type": "stream",
     "text": [
      "Number of rows before cleansing = 9957\n"
     ]
    }
   ],
   "source": [
    "print(f\"Number of rows before cleansing = {len(df_og)}\")"
   ]
  },
  {
   "cell_type": "markdown",
   "id": "7627bc1d",
   "metadata": {},
   "source": [
    "--------------------------------------------------------------------------------------------------------------------------------"
   ]
  },
  {
   "cell_type": "markdown",
   "id": "906b5813",
   "metadata": {},
   "source": [
    "# Data Preprocessing\n",
    "\n",
    "The following section is cleaning and preparing the data for analysis, the following steps were implemented:\n",
    "- Created a non-pointer copy of the dataset to conduct preprocessing on so I can preserve the original dataset's shape and form.\n",
    "- Dropped all null values as a way of handling missing values to avoid bias or inaccuracy in the data analysis.\n",
    "- Sorted values into descending order of the rating to display the dataset from highest to lowest rated.\n",
    "- Reseted the index as it was messed up afted dropping the rows with null values.\n",
    "- Checked number of rows after cleansing which is now 5754 rows, which means  4203 records where droped during preprocessing. \n",
    "- Renamed the column `stars` to `cast` as it makes more sense to the context of the dataset and is more understandable.\n",
    "- The feature `year` was in the form of range as for TV Shows it displayed the release year of thevshow and the last year it was aired (ex:(2017-2022)) so the following steps were applied in order to be able to apply the analysis as we also only need the release year of the records for this analysis:\n",
    "    - Removed special characters such as \"-,),(\" in order to be able to extract the release year (4 numbers).\n",
    "    - Created a new column named `release_year` so we can set it with the extracted number.\n",
    "    - Set the `release_year` of each record with the first four characters from the `year` column which is the release year.\n",
    "    - Transformed the type of the `release_year` from Object to Integar after finalizing preprocessing it.\n",
    "    - Dropped column `year` as it's no longer needed.\n",
    "- Dropped features that won't be needed for this analysis and reorganized columns to make the data displayed simpler and easier to track.\n",
    "- Finally displayed the final table that will be used for the analysis."
   ]
  },
  {
   "cell_type": "code",
   "execution_count": 7,
   "id": "bcde1000",
   "metadata": {},
   "outputs": [],
   "source": [
    "#Creating a non-pointer copy of the dataset\n",
    "df=df_og.copy()"
   ]
  },
  {
   "cell_type": "code",
   "execution_count": 8,
   "id": "bbf4dc86",
   "metadata": {
    "scrolled": true
   },
   "outputs": [],
   "source": [
    "#Drop all null values\n",
    "df=df.dropna()\n",
    "\n",
    "#Sorting records in a descending of their rating to view the highest to lowest rated\n",
    "df=df.sort_values(\"rating\",ascending=False)\n",
    "\n",
    "#Resetting Index\n",
    "df= df.reset_index(drop=True)"
   ]
  },
  {
   "cell_type": "code",
   "execution_count": 9,
   "id": "6c729ff6",
   "metadata": {},
   "outputs": [
    {
     "data": {
      "text/html": [
       "<div>\n",
       "<style scoped>\n",
       "    .dataframe tbody tr th:only-of-type {\n",
       "        vertical-align: middle;\n",
       "    }\n",
       "\n",
       "    .dataframe tbody tr th {\n",
       "        vertical-align: top;\n",
       "    }\n",
       "\n",
       "    .dataframe thead th {\n",
       "        text-align: right;\n",
       "    }\n",
       "</style>\n",
       "<table border=\"1\" class=\"dataframe\">\n",
       "  <thead>\n",
       "    <tr style=\"text-align: right;\">\n",
       "      <th></th>\n",
       "      <th>title</th>\n",
       "      <th>year</th>\n",
       "      <th>certificate</th>\n",
       "      <th>duration</th>\n",
       "      <th>genre</th>\n",
       "      <th>rating</th>\n",
       "      <th>description</th>\n",
       "      <th>stars</th>\n",
       "      <th>votes</th>\n",
       "    </tr>\n",
       "  </thead>\n",
       "  <tbody>\n",
       "    <tr>\n",
       "      <th>0</th>\n",
       "      <td>BoJack Horseman</td>\n",
       "      <td>(2014–2020)</td>\n",
       "      <td>TV-MA</td>\n",
       "      <td>26 min</td>\n",
       "      <td>Animation, Comedy, Drama</td>\n",
       "      <td>9.9</td>\n",
       "      <td>BoJack reconnects with faces from his past.</td>\n",
       "      <td>['Amy Winfrey', '| ', '    Stars:', 'Will Arne...</td>\n",
       "      <td>16,066</td>\n",
       "    </tr>\n",
       "    <tr>\n",
       "      <th>1</th>\n",
       "      <td>Avatar: The Last Airbender</td>\n",
       "      <td>(2005–2008)</td>\n",
       "      <td>TV-Y7</td>\n",
       "      <td>25 min</td>\n",
       "      <td>Animation, Action, Adventure</td>\n",
       "      <td>9.6</td>\n",
       "      <td>The heroes work together to stop Azula's destr...</td>\n",
       "      <td>['Michael Dante DiMartino', '| ', '    Stars:'...</td>\n",
       "      <td>5,221</td>\n",
       "    </tr>\n",
       "    <tr>\n",
       "      <th>2</th>\n",
       "      <td>Dexter</td>\n",
       "      <td>(2006–2013)</td>\n",
       "      <td>TV-MA</td>\n",
       "      <td>56 min</td>\n",
       "      <td>Crime, Drama, Mystery</td>\n",
       "      <td>9.6</td>\n",
       "      <td>In the Season One finale, Dexter follows the c...</td>\n",
       "      <td>['Michael Cuesta', '| ', '    Stars:', 'Michae...</td>\n",
       "      <td>10,604</td>\n",
       "    </tr>\n",
       "    <tr>\n",
       "      <th>3</th>\n",
       "      <td>JoJo's Bizarre Adventure</td>\n",
       "      <td>(2012– )</td>\n",
       "      <td>TV-MA</td>\n",
       "      <td>25 min</td>\n",
       "      <td>Animation, Action, Adventure</td>\n",
       "      <td>9.6</td>\n",
       "      <td>In the aftermath of the battle between Risotto...</td>\n",
       "      <td>['Shinshû Fuji, ', 'Kellen Goff, ', 'Katsuyuki...</td>\n",
       "      <td>1,442</td>\n",
       "    </tr>\n",
       "    <tr>\n",
       "      <th>4</th>\n",
       "      <td>Stranger Things</td>\n",
       "      <td>(2016– )</td>\n",
       "      <td>TV-14</td>\n",
       "      <td>98 min</td>\n",
       "      <td>Drama, Fantasy, Horror</td>\n",
       "      <td>9.6</td>\n",
       "      <td>As Hopper braces to battle a monster, Dustin d...</td>\n",
       "      <td>['Matt Duffer, ', 'Ross Duffer', '| ', '    St...</td>\n",
       "      <td>36,276</td>\n",
       "    </tr>\n",
       "    <tr>\n",
       "      <th>...</th>\n",
       "      <td>...</td>\n",
       "      <td>...</td>\n",
       "      <td>...</td>\n",
       "      <td>...</td>\n",
       "      <td>...</td>\n",
       "      <td>...</td>\n",
       "      <td>...</td>\n",
       "      <td>...</td>\n",
       "      <td>...</td>\n",
       "    </tr>\n",
       "    <tr>\n",
       "      <th>5749</th>\n",
       "      <td>The Hype House</td>\n",
       "      <td>(2022– )</td>\n",
       "      <td>TV-MA</td>\n",
       "      <td>36 min</td>\n",
       "      <td>Reality-TV</td>\n",
       "      <td>2.1</td>\n",
       "      <td>Get an inside look at social media's least tal...</td>\n",
       "      <td>['Larray, ', 'Alex Warren, ', 'Kouvr Annon, ',...</td>\n",
       "      <td>2,955</td>\n",
       "    </tr>\n",
       "    <tr>\n",
       "      <th>5750</th>\n",
       "      <td>Thomas &amp; Friends: All Engines Go</td>\n",
       "      <td>(2021– )</td>\n",
       "      <td>TV-Y</td>\n",
       "      <td>30 min</td>\n",
       "      <td>Animation, Short, Adventure</td>\n",
       "      <td>2.1</td>\n",
       "      <td>All aboard, everyone. It's all engines go as T...</td>\n",
       "      <td>['Ava Ro, ', 'Charlie Zeltzer, ', 'Glee Dango,...</td>\n",
       "      <td>604</td>\n",
       "    </tr>\n",
       "    <tr>\n",
       "      <th>5751</th>\n",
       "      <td>Way of the Vampire</td>\n",
       "      <td>(2005)</td>\n",
       "      <td>R</td>\n",
       "      <td>82 min</td>\n",
       "      <td>Action, Horror, Thriller</td>\n",
       "      <td>2.0</td>\n",
       "      <td>After defeating Dracula, Van Helsing is grante...</td>\n",
       "      <td>['Sarah Nean Bruce, ', 'Eduardo Durão', '| ', ...</td>\n",
       "      <td>1,649</td>\n",
       "    </tr>\n",
       "    <tr>\n",
       "      <th>5752</th>\n",
       "      <td>Hajwala: The Missing Engine</td>\n",
       "      <td>(2016)</td>\n",
       "      <td>PG-13</td>\n",
       "      <td>96 min</td>\n",
       "      <td>Action, Adventure, Crime</td>\n",
       "      <td>2.0</td>\n",
       "      <td>Khalid and Kehailan are two team leaders who a...</td>\n",
       "      <td>['Ali Bin Matar, ', 'Ibrahim Bin Mohamed, ', '...</td>\n",
       "      <td>261</td>\n",
       "    </tr>\n",
       "    <tr>\n",
       "      <th>5753</th>\n",
       "      <td>Defcon 2012</td>\n",
       "      <td>(2010)</td>\n",
       "      <td>Not Rated</td>\n",
       "      <td>92 min</td>\n",
       "      <td>Sci-Fi</td>\n",
       "      <td>1.7</td>\n",
       "      <td>On October 30, 2009 an independent filmmaker a...</td>\n",
       "      <td>['R. Christian Anderson', '| ', '    Stars:', ...</td>\n",
       "      <td>407</td>\n",
       "    </tr>\n",
       "  </tbody>\n",
       "</table>\n",
       "<p>5754 rows × 9 columns</p>\n",
       "</div>"
      ],
      "text/plain": [
       "                                 title         year certificate duration  \\\n",
       "0                      BoJack Horseman  (2014–2020)       TV-MA   26 min   \n",
       "1           Avatar: The Last Airbender  (2005–2008)       TV-Y7   25 min   \n",
       "2                               Dexter  (2006–2013)       TV-MA   56 min   \n",
       "3             JoJo's Bizarre Adventure     (2012– )       TV-MA   25 min   \n",
       "4                      Stranger Things     (2016– )       TV-14   98 min   \n",
       "...                                ...          ...         ...      ...   \n",
       "5749                    The Hype House     (2022– )       TV-MA   36 min   \n",
       "5750  Thomas & Friends: All Engines Go     (2021– )        TV-Y   30 min   \n",
       "5751                Way of the Vampire       (2005)           R   82 min   \n",
       "5752       Hajwala: The Missing Engine       (2016)       PG-13   96 min   \n",
       "5753                       Defcon 2012       (2010)   Not Rated   92 min   \n",
       "\n",
       "                             genre  rating  \\\n",
       "0         Animation, Comedy, Drama     9.9   \n",
       "1     Animation, Action, Adventure     9.6   \n",
       "2            Crime, Drama, Mystery     9.6   \n",
       "3     Animation, Action, Adventure     9.6   \n",
       "4           Drama, Fantasy, Horror     9.6   \n",
       "...                            ...     ...   \n",
       "5749                    Reality-TV     2.1   \n",
       "5750   Animation, Short, Adventure     2.1   \n",
       "5751      Action, Horror, Thriller     2.0   \n",
       "5752      Action, Adventure, Crime     2.0   \n",
       "5753                        Sci-Fi     1.7   \n",
       "\n",
       "                                            description  \\\n",
       "0           BoJack reconnects with faces from his past.   \n",
       "1     The heroes work together to stop Azula's destr...   \n",
       "2     In the Season One finale, Dexter follows the c...   \n",
       "3     In the aftermath of the battle between Risotto...   \n",
       "4     As Hopper braces to battle a monster, Dustin d...   \n",
       "...                                                 ...   \n",
       "5749  Get an inside look at social media's least tal...   \n",
       "5750  All aboard, everyone. It's all engines go as T...   \n",
       "5751  After defeating Dracula, Van Helsing is grante...   \n",
       "5752  Khalid and Kehailan are two team leaders who a...   \n",
       "5753  On October 30, 2009 an independent filmmaker a...   \n",
       "\n",
       "                                                  stars   votes  \n",
       "0     ['Amy Winfrey', '| ', '    Stars:', 'Will Arne...  16,066  \n",
       "1     ['Michael Dante DiMartino', '| ', '    Stars:'...   5,221  \n",
       "2     ['Michael Cuesta', '| ', '    Stars:', 'Michae...  10,604  \n",
       "3     ['Shinshû Fuji, ', 'Kellen Goff, ', 'Katsuyuki...   1,442  \n",
       "4     ['Matt Duffer, ', 'Ross Duffer', '| ', '    St...  36,276  \n",
       "...                                                 ...     ...  \n",
       "5749  ['Larray, ', 'Alex Warren, ', 'Kouvr Annon, ',...   2,955  \n",
       "5750  ['Ava Ro, ', 'Charlie Zeltzer, ', 'Glee Dango,...     604  \n",
       "5751  ['Sarah Nean Bruce, ', 'Eduardo Durão', '| ', ...   1,649  \n",
       "5752  ['Ali Bin Matar, ', 'Ibrahim Bin Mohamed, ', '...     261  \n",
       "5753  ['R. Christian Anderson', '| ', '    Stars:', ...     407  \n",
       "\n",
       "[5754 rows x 9 columns]"
      ]
     },
     "execution_count": 9,
     "metadata": {},
     "output_type": "execute_result"
    }
   ],
   "source": [
    "#Displaying dataframe after the initial preprocessing\n",
    "df"
   ]
  },
  {
   "cell_type": "code",
   "execution_count": 11,
   "id": "f704094c",
   "metadata": {},
   "outputs": [
    {
     "name": "stdout",
     "output_type": "stream",
     "text": [
      "Number of rows after cleansing = 5754\n"
     ]
    }
   ],
   "source": [
    "print(f\"Number of rows after cleansing = {len(df)}\")"
   ]
  },
  {
   "cell_type": "markdown",
   "id": "9bcfe2e5",
   "metadata": {},
   "source": [
    "Because of high number of Null values in the dataset, 4203 records where droped. As an improvement, the numerical null values could be replaced with the average of the other values, or use a regression. "
   ]
  },
  {
   "cell_type": "markdown",
   "id": "3ffe0b2b",
   "metadata": {},
   "source": [
    "     "
   ]
  },
  {
   "cell_type": "code",
   "execution_count": 12,
   "id": "07a07f11",
   "metadata": {},
   "outputs": [],
   "source": [
    "#Renaming the column \"stars\" to \"cast\" as it's more suitable\n",
    "df.rename(columns = {'stars':'cast'}, inplace = True) #Change the stars column name to cast"
   ]
  },
  {
   "cell_type": "markdown",
   "id": "871f7cd6",
   "metadata": {},
   "source": [
    "     "
   ]
  },
  {
   "cell_type": "markdown",
   "id": "e81152a1",
   "metadata": {},
   "source": [
    "The `year` feature is in the format of a range of release year to last date of airing, however for this analysis only the release year will be needed so preprocessing will be applied to extract the release year. "
   ]
  },
  {
   "cell_type": "code",
   "execution_count": 13,
   "id": "39b7bea6",
   "metadata": {},
   "outputs": [],
   "source": [
    "#Removing special characters in column year\n",
    "df['year'] = df['year'].str.replace(r'\\D+',\"\", regex=True)"
   ]
  },
  {
   "cell_type": "code",
   "execution_count": 14,
   "id": "611352e3",
   "metadata": {
    "scrolled": true
   },
   "outputs": [],
   "source": [
    "#Creating a new column named \"release_year\" and intializing it with null values\n",
    "df['release_year'] = np.nan\n",
    "\n",
    "#Setting the release_year of each record with the first four characters from the year column which is the release year\n",
    "df['release_year'] = df['year'].str[:4]\n",
    "\n",
    "#Typecasting \"release_year\" from Object to Integar\n",
    "df['release_year'].astype(int)\n",
    "\n",
    "#The column year will be dropped as it useless after extracting the release year from it\n",
    "df=df.drop(['year'], axis=1)"
   ]
  },
  {
   "cell_type": "markdown",
   "id": "910c190c",
   "metadata": {},
   "source": [
    "Dataframe after adding the column `release_year`, removing column `year` and renaming the column `stars` to `cast`"
   ]
  },
  {
   "cell_type": "markdown",
   "id": "a468236b",
   "metadata": {},
   "source": [
    "In this analysis only the following features will be used:\n",
    "\n",
    "- `title`\n",
    "- `genre`\n",
    "- `rating`\n",
    "- `description`\n",
    "- `cast`\n",
    "- `release_year`\n",
    "\n",
    "As a result the other features (`certificate`,`duration` and `votes`) will be dropped so the dataframe is simpler and easier to track."
   ]
  },
  {
   "cell_type": "code",
   "execution_count": 16,
   "id": "0308e7fa",
   "metadata": {},
   "outputs": [
    {
     "data": {
      "text/html": [
       "<div>\n",
       "<style scoped>\n",
       "    .dataframe tbody tr th:only-of-type {\n",
       "        vertical-align: middle;\n",
       "    }\n",
       "\n",
       "    .dataframe tbody tr th {\n",
       "        vertical-align: top;\n",
       "    }\n",
       "\n",
       "    .dataframe thead th {\n",
       "        text-align: right;\n",
       "    }\n",
       "</style>\n",
       "<table border=\"1\" class=\"dataframe\">\n",
       "  <thead>\n",
       "    <tr style=\"text-align: right;\">\n",
       "      <th></th>\n",
       "      <th>title</th>\n",
       "      <th>genre</th>\n",
       "      <th>rating</th>\n",
       "      <th>description</th>\n",
       "      <th>cast</th>\n",
       "      <th>release_year</th>\n",
       "    </tr>\n",
       "  </thead>\n",
       "  <tbody>\n",
       "    <tr>\n",
       "      <th>0</th>\n",
       "      <td>BoJack Horseman</td>\n",
       "      <td>Animation, Comedy, Drama</td>\n",
       "      <td>9.9</td>\n",
       "      <td>BoJack reconnects with faces from his past.</td>\n",
       "      <td>['Amy Winfrey', '| ', '    Stars:', 'Will Arne...</td>\n",
       "      <td>2014</td>\n",
       "    </tr>\n",
       "    <tr>\n",
       "      <th>1</th>\n",
       "      <td>Avatar: The Last Airbender</td>\n",
       "      <td>Animation, Action, Adventure</td>\n",
       "      <td>9.6</td>\n",
       "      <td>The heroes work together to stop Azula's destr...</td>\n",
       "      <td>['Michael Dante DiMartino', '| ', '    Stars:'...</td>\n",
       "      <td>2005</td>\n",
       "    </tr>\n",
       "    <tr>\n",
       "      <th>2</th>\n",
       "      <td>Dexter</td>\n",
       "      <td>Crime, Drama, Mystery</td>\n",
       "      <td>9.6</td>\n",
       "      <td>In the Season One finale, Dexter follows the c...</td>\n",
       "      <td>['Michael Cuesta', '| ', '    Stars:', 'Michae...</td>\n",
       "      <td>2006</td>\n",
       "    </tr>\n",
       "    <tr>\n",
       "      <th>3</th>\n",
       "      <td>JoJo's Bizarre Adventure</td>\n",
       "      <td>Animation, Action, Adventure</td>\n",
       "      <td>9.6</td>\n",
       "      <td>In the aftermath of the battle between Risotto...</td>\n",
       "      <td>['Shinshû Fuji, ', 'Kellen Goff, ', 'Katsuyuki...</td>\n",
       "      <td>2012</td>\n",
       "    </tr>\n",
       "    <tr>\n",
       "      <th>4</th>\n",
       "      <td>Stranger Things</td>\n",
       "      <td>Drama, Fantasy, Horror</td>\n",
       "      <td>9.6</td>\n",
       "      <td>As Hopper braces to battle a monster, Dustin d...</td>\n",
       "      <td>['Matt Duffer, ', 'Ross Duffer', '| ', '    St...</td>\n",
       "      <td>2016</td>\n",
       "    </tr>\n",
       "    <tr>\n",
       "      <th>...</th>\n",
       "      <td>...</td>\n",
       "      <td>...</td>\n",
       "      <td>...</td>\n",
       "      <td>...</td>\n",
       "      <td>...</td>\n",
       "      <td>...</td>\n",
       "    </tr>\n",
       "    <tr>\n",
       "      <th>5749</th>\n",
       "      <td>The Hype House</td>\n",
       "      <td>Reality-TV</td>\n",
       "      <td>2.1</td>\n",
       "      <td>Get an inside look at social media's least tal...</td>\n",
       "      <td>['Larray, ', 'Alex Warren, ', 'Kouvr Annon, ',...</td>\n",
       "      <td>2022</td>\n",
       "    </tr>\n",
       "    <tr>\n",
       "      <th>5750</th>\n",
       "      <td>Thomas &amp; Friends: All Engines Go</td>\n",
       "      <td>Animation, Short, Adventure</td>\n",
       "      <td>2.1</td>\n",
       "      <td>All aboard, everyone. It's all engines go as T...</td>\n",
       "      <td>['Ava Ro, ', 'Charlie Zeltzer, ', 'Glee Dango,...</td>\n",
       "      <td>2021</td>\n",
       "    </tr>\n",
       "    <tr>\n",
       "      <th>5751</th>\n",
       "      <td>Way of the Vampire</td>\n",
       "      <td>Action, Horror, Thriller</td>\n",
       "      <td>2.0</td>\n",
       "      <td>After defeating Dracula, Van Helsing is grante...</td>\n",
       "      <td>['Sarah Nean Bruce, ', 'Eduardo Durão', '| ', ...</td>\n",
       "      <td>2005</td>\n",
       "    </tr>\n",
       "    <tr>\n",
       "      <th>5752</th>\n",
       "      <td>Hajwala: The Missing Engine</td>\n",
       "      <td>Action, Adventure, Crime</td>\n",
       "      <td>2.0</td>\n",
       "      <td>Khalid and Kehailan are two team leaders who a...</td>\n",
       "      <td>['Ali Bin Matar, ', 'Ibrahim Bin Mohamed, ', '...</td>\n",
       "      <td>2016</td>\n",
       "    </tr>\n",
       "    <tr>\n",
       "      <th>5753</th>\n",
       "      <td>Defcon 2012</td>\n",
       "      <td>Sci-Fi</td>\n",
       "      <td>1.7</td>\n",
       "      <td>On October 30, 2009 an independent filmmaker a...</td>\n",
       "      <td>['R. Christian Anderson', '| ', '    Stars:', ...</td>\n",
       "      <td>2010</td>\n",
       "    </tr>\n",
       "  </tbody>\n",
       "</table>\n",
       "<p>5754 rows × 6 columns</p>\n",
       "</div>"
      ],
      "text/plain": [
       "                                 title                         genre  rating  \\\n",
       "0                      BoJack Horseman      Animation, Comedy, Drama     9.9   \n",
       "1           Avatar: The Last Airbender  Animation, Action, Adventure     9.6   \n",
       "2                               Dexter         Crime, Drama, Mystery     9.6   \n",
       "3             JoJo's Bizarre Adventure  Animation, Action, Adventure     9.6   \n",
       "4                      Stranger Things        Drama, Fantasy, Horror     9.6   \n",
       "...                                ...                           ...     ...   \n",
       "5749                    The Hype House                    Reality-TV     2.1   \n",
       "5750  Thomas & Friends: All Engines Go   Animation, Short, Adventure     2.1   \n",
       "5751                Way of the Vampire      Action, Horror, Thriller     2.0   \n",
       "5752       Hajwala: The Missing Engine      Action, Adventure, Crime     2.0   \n",
       "5753                       Defcon 2012                        Sci-Fi     1.7   \n",
       "\n",
       "                                            description  \\\n",
       "0           BoJack reconnects with faces from his past.   \n",
       "1     The heroes work together to stop Azula's destr...   \n",
       "2     In the Season One finale, Dexter follows the c...   \n",
       "3     In the aftermath of the battle between Risotto...   \n",
       "4     As Hopper braces to battle a monster, Dustin d...   \n",
       "...                                                 ...   \n",
       "5749  Get an inside look at social media's least tal...   \n",
       "5750  All aboard, everyone. It's all engines go as T...   \n",
       "5751  After defeating Dracula, Van Helsing is grante...   \n",
       "5752  Khalid and Kehailan are two team leaders who a...   \n",
       "5753  On October 30, 2009 an independent filmmaker a...   \n",
       "\n",
       "                                                   cast release_year  \n",
       "0     ['Amy Winfrey', '| ', '    Stars:', 'Will Arne...         2014  \n",
       "1     ['Michael Dante DiMartino', '| ', '    Stars:'...         2005  \n",
       "2     ['Michael Cuesta', '| ', '    Stars:', 'Michae...         2006  \n",
       "3     ['Shinshû Fuji, ', 'Kellen Goff, ', 'Katsuyuki...         2012  \n",
       "4     ['Matt Duffer, ', 'Ross Duffer', '| ', '    St...         2016  \n",
       "...                                                 ...          ...  \n",
       "5749  ['Larray, ', 'Alex Warren, ', 'Kouvr Annon, ',...         2022  \n",
       "5750  ['Ava Ro, ', 'Charlie Zeltzer, ', 'Glee Dango,...         2021  \n",
       "5751  ['Sarah Nean Bruce, ', 'Eduardo Durão', '| ', ...         2005  \n",
       "5752  ['Ali Bin Matar, ', 'Ibrahim Bin Mohamed, ', '...         2016  \n",
       "5753  ['R. Christian Anderson', '| ', '    Stars:', ...         2010  \n",
       "\n",
       "[5754 rows x 6 columns]"
      ]
     },
     "execution_count": 16,
     "metadata": {},
     "output_type": "execute_result"
    }
   ],
   "source": [
    "#Dropping features that won't be needed for this analysis\n",
    "df.drop(['duration','certificate','votes'], axis=1, inplace=True)\n",
    "df"
   ]
  },
  {
   "cell_type": "code",
   "execution_count": 20,
   "id": "45e3513d",
   "metadata": {},
   "outputs": [],
   "source": [
    "#Reorganizing columns to make more sense to context\n",
    "cols = list(df.columns.values) #creating a list of columns names\n",
    "cols\n",
    "df=df[['title', 'release_year', 'description','genre', 'cast','rating' ]] #Reordering the columns"
   ]
  },
  {
   "cell_type": "markdown",
   "id": "8e83291d",
   "metadata": {},
   "source": [
    "    "
   ]
  },
  {
   "cell_type": "markdown",
   "id": "4ec136ee",
   "metadata": {},
   "source": [
    "The final dataset after applying data preprocessing:"
   ]
  },
  {
   "cell_type": "code",
   "execution_count": 21,
   "id": "f8406e32",
   "metadata": {},
   "outputs": [
    {
     "data": {
      "text/html": [
       "<div>\n",
       "<style scoped>\n",
       "    .dataframe tbody tr th:only-of-type {\n",
       "        vertical-align: middle;\n",
       "    }\n",
       "\n",
       "    .dataframe tbody tr th {\n",
       "        vertical-align: top;\n",
       "    }\n",
       "\n",
       "    .dataframe thead th {\n",
       "        text-align: right;\n",
       "    }\n",
       "</style>\n",
       "<table border=\"1\" class=\"dataframe\">\n",
       "  <thead>\n",
       "    <tr style=\"text-align: right;\">\n",
       "      <th></th>\n",
       "      <th>title</th>\n",
       "      <th>release_year</th>\n",
       "      <th>description</th>\n",
       "      <th>genre</th>\n",
       "      <th>cast</th>\n",
       "      <th>rating</th>\n",
       "    </tr>\n",
       "  </thead>\n",
       "  <tbody>\n",
       "    <tr>\n",
       "      <th>0</th>\n",
       "      <td>BoJack Horseman</td>\n",
       "      <td>2014</td>\n",
       "      <td>BoJack reconnects with faces from his past.</td>\n",
       "      <td>Animation, Comedy, Drama</td>\n",
       "      <td>['Amy Winfrey', '| ', '    Stars:', 'Will Arne...</td>\n",
       "      <td>9.9</td>\n",
       "    </tr>\n",
       "    <tr>\n",
       "      <th>1</th>\n",
       "      <td>Avatar: The Last Airbender</td>\n",
       "      <td>2005</td>\n",
       "      <td>The heroes work together to stop Azula's destr...</td>\n",
       "      <td>Animation, Action, Adventure</td>\n",
       "      <td>['Michael Dante DiMartino', '| ', '    Stars:'...</td>\n",
       "      <td>9.6</td>\n",
       "    </tr>\n",
       "    <tr>\n",
       "      <th>2</th>\n",
       "      <td>Dexter</td>\n",
       "      <td>2006</td>\n",
       "      <td>In the Season One finale, Dexter follows the c...</td>\n",
       "      <td>Crime, Drama, Mystery</td>\n",
       "      <td>['Michael Cuesta', '| ', '    Stars:', 'Michae...</td>\n",
       "      <td>9.6</td>\n",
       "    </tr>\n",
       "    <tr>\n",
       "      <th>3</th>\n",
       "      <td>JoJo's Bizarre Adventure</td>\n",
       "      <td>2012</td>\n",
       "      <td>In the aftermath of the battle between Risotto...</td>\n",
       "      <td>Animation, Action, Adventure</td>\n",
       "      <td>['Shinshû Fuji, ', 'Kellen Goff, ', 'Katsuyuki...</td>\n",
       "      <td>9.6</td>\n",
       "    </tr>\n",
       "    <tr>\n",
       "      <th>4</th>\n",
       "      <td>Stranger Things</td>\n",
       "      <td>2016</td>\n",
       "      <td>As Hopper braces to battle a monster, Dustin d...</td>\n",
       "      <td>Drama, Fantasy, Horror</td>\n",
       "      <td>['Matt Duffer, ', 'Ross Duffer', '| ', '    St...</td>\n",
       "      <td>9.6</td>\n",
       "    </tr>\n",
       "    <tr>\n",
       "      <th>...</th>\n",
       "      <td>...</td>\n",
       "      <td>...</td>\n",
       "      <td>...</td>\n",
       "      <td>...</td>\n",
       "      <td>...</td>\n",
       "      <td>...</td>\n",
       "    </tr>\n",
       "    <tr>\n",
       "      <th>5749</th>\n",
       "      <td>The Hype House</td>\n",
       "      <td>2022</td>\n",
       "      <td>Get an inside look at social media's least tal...</td>\n",
       "      <td>Reality-TV</td>\n",
       "      <td>['Larray, ', 'Alex Warren, ', 'Kouvr Annon, ',...</td>\n",
       "      <td>2.1</td>\n",
       "    </tr>\n",
       "    <tr>\n",
       "      <th>5750</th>\n",
       "      <td>Thomas &amp; Friends: All Engines Go</td>\n",
       "      <td>2021</td>\n",
       "      <td>All aboard, everyone. It's all engines go as T...</td>\n",
       "      <td>Animation, Short, Adventure</td>\n",
       "      <td>['Ava Ro, ', 'Charlie Zeltzer, ', 'Glee Dango,...</td>\n",
       "      <td>2.1</td>\n",
       "    </tr>\n",
       "    <tr>\n",
       "      <th>5751</th>\n",
       "      <td>Way of the Vampire</td>\n",
       "      <td>2005</td>\n",
       "      <td>After defeating Dracula, Van Helsing is grante...</td>\n",
       "      <td>Action, Horror, Thriller</td>\n",
       "      <td>['Sarah Nean Bruce, ', 'Eduardo Durão', '| ', ...</td>\n",
       "      <td>2.0</td>\n",
       "    </tr>\n",
       "    <tr>\n",
       "      <th>5752</th>\n",
       "      <td>Hajwala: The Missing Engine</td>\n",
       "      <td>2016</td>\n",
       "      <td>Khalid and Kehailan are two team leaders who a...</td>\n",
       "      <td>Action, Adventure, Crime</td>\n",
       "      <td>['Ali Bin Matar, ', 'Ibrahim Bin Mohamed, ', '...</td>\n",
       "      <td>2.0</td>\n",
       "    </tr>\n",
       "    <tr>\n",
       "      <th>5753</th>\n",
       "      <td>Defcon 2012</td>\n",
       "      <td>2010</td>\n",
       "      <td>On October 30, 2009 an independent filmmaker a...</td>\n",
       "      <td>Sci-Fi</td>\n",
       "      <td>['R. Christian Anderson', '| ', '    Stars:', ...</td>\n",
       "      <td>1.7</td>\n",
       "    </tr>\n",
       "  </tbody>\n",
       "</table>\n",
       "<p>5754 rows × 6 columns</p>\n",
       "</div>"
      ],
      "text/plain": [
       "                                 title release_year  \\\n",
       "0                      BoJack Horseman         2014   \n",
       "1           Avatar: The Last Airbender         2005   \n",
       "2                               Dexter         2006   \n",
       "3             JoJo's Bizarre Adventure         2012   \n",
       "4                      Stranger Things         2016   \n",
       "...                                ...          ...   \n",
       "5749                    The Hype House         2022   \n",
       "5750  Thomas & Friends: All Engines Go         2021   \n",
       "5751                Way of the Vampire         2005   \n",
       "5752       Hajwala: The Missing Engine         2016   \n",
       "5753                       Defcon 2012         2010   \n",
       "\n",
       "                                            description  \\\n",
       "0           BoJack reconnects with faces from his past.   \n",
       "1     The heroes work together to stop Azula's destr...   \n",
       "2     In the Season One finale, Dexter follows the c...   \n",
       "3     In the aftermath of the battle between Risotto...   \n",
       "4     As Hopper braces to battle a monster, Dustin d...   \n",
       "...                                                 ...   \n",
       "5749  Get an inside look at social media's least tal...   \n",
       "5750  All aboard, everyone. It's all engines go as T...   \n",
       "5751  After defeating Dracula, Van Helsing is grante...   \n",
       "5752  Khalid and Kehailan are two team leaders who a...   \n",
       "5753  On October 30, 2009 an independent filmmaker a...   \n",
       "\n",
       "                             genre  \\\n",
       "0         Animation, Comedy, Drama   \n",
       "1     Animation, Action, Adventure   \n",
       "2            Crime, Drama, Mystery   \n",
       "3     Animation, Action, Adventure   \n",
       "4           Drama, Fantasy, Horror   \n",
       "...                            ...   \n",
       "5749                    Reality-TV   \n",
       "5750   Animation, Short, Adventure   \n",
       "5751      Action, Horror, Thriller   \n",
       "5752      Action, Adventure, Crime   \n",
       "5753                        Sci-Fi   \n",
       "\n",
       "                                                   cast  rating  \n",
       "0     ['Amy Winfrey', '| ', '    Stars:', 'Will Arne...     9.9  \n",
       "1     ['Michael Dante DiMartino', '| ', '    Stars:'...     9.6  \n",
       "2     ['Michael Cuesta', '| ', '    Stars:', 'Michae...     9.6  \n",
       "3     ['Shinshû Fuji, ', 'Kellen Goff, ', 'Katsuyuki...     9.6  \n",
       "4     ['Matt Duffer, ', 'Ross Duffer', '| ', '    St...     9.6  \n",
       "...                                                 ...     ...  \n",
       "5749  ['Larray, ', 'Alex Warren, ', 'Kouvr Annon, ',...     2.1  \n",
       "5750  ['Ava Ro, ', 'Charlie Zeltzer, ', 'Glee Dango,...     2.1  \n",
       "5751  ['Sarah Nean Bruce, ', 'Eduardo Durão', '| ', ...     2.0  \n",
       "5752  ['Ali Bin Matar, ', 'Ibrahim Bin Mohamed, ', '...     2.0  \n",
       "5753  ['R. Christian Anderson', '| ', '    Stars:', ...     1.7  \n",
       "\n",
       "[5754 rows x 6 columns]"
      ]
     },
     "execution_count": 21,
     "metadata": {},
     "output_type": "execute_result"
    }
   ],
   "source": [
    "df"
   ]
  },
  {
   "cell_type": "markdown",
   "id": "9437287b",
   "metadata": {},
   "source": [
    "The final dataset now conists of **5754** Movies/Shows and **6** features, the features are:\n",
    "\n",
    "- `title`:  The name of the Movie or Show.\n",
    "- `release_year`:  The year in which the Movie/Show was released.\n",
    "- `description`:  The Movie/Show synopsis.\n",
    "- `genre`:  The genre or the mix of genres of the Movie/Show.\n",
    "- `cast`:  The cast of the Movie/Show.\n",
    "- `rating`:  The IMDB rating of the Movie/Show (0 to 10)."
   ]
  },
  {
   "cell_type": "markdown",
   "id": "42d1055d",
   "metadata": {},
   "source": [
    "# Top 10 Highest Rated Movies/Shows\n",
    "\n",
    "For this question I want to check the 10 highest rated movies/shows (records), so I diplayed first 10 records of the table after making sure it's sorted descendingly according to the rating"
   ]
  },
  {
   "cell_type": "code",
   "execution_count": 24,
   "id": "c3602b92",
   "metadata": {},
   "outputs": [
    {
     "name": "stdout",
     "output_type": "stream",
     "text": [
      "The Top 10 Rated Movies are:\n"
     ]
    },
    {
     "data": {
      "text/html": [
       "<div>\n",
       "<style scoped>\n",
       "    .dataframe tbody tr th:only-of-type {\n",
       "        vertical-align: middle;\n",
       "    }\n",
       "\n",
       "    .dataframe tbody tr th {\n",
       "        vertical-align: top;\n",
       "    }\n",
       "\n",
       "    .dataframe thead th {\n",
       "        text-align: right;\n",
       "    }\n",
       "</style>\n",
       "<table border=\"1\" class=\"dataframe\">\n",
       "  <thead>\n",
       "    <tr style=\"text-align: right;\">\n",
       "      <th></th>\n",
       "      <th>title</th>\n",
       "      <th>release_year</th>\n",
       "      <th>description</th>\n",
       "      <th>genre</th>\n",
       "      <th>cast</th>\n",
       "      <th>rating</th>\n",
       "    </tr>\n",
       "  </thead>\n",
       "  <tbody>\n",
       "    <tr>\n",
       "      <th>0</th>\n",
       "      <td>BoJack Horseman</td>\n",
       "      <td>2014</td>\n",
       "      <td>BoJack reconnects with faces from his past.</td>\n",
       "      <td>Animation, Comedy, Drama</td>\n",
       "      <td>['Amy Winfrey', '| ', '    Stars:', 'Will Arne...</td>\n",
       "      <td>9.9</td>\n",
       "    </tr>\n",
       "    <tr>\n",
       "      <th>2</th>\n",
       "      <td>Dexter</td>\n",
       "      <td>2006</td>\n",
       "      <td>In the Season One finale, Dexter follows the c...</td>\n",
       "      <td>Crime, Drama, Mystery</td>\n",
       "      <td>['Michael Cuesta', '| ', '    Stars:', 'Michae...</td>\n",
       "      <td>9.6</td>\n",
       "    </tr>\n",
       "    <tr>\n",
       "      <th>3</th>\n",
       "      <td>JoJo's Bizarre Adventure</td>\n",
       "      <td>2012</td>\n",
       "      <td>In the aftermath of the battle between Risotto...</td>\n",
       "      <td>Animation, Action, Adventure</td>\n",
       "      <td>['Shinshû Fuji, ', 'Kellen Goff, ', 'Katsuyuki...</td>\n",
       "      <td>9.6</td>\n",
       "    </tr>\n",
       "    <tr>\n",
       "      <th>4</th>\n",
       "      <td>Stranger Things</td>\n",
       "      <td>2016</td>\n",
       "      <td>As Hopper braces to battle a monster, Dustin d...</td>\n",
       "      <td>Drama, Fantasy, Horror</td>\n",
       "      <td>['Matt Duffer, ', 'Ross Duffer', '| ', '    St...</td>\n",
       "      <td>9.6</td>\n",
       "    </tr>\n",
       "    <tr>\n",
       "      <th>5</th>\n",
       "      <td>Avatar: The Last Airbender</td>\n",
       "      <td>2005</td>\n",
       "      <td>As the Fire Nation continues its assault on th...</td>\n",
       "      <td>Animation, Action, Adventure</td>\n",
       "      <td>['Dave Filoni', '| ', '    Stars:', 'Zach Tyle...</td>\n",
       "      <td>9.6</td>\n",
       "    </tr>\n",
       "    <tr>\n",
       "      <th>1</th>\n",
       "      <td>Avatar: The Last Airbender</td>\n",
       "      <td>2005</td>\n",
       "      <td>The heroes work together to stop Azula's destr...</td>\n",
       "      <td>Animation, Action, Adventure</td>\n",
       "      <td>['Michael Dante DiMartino', '| ', '    Stars:'...</td>\n",
       "      <td>9.6</td>\n",
       "    </tr>\n",
       "    <tr>\n",
       "      <th>6</th>\n",
       "      <td>Dark</td>\n",
       "      <td>2017</td>\n",
       "      <td>Armed with a plan to prevent the apocalypse, J...</td>\n",
       "      <td>Crime, Drama, Mystery</td>\n",
       "      <td>['Baran bo Odar', '| ', '    Stars:', 'Louis H...</td>\n",
       "      <td>9.5</td>\n",
       "    </tr>\n",
       "    <tr>\n",
       "      <th>7</th>\n",
       "      <td>Avatar: The Last Airbender</td>\n",
       "      <td>2005</td>\n",
       "      <td>Both Aang and Zuko must learn the history of h...</td>\n",
       "      <td>Animation, Action, Adventure</td>\n",
       "      <td>['Ethan Spaulding', '| ', '    Stars:', 'Zach ...</td>\n",
       "      <td>9.5</td>\n",
       "    </tr>\n",
       "    <tr>\n",
       "      <th>8</th>\n",
       "      <td>Breaking Bad</td>\n",
       "      <td>2008</td>\n",
       "      <td>A high school chemistry teacher diagnosed with...</td>\n",
       "      <td>Crime, Drama, Thriller</td>\n",
       "      <td>['Bryan Cranston, ', 'Aaron Paul, ', 'Anna Gun...</td>\n",
       "      <td>9.5</td>\n",
       "    </tr>\n",
       "    <tr>\n",
       "      <th>9</th>\n",
       "      <td>Anne with an E</td>\n",
       "      <td>2017</td>\n",
       "      <td>Anne steps into the next chapter of her life.</td>\n",
       "      <td>Drama, Family</td>\n",
       "      <td>['Amanda Tapping', '| ', '    Stars:', 'Amybet...</td>\n",
       "      <td>9.5</td>\n",
       "    </tr>\n",
       "  </tbody>\n",
       "</table>\n",
       "</div>"
      ],
      "text/plain": [
       "                        title release_year  \\\n",
       "0             BoJack Horseman         2014   \n",
       "2                      Dexter         2006   \n",
       "3    JoJo's Bizarre Adventure         2012   \n",
       "4             Stranger Things         2016   \n",
       "5  Avatar: The Last Airbender         2005   \n",
       "1  Avatar: The Last Airbender         2005   \n",
       "6                        Dark         2017   \n",
       "7  Avatar: The Last Airbender         2005   \n",
       "8                Breaking Bad         2008   \n",
       "9              Anne with an E         2017   \n",
       "\n",
       "                                         description  \\\n",
       "0        BoJack reconnects with faces from his past.   \n",
       "2  In the Season One finale, Dexter follows the c...   \n",
       "3  In the aftermath of the battle between Risotto...   \n",
       "4  As Hopper braces to battle a monster, Dustin d...   \n",
       "5  As the Fire Nation continues its assault on th...   \n",
       "1  The heroes work together to stop Azula's destr...   \n",
       "6  Armed with a plan to prevent the apocalypse, J...   \n",
       "7  Both Aang and Zuko must learn the history of h...   \n",
       "8  A high school chemistry teacher diagnosed with...   \n",
       "9      Anne steps into the next chapter of her life.   \n",
       "\n",
       "                          genre  \\\n",
       "0      Animation, Comedy, Drama   \n",
       "2         Crime, Drama, Mystery   \n",
       "3  Animation, Action, Adventure   \n",
       "4        Drama, Fantasy, Horror   \n",
       "5  Animation, Action, Adventure   \n",
       "1  Animation, Action, Adventure   \n",
       "6         Crime, Drama, Mystery   \n",
       "7  Animation, Action, Adventure   \n",
       "8        Crime, Drama, Thriller   \n",
       "9                 Drama, Family   \n",
       "\n",
       "                                                cast  rating  \n",
       "0  ['Amy Winfrey', '| ', '    Stars:', 'Will Arne...     9.9  \n",
       "2  ['Michael Cuesta', '| ', '    Stars:', 'Michae...     9.6  \n",
       "3  ['Shinshû Fuji, ', 'Kellen Goff, ', 'Katsuyuki...     9.6  \n",
       "4  ['Matt Duffer, ', 'Ross Duffer', '| ', '    St...     9.6  \n",
       "5  ['Dave Filoni', '| ', '    Stars:', 'Zach Tyle...     9.6  \n",
       "1  ['Michael Dante DiMartino', '| ', '    Stars:'...     9.6  \n",
       "6  ['Baran bo Odar', '| ', '    Stars:', 'Louis H...     9.5  \n",
       "7  ['Ethan Spaulding', '| ', '    Stars:', 'Zach ...     9.5  \n",
       "8  ['Bryan Cranston, ', 'Aaron Paul, ', 'Anna Gun...     9.5  \n",
       "9  ['Amanda Tapping', '| ', '    Stars:', 'Amybet...     9.5  "
      ]
     },
     "execution_count": 24,
     "metadata": {},
     "output_type": "execute_result"
    }
   ],
   "source": [
    "#Creating a variable that contains a copy of the top 10 sorted records in descending order of their rating\n",
    "top_10_rated = df.sort_values(\"rating\",ascending=False).head(10).copy()\n",
    "\n",
    "#Displying the Top 10 rated Movies/Shows and their features\n",
    "print(\"The Top 10 Rated Movies are:\")\n",
    "top_10_rated"
   ]
  },
  {
   "cell_type": "markdown",
   "id": "51954e10",
   "metadata": {},
   "source": [
    "Displaying only the names of the Top 10 Movies/Shows"
   ]
  },
  {
   "cell_type": "code",
   "execution_count": 51,
   "id": "49c7bbed",
   "metadata": {},
   "outputs": [
    {
     "data": {
      "text/plain": [
       "0               BoJack Horseman\n",
       "2                        Dexter\n",
       "3      JoJo's Bizarre Adventure\n",
       "4               Stranger Things\n",
       "5    Avatar: The Last Airbender\n",
       "1    Avatar: The Last Airbender\n",
       "6                          Dark\n",
       "7    Avatar: The Last Airbender\n",
       "8                  Breaking Bad\n",
       "9                Anne with an E\n",
       "Name: title, dtype: object"
      ]
     },
     "execution_count": 51,
     "metadata": {},
     "output_type": "execute_result"
    }
   ],
   "source": [
    "top_10_rated[\"title\"]"
   ]
  },
  {
   "cell_type": "markdown",
   "id": "ce65ba16",
   "metadata": {},
   "source": [
    "As seen from the analysis above \"Avatar: The Last Airbender\" appeared more than once in the top 10 making it one of the highest rated shows as 3 of its episodes are in the Top 10."
   ]
  },
  {
   "cell_type": "markdown",
   "id": "a6bef817",
   "metadata": {},
   "source": [
    "-------------------------------------------------------------------------------------------------------------------------"
   ]
  },
  {
   "cell_type": "markdown",
   "id": "0a4bf742",
   "metadata": {},
   "source": [
    "# Number of Movies and Shows released each year\n",
    "\n",
    "Through this question we can analyse the netflix library's distribution in terms of the movies' release year such as which year's movies are more common in the dataset.\n",
    "\n",
    "Note: this is the release data of the movie/show itself and not the year on which it was added to the netflix library"
   ]
  },
  {
   "cell_type": "markdown",
   "id": "128d71d1",
   "metadata": {},
   "source": [
    "The number of movies and shows released each year:"
   ]
  },
  {
   "cell_type": "code",
   "execution_count": 27,
   "id": "c7d736f1",
   "metadata": {},
   "outputs": [
    {
     "data": {
      "text/plain": [
       "1932      1\n",
       "1941      1\n",
       "1945      3\n",
       "1946      2\n",
       "1947      1\n",
       "       ... \n",
       "2018    630\n",
       "2019    647\n",
       "2020    700\n",
       "2021    585\n",
       "2022    452\n",
       "Name: release_year, Length: 76, dtype: int64"
      ]
     },
     "execution_count": 27,
     "metadata": {},
     "output_type": "execute_result"
    }
   ],
   "source": [
    "#Creating a variable that contains the number of movies released each year and sorting them ascendingly\n",
    "releases_per_year = df['release_year'].value_counts().sort_index(ascending=True)\n",
    "releases_per_year"
   ]
  },
  {
   "cell_type": "markdown",
   "id": "d0cd897f",
   "metadata": {},
   "source": [
    "As seen the number of old movies in the dataset is very small compared to movies produced in the late 2000s"
   ]
  },
  {
   "cell_type": "markdown",
   "id": "35c63d96",
   "metadata": {},
   "source": [
    "                           "
   ]
  },
  {
   "cell_type": "markdown",
   "id": "56384fb4",
   "metadata": {},
   "source": [
    "The number of movies released each year in the 2000s:"
   ]
  },
  {
   "cell_type": "code",
   "execution_count": 28,
   "id": "7df10e3c",
   "metadata": {},
   "outputs": [
    {
     "data": {
      "text/plain": [
       "2000      9\n",
       "2001     28\n",
       "2002    101\n",
       "2003     16\n",
       "2004     85\n",
       "2005    135\n",
       "2006     64\n",
       "2007     52\n",
       "2008     47\n",
       "2009     59\n",
       "2010     81\n",
       "2011    110\n",
       "2012    163\n",
       "2013    200\n",
       "2014    253\n",
       "2015    277\n",
       "2016    368\n",
       "2017    475\n",
       "2018    630\n",
       "2019    647\n",
       "2020    700\n",
       "2021    585\n",
       "2022    452\n",
       "Name: release_year, dtype: int64"
      ]
     },
     "execution_count": 28,
     "metadata": {},
     "output_type": "execute_result"
    }
   ],
   "source": [
    "#Creating a variable that contains the number of movies/shows released each year from 2000 to 2022\n",
    "releases_per_year_2000s = releases_per_year[53:].sort_index(ascending=True)\n",
    "releases_per_year_2000s"
   ]
  },
  {
   "cell_type": "markdown",
   "id": "ea041209",
   "metadata": {},
   "source": [
    "                      "
   ]
  },
  {
   "cell_type": "markdown",
   "id": "c59f7bc2",
   "metadata": {},
   "source": [
    "Visualization of the movies per each year from 2000 to 2022"
   ]
  },
  {
   "cell_type": "code",
   "execution_count": 29,
   "id": "ec4bb358",
   "metadata": {},
   "outputs": [
    {
     "data": {
      "text/plain": [
       "<AxesSubplot:>"
      ]
     },
     "execution_count": 29,
     "metadata": {},
     "output_type": "execute_result"
    },
    {
     "data": {
      "image/png": "[encoded data removed]",
      "text/plain": [
       "<Figure size 432x288 with 1 Axes>"
      ]
     },
     "metadata": {
      "needs_background": "light"
     },
     "output_type": "display_data"
    }
   ],
   "source": [
    "#Creating a bar chart that displays the movies/shows released each year from 2000 to 2022 \n",
    "    #in ascending order of years\n",
    "releases_per_year_2000s.plot(kind='bar')"
   ]
  },
  {
   "cell_type": "markdown",
   "id": "17cf94ca",
   "metadata": {},
   "source": [
    "As seen from the above visualization, starting 2011, number of movies have been increasing drastically. Which means that the library is more focused on movies released starting 2011"
   ]
  },
  {
   "cell_type": "markdown",
   "id": "cbb213f1",
   "metadata": {},
   "source": [
    "                          "
   ]
  },
  {
   "cell_type": "markdown",
   "id": "71e61b67",
   "metadata": {},
   "source": [
    "Visualization of the releases per each year from 2000 to 2022 in Ascending Order"
   ]
  },
  {
   "cell_type": "code",
   "execution_count": 30,
   "id": "481a430c",
   "metadata": {},
   "outputs": [
    {
     "data": {
      "text/plain": [
       "<AxesSubplot:>"
      ]
     },
     "execution_count": 30,
     "metadata": {},
     "output_type": "execute_result"
    },
    {
     "data": {
      "image/png": "[encoded data removed]",
      "text/plain": [
       "<Figure size 432x288 with 1 Axes>"
      ]
     },
     "metadata": {
      "needs_background": "light"
     },
     "output_type": "display_data"
    }
   ],
   "source": [
    "#Creating a bar chart that displays the movies/shows released each year from 2000 to 2022 \n",
    "    #in ascending order of the number of releases\n",
    "releases_per_year_2000s[:].sort_values(ascending= True).plot(kind='bar') "
   ]
  },
  {
   "cell_type": "markdown",
   "id": "a91d3068",
   "metadata": {},
   "source": [
    "As seen from the above visualization, the year 2020 has the highest number of movies and shows released which were 700 movies and the year 2000 has the lowest number of movie released which are only 9 movies"
   ]
  },
  {
   "cell_type": "markdown",
   "id": "8c5891db",
   "metadata": {},
   "source": [
    "----------------------------------------------------------------------------------------------------------------------"
   ]
  },
  {
   "cell_type": "markdown",
   "id": "f10ceb71",
   "metadata": {},
   "source": [
    "# Genre with the highest rating\n",
    "\n",
    "In this question I will be checking the genres' popularity and what's the genre of the movies that received high ratings"
   ]
  },
  {
   "cell_type": "markdown",
   "id": "d874f1b2",
   "metadata": {},
   "source": [
    "Checking and displaying the most common genres among the netflix library"
   ]
  },
  {
   "cell_type": "code",
   "execution_count": 31,
   "id": "e0127cec",
   "metadata": {},
   "outputs": [
    {
     "name": "stdout",
     "output_type": "stream",
     "text": [
      "Number of Movies/Shows per each Genre:\n"
     ]
    },
    {
     "data": {
      "text/plain": [
       "Animation, Action, Adventure    450\n",
       "Comedy                          426\n",
       "Drama                           221\n",
       "Documentary                     204\n",
       "Crime, Drama, Mystery           184\n",
       "                               ... \n",
       "Action, Fantasy, Thriller         1\n",
       "Action, Comedy, War               1\n",
       "Film-Noir, Thriller               1\n",
       "Documentary, Comedy, Music        1\n",
       "Action, Adventure, Western        1\n",
       "Name: genre, Length: 455, dtype: int64"
      ]
     },
     "execution_count": 31,
     "metadata": {},
     "output_type": "execute_result"
    }
   ],
   "source": [
    "#Counting the number of shows/movies per each genre\n",
    "print(\"Number of Movies/Shows per each Genre:\")\n",
    "df['genre'].value_counts() "
   ]
  },
  {
   "cell_type": "code",
   "execution_count": 32,
   "id": "52fc520d",
   "metadata": {},
   "outputs": [
    {
     "name": "stdout",
     "output_type": "stream",
     "text": [
      "The 10 most common Genres: \n",
      "Animation, Action, Adventure    450\n",
      "Comedy                          426\n",
      "Drama                           221\n",
      "Documentary                     204\n",
      "Crime, Drama, Mystery           184\n",
      "Comedy, Drama                   180\n",
      "Action, Crime, Drama            138\n",
      "Comedy, Drama, Romance          124\n",
      "Drama, Romance                  122\n",
      "Animation, Adventure, Comedy    119\n",
      "Name: genre, dtype: int64\n"
     ]
    }
   ],
   "source": [
    "# Counting the 10 most common genres in the dataset\n",
    "most_common_genres = df['genre'].value_counts()[:10].sort_values(ascending=False) \n",
    "\n",
    "print(f\"The 10 most common Genres: \\n{most_common_genres}\")"
   ]
  },
  {
   "cell_type": "code",
   "execution_count": 33,
   "id": "9c3dc125",
   "metadata": {},
   "outputs": [
    {
     "data": {
      "text/plain": [
       "<AxesSubplot:>"
      ]
     },
     "execution_count": 33,
     "metadata": {},
     "output_type": "execute_result"
    },
    {
     "data": {
      "image/png": "[encoded data removed]",
      "text/plain": [
       "<Figure size 432x288 with 1 Axes>"
      ]
     },
     "metadata": {
      "needs_background": "light"
     },
     "output_type": "display_data"
    }
   ],
   "source": [
    "#Displaying a barchart of the 10 most common genres\n",
    "most_common_genres.plot(kind='bar') "
   ]
  },
  {
   "cell_type": "markdown",
   "id": "efc36c12",
   "metadata": {},
   "source": [
    "As seen from the visualization above \"Animation, Action, Adventure\" (450 Movies/Shows) is the most common genre in the netflix library closely followed by \"Comedy\" (426 Movies/Shows)"
   ]
  },
  {
   "cell_type": "code",
   "execution_count": 34,
   "id": "1fe4801c",
   "metadata": {},
   "outputs": [
    {
     "data": {
      "text/plain": [
       "Animation, Action, Adventure    4\n",
       "Crime, Drama, Mystery           2\n",
       "Crime, Drama, Thriller          1\n",
       "Drama, Fantasy, Horror          1\n",
       "Drama, Family                   1\n",
       "Animation, Comedy, Drama        1\n",
       "Name: genre, dtype: int64"
      ]
     },
     "execution_count": 34,
     "metadata": {},
     "output_type": "execute_result"
    }
   ],
   "source": [
    "#The genres of the top 10 rated movies/shows\n",
    "top_10_genre = top_10_rated['genre'].value_counts() \n",
    "top_10_genre"
   ]
  },
  {
   "cell_type": "code",
   "execution_count": 35,
   "id": "c12ca6a8",
   "metadata": {},
   "outputs": [
    {
     "name": "stdout",
     "output_type": "stream",
     "text": [
      "Genres of the Top 10 rated Movies/Shows on Netflix\n"
     ]
    },
    {
     "data": {
      "text/plain": [
       "<AxesSubplot:>"
      ]
     },
     "execution_count": 35,
     "metadata": {},
     "output_type": "execute_result"
    },
    {
     "data": {
      "image/png": "[encoded data removed]",
      "text/plain": [
       "<Figure size 432x288 with 1 Axes>"
      ]
     },
     "metadata": {
      "needs_background": "light"
     },
     "output_type": "display_data"
    }
   ],
   "source": [
    "#Displaying a barchart of the genres of the Top 10 Movies\n",
    "print(\"Genres of the Top 10 rated Movies/Shows on Netflix\")\n",
    "top_10_genre.plot(kind='bar') "
   ]
  },
  {
   "cell_type": "markdown",
   "id": "f6c5ed8b",
   "metadata": {},
   "source": [
    "As seen from the above visualization again \"Animation, Action, Adventure\" is the genre with the highest rated movies, however unlike in terms of which is most common its followed by \"Crime, Drama, Mystery\" which indicates that more movies of the genre \"Crime, Drama, Mystery\" should be produced or added by Netflix. Also for the rest of the genres of the top 10 movies they are not even in the 10 most common genres which can also lead to the sugesstion of producing or adding movies of this genre as they are the most liked."
   ]
  },
  {
   "cell_type": "code",
   "execution_count": 36,
   "id": "da5e34b2",
   "metadata": {},
   "outputs": [
    {
     "data": {
      "text/html": [
       "<div>\n",
       "<style scoped>\n",
       "    .dataframe tbody tr th:only-of-type {\n",
       "        vertical-align: middle;\n",
       "    }\n",
       "\n",
       "    .dataframe tbody tr th {\n",
       "        vertical-align: top;\n",
       "    }\n",
       "\n",
       "    .dataframe thead th {\n",
       "        text-align: right;\n",
       "    }\n",
       "</style>\n",
       "<table border=\"1\" class=\"dataframe\">\n",
       "  <thead>\n",
       "    <tr style=\"text-align: right;\">\n",
       "      <th></th>\n",
       "      <th>title</th>\n",
       "      <th>release_year</th>\n",
       "      <th>description</th>\n",
       "      <th>genre</th>\n",
       "      <th>cast</th>\n",
       "      <th>rating</th>\n",
       "    </tr>\n",
       "  </thead>\n",
       "  <tbody>\n",
       "    <tr>\n",
       "      <th>0</th>\n",
       "      <td>BoJack Horseman</td>\n",
       "      <td>2014</td>\n",
       "      <td>BoJack reconnects with faces from his past.</td>\n",
       "      <td>Animation, Comedy, Drama</td>\n",
       "      <td>['Amy Winfrey', '| ', '    Stars:', 'Will Arne...</td>\n",
       "      <td>9.9</td>\n",
       "    </tr>\n",
       "  </tbody>\n",
       "</table>\n",
       "</div>"
      ],
      "text/plain": [
       "             title release_year                                  description  \\\n",
       "0  BoJack Horseman         2014  BoJack reconnects with faces from his past.   \n",
       "\n",
       "                      genre  \\\n",
       "0  Animation, Comedy, Drama   \n",
       "\n",
       "                                                cast  rating  \n",
       "0  ['Amy Winfrey', '| ', '    Stars:', 'Will Arne...     9.9  "
      ]
     },
     "execution_count": 36,
     "metadata": {},
     "output_type": "execute_result"
    }
   ],
   "source": [
    "#Displaying show with the highest rating\n",
    "top_show = top_10_rated.loc[top_10_rated[\"rating\"] == top_10_rated[\"rating\"].max()]\n",
    "top_show"
   ]
  },
  {
   "cell_type": "code",
   "execution_count": 37,
   "id": "66a55cf7",
   "metadata": {},
   "outputs": [
    {
     "name": "stdout",
     "output_type": "stream",
     "text": [
      "The Genre of the highest rated show is:  \n",
      "0    Animation, Comedy, Drama\n",
      "Name: genre, dtype: object\n"
     ]
    }
   ],
   "source": [
    "print(f\"The Genre of the highest rated show is:  \\n{top_show.genre}\")"
   ]
  },
  {
   "cell_type": "markdown",
   "id": "aa873a59",
   "metadata": {},
   "source": [
    "As seen, \"Animation, Action and Adventure\" is the most common genre among all movies/shows, the most popular among the top 10 rated movies and it's the genre of the top rated movie"
   ]
  },
  {
   "cell_type": "markdown",
   "id": "f80ccb5b",
   "metadata": {},
   "source": [
    "-------------------------------------------------------------------------------------------------------------------------"
   ]
  },
  {
   "cell_type": "markdown",
   "id": "9adac25d",
   "metadata": {},
   "source": [
    "# Content-based Recommendations\n",
    "\n",
    "- The following section contains recommendations based on the movie's Description, Genre or Cast.\n",
    "- To get the recommendations, the follwoing steps were implemented:\n",
    "    - Convert the data to a matrix of TF-IDF features in order to be able to conduct cosine similarity. \n",
    "    - Apply Cosine Similarity to the TF-IDF matrix to measure the similarity between the input movie and all other records.\n",
    "    - A class for each type of recommendation was created in which \n",
    "        - A function to return the top 10 similar movies to input is implemented\n",
    "    "
   ]
  },
  {
   "cell_type": "code",
   "execution_count": 38,
   "id": "2c85492a",
   "metadata": {},
   "outputs": [],
   "source": [
    "# Initialize a TFIDF object that will be used for the recommendations\n",
    "vec = TfidfVectorizer()"
   ]
  },
  {
   "cell_type": "markdown",
   "id": "2ed88c50",
   "metadata": {},
   "source": [
    "# Recommend 10 Movies similar to input in terms of Description\n",
    "\n",
    "In  this question I will be taking an input (Movie Name) and compare the description of this movie to all the dataset and identify 10 most similar movies to the description of this movie name."
   ]
  },
  {
   "cell_type": "markdown",
   "id": "62d0e550",
   "metadata": {},
   "source": [
    "Comparing the movie to all the dataset through cosine similarity"
   ]
  },
  {
   "cell_type": "code",
   "execution_count": 39,
   "id": "6a5cf873",
   "metadata": {},
   "outputs": [],
   "source": [
    "#Fit the TFIDF to the 'description' data to create a TFIDF representation\n",
    "desc_tfidf=vec.fit_transform(df['description']).toarray()\n",
    "\n",
    "#Compute the cosine similarities between all descriptions in the dataset\n",
    "desc_similarity = cosine_similarity(desc_tfidf)"
   ]
  },
  {
   "cell_type": "markdown",
   "id": "902636f7",
   "metadata": {},
   "source": [
    "Recommending 10 most similar movies"
   ]
  },
  {
   "cell_type": "code",
   "execution_count": 40,
   "id": "5de942b0",
   "metadata": {},
   "outputs": [],
   "source": [
    "#Recommendation based on Description class\n",
    "class desc_recommender:\n",
    "    \n",
    "    #Function to compute 10 most similar movies according to description\n",
    "    def desc_similar_10_movies(self,movie):\n",
    "      \n",
    "      #Index of the input movie\n",
    "      movie_index=df[df['title']==movie].index[0] \n",
    "    \n",
    "      #Returning and Sorting 10 most similar movies to the input movie in terms of description\n",
    "      desc_similar_movies=sorted(enumerate(desc_similarity[movie_index]),reverse=True,key=lambda x :x[1])[1:11]\n",
    "\n",
    "      c=0  \n",
    "      for i in desc_similar_movies:\n",
    "        similar_movies=df.iloc[i[0]] \n",
    "        if len(similar_movies)>0:\n",
    "            c=c+1\n",
    "            print(c,\")\" ,similar_movies[0])                "
   ]
  },
  {
   "cell_type": "markdown",
   "id": "cf5d5e7e",
   "metadata": {},
   "source": [
    "Displaying the top 10 similar movies"
   ]
  },
  {
   "cell_type": "code",
   "execution_count": 41,
   "id": "35ce039d",
   "metadata": {},
   "outputs": [
    {
     "name": "stdout",
     "output_type": "stream",
     "text": [
      "10 Recommended Movies/Shows with a similar plot as The Crown: \n",
      "1 ) The Crown\n",
      "2 ) Downton Abbey\n",
      "3 ) Kevin Hart: Don't F**k This Up\n",
      "4 ) Chasing Trane: The John Coltrane Documentary\n",
      "5 ) Reign\n",
      "6 ) When They Cry\n",
      "7 ) 7 Days Out\n",
      "8 ) The Tudors\n",
      "9 ) What's Wrong with Secretary Kim\n",
      "10 ) Rebellion\n"
     ]
    }
   ],
   "source": [
    "recom_1 = desc_recommender()\n",
    "print(\"10 Recommended Movies/Shows with a similar plot as The Crown: \")\n",
    "recom_1.desc_similar_10_movies('The Crown')"
   ]
  },
  {
   "cell_type": "markdown",
   "id": "f8c91ddb",
   "metadata": {},
   "source": [
    "Displaying the top 10 similar movies"
   ]
  },
  {
   "cell_type": "code",
   "execution_count": 42,
   "id": "c476c799",
   "metadata": {},
   "outputs": [
    {
     "name": "stdout",
     "output_type": "stream",
     "text": [
      "10 Recommended Movies/Shows with a similar plot as How I met you Mother: \n",
      "1 ) Hope Gap\n",
      "2 ) Dogs\n",
      "3 ) Richie Rich\n",
      "4 ) Theo Von: Regular People\n",
      "5 ) Historia de un clan\n",
      "6 ) The Land Before Time XIV: Journey of the Brave\n",
      "7 ) Neumatt\n",
      "8 ) Vinland Saga\n",
      "9 ) Avatar: The Last Airbender\n",
      "10 ) Stranger Things\n"
     ]
    }
   ],
   "source": [
    "recom_2 = desc_recommender()\n",
    "print(\"10 Recommended Movies/Shows with a similar plot as How I met you Mother: \")\n",
    "recom_2.desc_similar_10_movies(\"How I Met Your Mother\")"
   ]
  },
  {
   "cell_type": "markdown",
   "id": "b93daeda",
   "metadata": {},
   "source": [
    "-------------------------------------------------------------------------------------------------------------------------"
   ]
  },
  {
   "cell_type": "markdown",
   "id": "b0f1886b",
   "metadata": {},
   "source": [
    "# Recommend 10 Movies similar to input in terms of Genre\n",
    "\n",
    "In  this question I will be taking an input (Movie Name) and compare the genre of this movie to all the dataset and identify 10 most similar movies with the same or close genre to this movie name."
   ]
  },
  {
   "cell_type": "markdown",
   "id": "91a54958",
   "metadata": {},
   "source": [
    "Comparing the movie to all the dataset through cosine similarity"
   ]
  },
  {
   "cell_type": "code",
   "execution_count": 43,
   "id": "53fa5cb0",
   "metadata": {},
   "outputs": [],
   "source": [
    "#Fit the TFIDF to the 'genre' data to create a TFIDF representation\n",
    "genre_tfidf=vec.fit_transform(df['genre']).toarray()\n",
    "\n",
    "#Compute the cosine similarities between all genres in the dataset\n",
    "genre_similarity=cosine_similarity(genre_tfidf)"
   ]
  },
  {
   "cell_type": "markdown",
   "id": "21084812",
   "metadata": {},
   "source": [
    "Recommending 10 most similar movies"
   ]
  },
  {
   "cell_type": "code",
   "execution_count": 44,
   "id": "98772b79",
   "metadata": {},
   "outputs": [],
   "source": [
    "#Recommendation based on genre Class\n",
    "class genre_recommender:\n",
    "    \n",
    "    #Function to compute 10 most similar movies according to genre\n",
    "    def genre_similar_10_movies(self,movie):\n",
    "         \n",
    "      movie_index=df[df['title']==movie].index[0]\n",
    "    \n",
    "      #Returning and Sorting 10 most similar movies to the input movie in terms of genre  \n",
    "      genre_similar_movies=sorted(enumerate(genre_similarity[movie_index]),reverse=True,key=lambda x :x[1])[1:11]\n",
    "\n",
    "      c=0  \n",
    "      for i in genre_similar_movies:\n",
    "          similar_movies=df.iloc[i[0]] \n",
    "          if len(similar_movies)>0:\n",
    "              c=c+1\n",
    "              print(c,\")\" ,similar_movies[0])\n",
    "                "
   ]
  },
  {
   "cell_type": "markdown",
   "id": "84e779bf",
   "metadata": {},
   "source": [
    "Displaying the top 10 similar movies"
   ]
  },
  {
   "cell_type": "code",
   "execution_count": 45,
   "id": "3bf6e934",
   "metadata": {},
   "outputs": [
    {
     "name": "stdout",
     "output_type": "stream",
     "text": [
      "10 Recommended Movies/Shows with similar genre to The Crown: \n",
      "1 ) The Crown\n",
      "2 ) Luis Miguel: The Series\n",
      "3 ) Medici\n",
      "4 ) Versailles\n",
      "5 ) Borgia\n",
      "6 ) A Man for All Seasons\n",
      "7 ) Malcolm X\n",
      "8 ) Nise: The Heart of Madness\n",
      "9 ) The Boy Who Harnessed the Wind\n",
      "10 ) Self Made: Inspired by the Life of Madam C.J. Walker\n"
     ]
    }
   ],
   "source": [
    "#Instinitating an instance from class genre_recommender()\n",
    "recom_3 = genre_recommender()\n",
    "\n",
    "print(\"10 Recommended Movies/Shows with similar genre to The Crown: \")\n",
    "\n",
    "#Calling the method genre_similar_10_movies on the movie\n",
    "recom_3.genre_similar_10_movies(\"The Crown\")"
   ]
  },
  {
   "cell_type": "markdown",
   "id": "c431ca9f",
   "metadata": {},
   "source": [
    "Displaying the top 10 similar movies"
   ]
  },
  {
   "cell_type": "code",
   "execution_count": 46,
   "id": "c958feb1",
   "metadata": {},
   "outputs": [
    {
     "name": "stdout",
     "output_type": "stream",
     "text": [
      "10 Recommended Movies/Shows with similar genre to How I met you Mother: \n",
      "1 ) Friends\n",
      "2 ) Hometown Cha-Cha-Cha\n",
      "3 ) How I Met Your Mother\n",
      "4 ) Little Things\n",
      "5 ) Put Your Head on My Shoulder\n",
      "6 ) Fated to Love You\n",
      "7 ) New Girl\n",
      "8 ) Good Morning Call\n",
      "9 ) Will & Grace\n",
      "10 ) Love Per Square Foot\n"
     ]
    }
   ],
   "source": [
    "#Instinitating an instance from class genre_recommender()\n",
    "recom_4 = genre_recommender()\n",
    "\n",
    "print(\"10 Recommended Movies/Shows with similar genre to How I met you Mother: \")\n",
    "\n",
    "#Calling the method genre_similar_10_movies on the movie\n",
    "recom_4.genre_similar_10_movies(\"How I Met Your Mother\")"
   ]
  },
  {
   "cell_type": "markdown",
   "id": "218e1c08",
   "metadata": {},
   "source": [
    "-------------------------------------------------------------------------------------------------------------------------"
   ]
  },
  {
   "cell_type": "markdown",
   "id": "1b3f1526",
   "metadata": {},
   "source": [
    "# Recommend 10 Movies with similar Cast to the input\n",
    "\n",
    "In  this question I will be taking an input (Movie Name) and compare the cast of this movie to all the dataset and identify 10 most similar movies with the same cast or some of the cast members of this movie name."
   ]
  },
  {
   "cell_type": "markdown",
   "id": "2b519831",
   "metadata": {},
   "source": [
    "Comparing the movie to all the dataset through cosine similarity"
   ]
  },
  {
   "cell_type": "code",
   "execution_count": 47,
   "id": "dddfecf6",
   "metadata": {},
   "outputs": [],
   "source": [
    "#Fit the TFIDF to the 'cast' data to create a TFIDF representation\n",
    "cast_tfidf=vec.fit_transform(df['cast']).toarray()\n",
    "\n",
    "#Compute the cosine similarities between all cast info in the dataset\n",
    "cast_similarity = cosine_similarity(cast_tfidf)"
   ]
  },
  {
   "cell_type": "markdown",
   "id": "0a0ee2c1",
   "metadata": {},
   "source": [
    "Recommending 10 most similar movies"
   ]
  },
  {
   "cell_type": "code",
   "execution_count": 48,
   "id": "4b0631c7",
   "metadata": {},
   "outputs": [],
   "source": [
    "#Recommendation based on cast Class\n",
    "class cast_recommender:\n",
    "    \n",
    "    #Function to compute 10 most similar movies according to genre\n",
    "    def cast_similar_10_movies(self,movie):\n",
    "         \n",
    "      movie_index=df[df['title']==movie].index[0]\n",
    "    \n",
    "      #Returning and Sorting 10 most similar movies to the input movie in terms of movie cast  \n",
    "      cast_similar_movies=sorted(enumerate(cast_similarity[movie_index]),reverse=True,key=lambda x :x[1])[1:11]\n",
    "\n",
    "      c=0  \n",
    "      for i in cast_similar_movies:\n",
    "          similar_movies=df.iloc[i[0]] \n",
    "          if len(similar_movies)>0:\n",
    "              c=c+1\n",
    "              print(c,\")\" ,similar_movies[0])\n",
    "                "
   ]
  },
  {
   "cell_type": "markdown",
   "id": "20a7cb00",
   "metadata": {},
   "source": [
    "Displaying the top 10 similar movies"
   ]
  },
  {
   "cell_type": "code",
   "execution_count": 49,
   "id": "951e9994",
   "metadata": {},
   "outputs": [
    {
     "name": "stdout",
     "output_type": "stream",
     "text": [
      "10 Recommended Movies/Shows with similar cast to The Crown: \n",
      "1 ) The Crown\n",
      "2 ) Locke\n",
      "3 ) Broadchurch\n",
      "4 ) The 69th Primetime Emmy Awards\n",
      "5 ) Flowers\n",
      "6 ) The Lost Daughter\n",
      "7 ) The Girl in the Spider's Web\n",
      "8 ) First Match\n",
      "9 ) America: The Motion Picture\n",
      "10 ) Eli\n"
     ]
    }
   ],
   "source": [
    "#Instinitating an instance from class cast_recommender()\n",
    "recom_5 = cast_recommender()\n",
    "\n",
    "print(\"10 Recommended Movies/Shows with similar cast to The Crown: \")\n",
    "\n",
    "#Calling the method cast_similar_10_movies on the movie\n",
    "recom_5.cast_similar_10_movies('The Crown')"
   ]
  },
  {
   "cell_type": "markdown",
   "id": "98ed5824",
   "metadata": {},
   "source": [
    "Displaying the top 10 similar movies"
   ]
  },
  {
   "cell_type": "code",
   "execution_count": 50,
   "id": "fb87731c",
   "metadata": {},
   "outputs": [
    {
     "name": "stdout",
     "output_type": "stream",
     "text": [
      "10 Recommended Movies/Shows with similar cast as How I met your Mother\n",
      "1 ) A Series of Unfortunate Events\n",
      "2 ) Friends from College\n",
      "3 ) Results\n",
      "4 ) Still Laugh-In: The Stars Celebrate\n",
      "5 ) Gone Girl\n",
      "6 ) Uncoupled\n",
      "7 ) Cloudy with a Chance of Meatballs 2\n",
      "8 ) The Discovery\n",
      "9 ) Windfall\n",
      "10 ) Bad Teacher\n"
     ]
    }
   ],
   "source": [
    "#Instinitating an instance from class cast_recommender()\n",
    "recom_6= cast_recommender()\n",
    "\n",
    "print(\"10 Recommended Movies/Shows with similar cast as How I met your Mother\")\n",
    "\n",
    "#Calling the method cast_similar_10_movies on the movie\n",
    "recom_6.cast_similar_10_movies(\"How I Met Your Mother\")"
   ]
  },
  {
   "cell_type": "markdown",
   "id": "ea6bde0e",
   "metadata": {},
   "source": [
    "-------------------------------------------------------------------------------------------------------------------------"
   ]
  },
  {
   "cell_type": "markdown",
   "id": "7f394551",
   "metadata": {},
   "source": [
    "# Conclusion\n",
    "\n",
    "\n",
    "\n",
    "\n",
    "Based on the previous analysis we can conclude that:\n",
    "- Majority of the top 10 rated movies were of the genre \"Animation, Action, Adventure\" so Netflix can add or even produce movies of this genre since its the highest rated.\n",
    "\n",
    "- The genre \"Crime, Drama, Mystery\" was also one of the genre with highest rated movies however its not in the 10 most common genres so more movies of this genre should be added to the library or produced.\n",
    "\n",
    "- There are very few 90s movies so more of them can be added to the library which can also attract more audience (Those interested in the 90s movies).\n",
    "\n",
    "- In my opnion the most accurate content-based recommender is the one based on the genre rather than the description.\n",
    "  For future recommendation NLP can be implemented to produce more accurate results for the description-based recommender.\n",
    "  \n",
    "- For future analysis the dataset could be splitte into Movies and TV shows for more elaborate analysis.\n",
    " "
   ]
  }
 ],
 "metadata": {
  "kernelspec": {
   "display_name": "Python 3 (ipykernel)",
   "language": "python",
   "name": "python3"
  },
  "language_info": {
   "codemirror_mode": {
    "name": "ipython",
    "version": 3
   },
   "file_extension": ".py",
   "mimetype": "text/x-python",
   "name": "python",
   "nbconvert_exporter": "python",
   "pygments_lexer": "ipython3",
   "version": "3.10.9"
  }
 },
 "nbformat": 4,
 "nbformat_minor": 5
}
